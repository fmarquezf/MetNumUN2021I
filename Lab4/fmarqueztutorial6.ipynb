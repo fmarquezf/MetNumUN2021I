{
  "nbformat": 4,
  "nbformat_minor": 0,
  "metadata": {
    "kernelspec": {
      "display_name": "Python 3",
      "language": "python",
      "name": "python3"
    },
    "language_info": {
      "codemirror_mode": {
        "name": "ipython",
        "version": 3
      },
      "file_extension": ".py",
      "mimetype": "text/x-python",
      "name": "python",
      "nbconvert_exporter": "python",
      "pygments_lexer": "ipython3",
      "version": "3.6.4"
    },
    "colab": {
      "name": "fmarqueztutorial6.ipynb",
      "provenance": [],
      "collapsed_sections": [],
      "toc_visible": true,
      "include_colab_link": true
    }
  },
  "cells": [
    {
      "cell_type": "markdown",
      "metadata": {
        "id": "view-in-github",
        "colab_type": "text"
      },
      "source": [
        "<a href=\"https://colab.research.google.com/github/fmarquezf/MetNumUN2021I/blob/main/Lab4/fmarqueztutorial6.ipynb\" target=\"_parent\"><img src=\"https://colab.research.google.com/assets/colab-badge.svg\" alt=\"Open In Colab\"/></a>"
      ]
    },
    {
      "cell_type": "markdown",
      "metadata": {
        "id": "uUVbeDV5qiiG"
      },
      "source": [
        "# Rate of Return, Mean and Variance"
      ]
    },
    {
      "cell_type": "markdown",
      "metadata": {
        "id": "2z8feDZfqk9E"
      },
      "source": [
        "## Introduction\n",
        "In this chapter we are going to introduce some basic concepts in quantitative finance. We start with rate of return, mean and variance. You may think it's simple to calculate these values, however, there are number of different methods to calculate them. It's important to choose the appropriate calculation methods case by case."
      ]
    },
    {
      "cell_type": "markdown",
      "metadata": {
        "id": "-bM2ODtSqr80"
      },
      "source": [
        "## Rate of Return"
      ]
    },
    {
      "cell_type": "markdown",
      "metadata": {
        "id": "NjzR7uwBqzHr"
      },
      "source": [
        "### Single-period Return\n",
        "The single-period rate of return can be calculated as following:\n",
        "\n",
        "$$r= \\frac{p_t}{p_0} - 1 = \\frac{p_t-p_0}{p_0}$$\n",
        "\n",
        "Where r is the rate of return, $p_t$ is the asset price at time $t$, and $p_0$ is the asset price at time 0."
      ]
    },
    {
      "cell_type": "code",
      "metadata": {
        "colab": {
          "base_uri": "https://localhost:8080/"
        },
        "id": "iV_z5ySXnUwy",
        "outputId": "d140c56b-45d6-4769-e88b-3283f5695b7f"
      },
      "source": [
        "import numpy as np\n",
        "rate_return = 102.0/100 - 1\n",
        "print(rate_return)"
      ],
      "execution_count": null,
      "outputs": [
        {
          "output_type": "stream",
          "text": [
            "0.020000000000000018\n"
          ],
          "name": "stdout"
        }
      ]
    },
    {
      "cell_type": "markdown",
      "metadata": {
        "id": "WbIZeyfPrNrS"
      },
      "source": [
        "Let's say we bought a stock at $\\$$100, and half a year later it will grow to $\\$$102. A year later the price will come to $\\$$104. How to calculate our total return? Well, we can either deem it as a single-period:\n",
        "\n",
        "$$r=\\frac{104}{100}-1=0.04$$"
      ]
    },
    {
      "cell_type": "markdown",
      "metadata": {
        "id": "xPh0TUpYreL0"
      },
      "source": [
        "or as a two-stage period:\n",
        "\n",
        "$$r=(1+r1)*(1+r2)-1=\\frac{102}{100}*\\frac{104}{102}-1=0.04$$"
      ]
    },
    {
      "cell_type": "markdown",
      "metadata": {
        "id": "3vB0vsmcrsvC"
      },
      "source": [
        "Here we make calculations twice a year. It's called semi-annual compounding. How about quarterly compounding? Let's assume the stock prices at the end of each quarter are $p_1,p_2,p_3,p_4$ respectively.\n",
        "\n",
        "$$r=(1+r1)*(1+r2)*(1+r3)*(1+r4)-1$$"
      ]
    },
    {
      "cell_type": "markdown",
      "metadata": {
        "id": "RZTgJ33Arz2j"
      },
      "source": [
        "The rate of return we calculate here is called **cumulative return** or **overall return**. It measures the total return of this asset over a period of time.\n",
        "\n",
        "Now consider the following situation: we have two strategies: strategy A and strategy B. We backtested strategy A for 1 years and the cumulative return is 20%, while we backtested strategy B for 3 months(one quarter) and the cumulative return is 6%. Which strategy has a high rate of return? Our commonly used method is to convert all the returns into **compounding annual return**, regardless of the investing horizon of each strategy. We can compare the returns of strategies with different time horizon now. Since there are four quarters in a year,the annual return of strategy B is\n"
      ]
    },
    {
      "cell_type": "markdown",
      "metadata": {
        "id": "fTCqDizzurni"
      },
      "source": [
        "$$(1+0.06)^4=1+r$$\n",
        " \n",
        "$$r=0.262$$\n",
        "Strategy B has an higher compounding annual return when we compare 26% with 20%."
      ]
    },
    {
      "cell_type": "markdown",
      "metadata": {
        "id": "KpRy_QG3uzkG"
      },
      "source": [
        "###Logarithm Return\n",
        "\n",
        "In the above example, strategy A has 6% return over three months. Nominally, the annual return would be 4*6% = 24%. This nominal annual interest rate is called the stated annual interest rate. It is calculated as the periodic interest rate times the number of periods per year. It works according to the simple interest and does not take into account the compounding periods, while the effective annual interest rate is 26% as we calculated above and it does account for intra-year compounding. The effective annual interest rate is an essential tool that allows the evaluation of the real return on investment. If we assume the number of compounding periods in one year is n, the formula to convert the stated annual interest rate to the effective annual interest rate is"
      ]
    },
    {
      "cell_type": "markdown",
      "metadata": {
        "id": "9-blVly2u9F5"
      },
      "source": [
        "$$r_{effective}=(1+ \\frac{r_{nominal}}{n})^n-1$$\n",
        "Now imagine the price of asset is changing every second or even every millisecond, the period of compounding n approaches infinite. This is called **continuous compounding**. The calculation formula is given below:"
      ]
    },
    {
      "cell_type": "markdown",
      "metadata": {
        "id": "Lm8zRImf2e_A"
      },
      "source": [
        "$$\\lim_{n\\rightarrow∞}(1+\\frac{r}{n})^n=e^r$$\n",
        "From the above limitation equation, we know that if we assume continuous compounding:"
      ]
    },
    {
      "cell_type": "markdown",
      "metadata": {
        "id": "WJekHIy02-z_"
      },
      "source": [
        "$$e^{r_{nominal}}=1+r_{effective}=\\frac{p_t}{p_0}$$\n",
        "Then we take $ln$ on both side of the equation:"
      ]
    },
    {
      "cell_type": "markdown",
      "metadata": {
        "id": "jOpcGKfT3mfO"
      },
      "source": [
        "$$r_{nominal}=ln\\frac{p_t}{p_0}=lnp_t-lnp_0$$\n",
        "Here we got the **logarithmic return**, or **continuously compounded return**. This return is the nominal return with the interest compounding every millisecond. To see how it is close to effective interest rate, recall the equation above:"
      ]
    },
    {
      "cell_type": "markdown",
      "metadata": {
        "id": "3PJz5rDD4A2-"
      },
      "source": [
        "$$e^{r_{nominal}}=1+r_{effective}$$\n",
        "then we have"
      ]
    },
    {
      "cell_type": "markdown",
      "metadata": {
        "id": "yM0JapUT4LzO"
      },
      "source": [
        "$$r_{effective}=e^{r_{nominal}}-1 \\approx r_{nominal}$$\n",
        "where the second equality holds due to Taylor Expansion and the interest rate being small. This is frequently used when calculating returns, because once we take the logarithm of asset prices, we can calculate the logarithm return by simply doing a subtraction. Here we use Apple stock prices as an example:"
      ]
    },
    {
      "cell_type": "code",
      "metadata": {
        "colab": {
          "base_uri": "https://localhost:8080/"
        },
        "id": "SJzlL0w0nUw8",
        "outputId": "16ce2567-767d-4083-a226-c5bd0f9a7b6f"
      },
      "source": [
        "import numpy as np\n",
        "import pandas_datareader as pdr\n",
        "aapl_table = pdr.get_data_yahoo('AAPL')\n",
        "aapl = aapl_table.loc['2017-3',['Open','Close']]\n",
        "aapl['log_price'] = np.log(aapl.Close)\n",
        "aapl['log_return'] = aapl.log_price.diff()\n",
        "print(aapl)"
      ],
      "execution_count": null,
      "outputs": [
        {
          "output_type": "stream",
          "text": [
            "                 Open      Close  log_price  log_return\n",
            "Date                                                   \n",
            "2017-03-01  34.472500  34.947498   3.553847         NaN\n",
            "2017-03-02  35.000000  34.740002   3.547892   -0.005955\n",
            "2017-03-03  34.695000  34.945000   3.553775    0.005884\n",
            "2017-03-06  34.842499  34.834999   3.550623   -0.003153\n",
            "2017-03-07  34.764999  34.880001   3.551914    0.001291\n",
            "2017-03-08  34.737499  34.750000   3.548180   -0.003734\n",
            "2017-03-09  34.685001  34.669998   3.545875   -0.002305\n",
            "2017-03-10  34.812500  34.785000   3.549186    0.003312\n",
            "2017-03-13  34.712502  34.799999   3.549617    0.000431\n",
            "2017-03-14  34.825001  34.747501   3.548108   -0.001510\n",
            "2017-03-15  34.852501  35.115002   3.558628    0.010521\n",
            "2017-03-16  35.180000  35.172501   3.560265    0.001636\n",
            "2017-03-17  35.250000  34.997501   3.555277   -0.004988\n",
            "2017-03-20  35.099998  35.365002   3.565723    0.010446\n",
            "2017-03-21  35.527500  34.959999   3.554205   -0.011518\n",
            "2017-03-22  34.962502  35.355000   3.565440    0.011235\n",
            "2017-03-23  35.314999  35.230000   3.561898   -0.003542\n",
            "2017-03-24  35.375000  35.160000   3.559909   -0.001989\n",
            "2017-03-27  34.847500  35.220001   3.561614    0.001705\n",
            "2017-03-28  35.227501  35.950001   3.582129    0.020515\n",
            "2017-03-29  35.919998  36.029999   3.584352    0.002223\n",
            "2017-03-30  36.047501  35.982498   3.583033   -0.001319\n",
            "2017-03-31  35.930000  35.915001   3.581155   -0.001878\n"
          ],
          "name": "stdout"
        }
      ]
    },
    {
      "cell_type": "markdown",
      "metadata": {
        "id": "BEoN8AJ_5Fz_"
      },
      "source": [
        "Here we calculated the daily logarithmic return of Apple stock. Given that we know the daily logarithm return of in this month, we can calculate the monthly return by simply sum all the daily returns up."
      ]
    },
    {
      "cell_type": "code",
      "metadata": {
        "colab": {
          "base_uri": "https://localhost:8080/"
        },
        "id": "VqaUBzHdnUw-",
        "outputId": "f3dd00ef-ffff-402c-dd27-cfe29112a925"
      },
      "source": [
        "month_return = aapl.log_return.sum()\n",
        "print(month_return)"
      ],
      "execution_count": null,
      "outputs": [
        {
          "output_type": "stream",
          "text": [
            "0.02730817368335936\n"
          ],
          "name": "stdout"
        }
      ]
    },
    {
      "cell_type": "markdown",
      "metadata": {
        "id": "PGupcD635ICt"
      },
      "source": [
        "It may sounds incorrect to sum up the daily returns, but we can prove that it's mathematically correct. Let's assume the stock prices in a period of time are represented by $[p_0,p_1,p_2,p_3.....p_n]$. Then the cumulative rate of return is given by:\n",
        "\n"
      ]
    },
    {
      "cell_type": "markdown",
      "metadata": {
        "id": "uhQLuZew5Scm"
      },
      "source": [
        "$$1+r_{effective}\\approx 1+r_{nominal}=ln\\frac{p_t}{p_0}=ln\\frac{p_t}{p_{t-1}}+ln\\frac{p_{t-1}}{p_{t-2}}+......+ln\\frac{p_1}{p_0}$$\n",
        "According to the equation above, we can simple sum up each logarithmic return in a period to get the cumulative return. The convenience of this method is also one of the reasons why we use logarithmic return in quantitative finance."
      ]
    },
    {
      "cell_type": "markdown",
      "metadata": {
        "id": "mOLKc_lJ58Mf"
      },
      "source": [
        "## Mean"
      ]
    },
    {
      "cell_type": "markdown",
      "metadata": {
        "id": "uhcba4Gc59xu"
      },
      "source": [
        "### Arithmetic Mean\n",
        "Mean is a measure of the central tendency of a data series. It capture the key character of the distribution of the data series. When we talk about mean, by default it refers to **arithmetic mean**. It's defined as the sum of the values divided by the number of observations:"
      ]
    },
    {
      "cell_type": "markdown",
      "metadata": {
        "id": "yY8WVTax6JT9"
      },
      "source": [
        "$$\\mu =\\frac{\\sum^{n}_{i=1}x_i}{n}$$\n",
        "Where $(x_1,x_2,x_3.....x_n)$ is our data series.\n",
        "\n",
        "In python we can use NumPy.mean() to do the calculation:"
      ]
    },
    {
      "cell_type": "code",
      "metadata": {
        "colab": {
          "base_uri": "https://localhost:8080/"
        },
        "id": "m_o7nI2mnUw-",
        "outputId": "0a4dd97e-525e-4e8d-beaa-b5eb9e96eb1c"
      },
      "source": [
        "print(np.mean(aapl.log_price))"
      ],
      "execution_count": null,
      "outputs": [
        {
          "output_type": "stream",
          "text": [
            "3.5596801064859274\n"
          ],
          "name": "stdout"
        }
      ]
    },
    {
      "cell_type": "markdown",
      "metadata": {
        "id": "3JGGRepq7Y3W"
      },
      "source": [
        "### Geometric Mean\n",
        "The geometric mean is an average that is useful for data series of positive numbers that are better interpreted according to their product, such as growth rate. It's calculated by:\n",
        "\n",
        "$$\\bar x = \\sqrt[n]{x_1x_2x_3...x_n}$$"
      ]
    },
    {
      "cell_type": "markdown",
      "metadata": {
        "id": "UbTK1dCL9eVF"
      },
      "source": [
        "Let's calculate the geometric mean of a series of single-period return:\n",
        "\n",
        "$$1+\\bar r= \\sqrt[t]{\\frac{p_t}{p_{t-1}}*\\frac{p_{t-1}}{p_{t-2}}*...*\\frac{p_2}{p_1}*\\frac{p_1}{p_0}}$$"
      ]
    },
    {
      "cell_type": "markdown",
      "metadata": {
        "id": "NMNOorDQ-B3E"
      },
      "source": [
        "$$(1+\\bar r)^t=\\frac{p_t}{p_0}$$\n",
        "Now the equation becomes the form which we are familiar with:"
      ]
    },
    {
      "cell_type": "markdown",
      "metadata": {
        "id": "Ntbih8c5-Oq7"
      },
      "source": [
        "##Variance and Standard Deviation"
      ]
    },
    {
      "cell_type": "markdown",
      "metadata": {
        "id": "T1caMYQ--QLG"
      },
      "source": [
        "### Variance\n",
        "**Variance** is a measure of dispersion. In finance, most of the time variance is a synonym for risk. The higher the variance of an asset price is, the higher risk the asset bears. Variance is usually represented by $\\sigma^2$, and it's calculated by"
      ]
    },
    {
      "cell_type": "markdown",
      "metadata": {
        "id": "V26iYKbg-XYz"
      },
      "source": [
        "$$ \\sigma^2=\\frac{\\sum^{n}_{i=1}(x_i-\\mu)^2}{n}$$\n",
        "In python we can use NumPy.var to calculate it:"
      ]
    },
    {
      "cell_type": "code",
      "metadata": {
        "colab": {
          "base_uri": "https://localhost:8080/"
        },
        "id": "cRdmPNhvnUw_",
        "outputId": "a7a7ee50-cfb3-42f8-c0ab-6a1d8bb7f7f9"
      },
      "source": [
        "print(np.var(aapl.log_price))"
      ],
      "execution_count": null,
      "outputs": [
        {
          "output_type": "stream",
          "text": [
            "0.00014203275928977168\n"
          ],
          "name": "stdout"
        }
      ]
    },
    {
      "cell_type": "markdown",
      "metadata": {
        "id": "o-1t-qn5-9JE"
      },
      "source": [
        "### Standard Deviation\n",
        "The most commonly used measure of dispersion in finance is **standard deviation**. It's usually represented by $\\sigma$. It's obvious to see the relation between standard deviation and variance:"
      ]
    },
    {
      "cell_type": "markdown",
      "metadata": {
        "id": "vDf44hln_Qfk"
      },
      "source": [
        "$$\\sigma=\\sqrt{\\sigma^2}=\\sqrt{\\frac{\\sum^{n}_{i=1}(x_i-\\mu)^2}{n}}$$\n",
        "NumPy also provides us a method to calculate standard deviation."
      ]
    },
    {
      "cell_type": "code",
      "metadata": {
        "colab": {
          "base_uri": "https://localhost:8080/"
        },
        "id": "uO6JaAhu_2tO",
        "outputId": "40fa5d43-d866-41ad-9302-185c9a33926b"
      },
      "source": [
        "print (np.std(aapl.log_price))"
      ],
      "execution_count": null,
      "outputs": [
        {
          "output_type": "stream",
          "text": [
            "0.011917749757809638\n"
          ],
          "name": "stdout"
        }
      ]
    },
    {
      "cell_type": "markdown",
      "metadata": {
        "id": "zKiqSD8h_5If"
      },
      "source": [
        "## Summary\n",
        "We introduced different types of rate of return in this chapter, which could be a little bit tricky when we calculate them. Mean and standard deviation are also very important concepts when we conduct hypothesis test or measure the risk associated with a asset. We will use those concepts intensively in our later chapter."
      ]
    }
  ]
}