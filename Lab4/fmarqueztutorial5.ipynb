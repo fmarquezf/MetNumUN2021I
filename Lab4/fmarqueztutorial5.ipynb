{
  "nbformat": 4,
  "nbformat_minor": 0,
  "metadata": {
    "kernelspec": {
      "display_name": "Python 3",
      "language": "python",
      "name": "python3"
    },
    "language_info": {
      "codemirror_mode": {
        "name": "ipython",
        "version": 3
      },
      "file_extension": ".py",
      "mimetype": "text/x-python",
      "name": "python",
      "nbconvert_exporter": "python",
      "pygments_lexer": "ipython3",
      "version": "3.6.4"
    },
    "colab": {
      "name": "fmarqueztutorial5.ipynb",
      "provenance": [],
      "collapsed_sections": [],
      "toc_visible": true,
      "include_colab_link": true
    }
  },
  "cells": [
    {
      "cell_type": "markdown",
      "metadata": {
        "id": "view-in-github",
        "colab_type": "text"
      },
      "source": [
        "<a href=\"https://colab.research.google.com/github/fmarquezf/MetNumUN2021I/blob/main/Lab4/fmarqueztutorial5.ipynb\" target=\"_parent\"><img src=\"https://colab.research.google.com/assets/colab-badge.svg\" alt=\"Open In Colab\"/></a>"
      ]
    },
    {
      "cell_type": "markdown",
      "metadata": {
        "id": "UsfgN3eBPF-0"
      },
      "source": [
        "# Pandas-Resampling and DataFrame"
      ]
    },
    {
      "cell_type": "markdown",
      "metadata": {
        "id": "OoOgtDIGPS8E"
      },
      "source": [
        "## Introduction\n",
        "\n",
        "In the last chapter we had a glimpse of Pandas. In this chapter we will learn about resampling methods and the DataFrame object, which is a powerful tool for financial data analysis."
      ]
    },
    {
      "cell_type": "markdown",
      "metadata": {
        "id": "upNQGvtwPaYG"
      },
      "source": [
        "## Fetching Data\n",
        "Here we use the Quandl API to retrieve data."
      ]
    },
    {
      "cell_type": "code",
      "metadata": {
        "id": "koDBI10DLa-r"
      },
      "source": [
        "import pandas_datareader as pdr\n",
        "import numpy as np\n",
        "import pandas as pd"
      ],
      "execution_count": 1,
      "outputs": []
    },
    {
      "cell_type": "code",
      "metadata": {
        "id": "3W8QstPdLa-2"
      },
      "source": [
        "aapl_table = pdr.get_data_yahoo('AAPL')"
      ],
      "execution_count": 2,
      "outputs": []
    },
    {
      "cell_type": "markdown",
      "metadata": {
        "id": "f-UKRSRZPqx2"
      },
      "source": [
        "We will create a Series named \"aapl\" whose values are Apple's daily closing prices, which are of course indexed by dates:"
      ]
    },
    {
      "cell_type": "code",
      "metadata": {
        "id": "gJ5xZsU-La-3"
      },
      "source": [
        "aapl = aapl_table['Adj Close']['2017']"
      ],
      "execution_count": 3,
      "outputs": []
    },
    {
      "cell_type": "code",
      "metadata": {
        "colab": {
          "base_uri": "https://localhost:8080/"
        },
        "id": "3A5IkUS6La-4",
        "outputId": "5aea75e5-5469-4d2a-af63-4fd963b79131"
      },
      "source": [
        "print(aapl)"
      ],
      "execution_count": 4,
      "outputs": [
        {
          "output_type": "stream",
          "text": [
            "Date\n",
            "2017-01-03    27.459938\n",
            "2017-01-04    27.429203\n",
            "2017-01-05    27.568691\n",
            "2017-01-06    27.876030\n",
            "2017-01-09    28.131361\n",
            "                ...    \n",
            "2017-12-22    42.040852\n",
            "2017-12-26    40.974274\n",
            "2017-12-27    40.981483\n",
            "2017-12-28    41.096786\n",
            "2017-12-29    40.652374\n",
            "Name: Adj Close, Length: 251, dtype: float64\n"
          ],
          "name": "stdout"
        }
      ]
    },
    {
      "cell_type": "markdown",
      "metadata": {
        "id": "fzAaHQQiP9St"
      },
      "source": [
        "Recall that we can fetch a specific data point using series['yyyy-mm-dd']. We can also fetch the data in a specific month using series['yyyy-mm']."
      ]
    },
    {
      "cell_type": "code",
      "metadata": {
        "colab": {
          "base_uri": "https://localhost:8080/"
        },
        "id": "WVugQxH7La-5",
        "outputId": "de415567-a3de-4e99-b2e5-fa6df1cafea8"
      },
      "source": [
        "print(aapl['2017-3'])"
      ],
      "execution_count": 5,
      "outputs": [
        {
          "output_type": "stream",
          "text": [
            "Date\n",
            "2017-03-01    33.192142\n",
            "2017-03-02    32.995064\n",
            "2017-03-03    33.189762\n",
            "2017-03-06    33.085289\n",
            "2017-03-07    33.128029\n",
            "2017-03-08    33.004562\n",
            "2017-03-09    32.928577\n",
            "2017-03-10    33.037796\n",
            "2017-03-13    33.052044\n",
            "2017-03-14    33.002182\n",
            "2017-03-15    33.351227\n",
            "2017-03-16    33.405842\n",
            "2017-03-17    33.239635\n",
            "2017-03-20    33.588676\n",
            "2017-03-21    33.204002\n",
            "2017-03-22    33.579170\n",
            "2017-03-23    33.460449\n",
            "2017-03-24    33.393963\n",
            "2017-03-27    33.450958\n",
            "2017-03-28    34.144287\n",
            "2017-03-29    34.220264\n",
            "2017-03-30    34.175156\n",
            "2017-03-31    34.111042\n",
            "Name: Adj Close, dtype: float64\n"
          ],
          "name": "stdout"
        }
      ]
    },
    {
      "cell_type": "markdown",
      "metadata": {
        "id": "dfX-Y4UHQP2d"
      },
      "source": [
        "Or in several consecutive months:"
      ]
    },
    {
      "cell_type": "code",
      "metadata": {
        "colab": {
          "base_uri": "https://localhost:8080/"
        },
        "id": "87oenlaDLa-6",
        "outputId": "4ee050d5-38f5-4807-cae6-91db5bbe8b40"
      },
      "source": [
        "aapl['2017-2':'2017-4']"
      ],
      "execution_count": 6,
      "outputs": [
        {
          "output_type": "execute_result",
          "data": {
            "text/plain": [
              "Date\n",
              "2017-02-01    30.438799\n",
              "2017-02-02    30.386791\n",
              "2017-02-03    30.516821\n",
              "2017-02-06    30.802887\n",
              "2017-02-07    31.096045\n",
              "                ...    \n",
              "2017-04-24    34.106297\n",
              "2017-04-25    34.317619\n",
              "2017-04-26    34.115788\n",
              "2017-04-27    34.141903\n",
              "2017-04-28    34.108673\n",
              "Name: Adj Close, Length: 61, dtype: float64"
            ]
          },
          "metadata": {
            "tags": []
          },
          "execution_count": 6
        }
      ]
    },
    {
      "cell_type": "markdown",
      "metadata": {
        "id": "vRS-I_XdQVhN"
      },
      "source": [
        ".head(N) and .tail(N) are methods for quickly accessing the first or last N elements."
      ]
    },
    {
      "cell_type": "code",
      "metadata": {
        "colab": {
          "base_uri": "https://localhost:8080/"
        },
        "id": "j8mcmkCtLa-7",
        "outputId": "7ffdfdf5-4c36-46b1-88e9-1ca04adec70f"
      },
      "source": [
        "print(aapl.head(5))\n",
        "print(aapl.tail(10))"
      ],
      "execution_count": 7,
      "outputs": [
        {
          "output_type": "stream",
          "text": [
            "Date\n",
            "2017-01-03    27.459938\n",
            "2017-01-04    27.429203\n",
            "2017-01-05    27.568691\n",
            "2017-01-06    27.876030\n",
            "2017-01-09    28.131361\n",
            "Name: Adj Close, dtype: float64\n",
            "Date\n",
            "2017-12-15    41.791023\n",
            "2017-12-18    42.379566\n",
            "2017-12-19    41.927948\n",
            "2017-12-20    41.882305\n",
            "2017-12-21    42.040852\n",
            "2017-12-22    42.040852\n",
            "2017-12-26    40.974274\n",
            "2017-12-27    40.981483\n",
            "2017-12-28    41.096786\n",
            "2017-12-29    40.652374\n",
            "Name: Adj Close, dtype: float64\n"
          ],
          "name": "stdout"
        }
      ]
    },
    {
      "cell_type": "markdown",
      "metadata": {
        "id": "Mt7QfzCUQZVN"
      },
      "source": [
        "## Resampling\n",
        "\n",
        "**series.resample(freq)** is a class called \"DatetimeIndexResampler\" which groups data in a Series object into regular time intervals. The argument \"freq\" determines the length of each interval.\n",
        "\n",
        "**series.resample.mean()** is a complete statement that groups data into intervals, and then compute the mean of each interval. For example, if we want to aggregate the daily data into monthly data by mean:"
      ]
    },
    {
      "cell_type": "code",
      "metadata": {
        "colab": {
          "base_uri": "https://localhost:8080/"
        },
        "id": "sJR6tHCcLa-7",
        "outputId": "9a697fa3-d39c-4e1a-83a3-7c80eb9dbbbf"
      },
      "source": [
        "by_month = aapl.resample('M').mean()\n",
        "print(by_month)"
      ],
      "execution_count": 8,
      "outputs": [
        {
          "output_type": "stream",
          "text": [
            "Date\n",
            "2017-01-31    28.268486\n",
            "2017-02-28    31.707397\n",
            "2017-03-31    33.388701\n",
            "2017-04-30    33.927464\n",
            "2017-05-31    36.241263\n",
            "2017-06-30    35.246389\n",
            "2017-07-31    35.358004\n",
            "2017-08-31    38.018475\n",
            "2017-09-30    37.725050\n",
            "2017-10-31    37.775021\n",
            "2017-11-30    41.365839\n",
            "2017-12-31    41.291726\n",
            "Freq: M, Name: Adj Close, dtype: float64\n"
          ],
          "name": "stdout"
        }
      ]
    },
    {
      "cell_type": "markdown",
      "metadata": {
        "id": "X2uGAYHcQlAk"
      },
      "source": [
        "We can also aggregate the data by week:"
      ]
    },
    {
      "cell_type": "code",
      "metadata": {
        "colab": {
          "base_uri": "https://localhost:8080/"
        },
        "id": "hQZsPzgbLa-8",
        "outputId": "1196fd7c-00b5-4fe0-890e-9e989543a076"
      },
      "source": [
        "by_week = aapl.resample('W').mean()\n",
        "print(by_week.head())"
      ],
      "execution_count": 9,
      "outputs": [
        {
          "output_type": "stream",
          "text": [
            "Date\n",
            "2017-01-08    27.583466\n",
            "2017-01-15    28.187630\n",
            "2017-01-22    28.356554\n",
            "2017-01-29    28.645335\n",
            "2017-02-05    29.757445\n",
            "Freq: W-SUN, Name: Adj Close, dtype: float64\n"
          ],
          "name": "stdout"
        }
      ]
    },
    {
      "cell_type": "markdown",
      "metadata": {
        "id": "vaNBup9gQwJE"
      },
      "source": [
        "We can choose almost any frequency by using the format 'nf', where 'n' is an integer and 'f' is M for month, W for week and D for day."
      ]
    },
    {
      "cell_type": "code",
      "metadata": {
        "id": "J4_hV_MnLa-9"
      },
      "source": [
        "three_day = aapl.resample('3D').mean()\n",
        "two_week = aapl.resample('2W').mean()\n",
        "two_month = aapl.resample('2M').mean()"
      ],
      "execution_count": 10,
      "outputs": []
    },
    {
      "cell_type": "markdown",
      "metadata": {
        "id": "TjGm7bPQQ9Hl"
      },
      "source": [
        "Besides the mean() method, other methods can also be used with the resampler:"
      ]
    },
    {
      "cell_type": "code",
      "metadata": {
        "id": "1DYXPdxyLa--"
      },
      "source": [
        "std = aapl.resample('W').std()\n",
        "max = aapl.resample('W').max()\n",
        "min = aapl.resample('W').min()"
      ],
      "execution_count": 11,
      "outputs": []
    },
    {
      "cell_type": "markdown",
      "metadata": {
        "id": "Q3MGuTkhRCOv"
      },
      "source": [
        "Often we want to calculate monthly returns of a stock, based on prices on the last day of each month. To fetch those prices, we use the series.resample.agg() method:"
      ]
    },
    {
      "cell_type": "code",
      "metadata": {
        "colab": {
          "base_uri": "https://localhost:8080/"
        },
        "id": "DX5OlMyPLa-_",
        "outputId": "4834be0f-9f39-4a18-e4af-e02baf43bd11"
      },
      "source": [
        "last_day = aapl.resample('M').agg(lambda x: x[-1])\n",
        "print(last_day)"
      ],
      "execution_count": 12,
      "outputs": [
        {
          "output_type": "stream",
          "text": [
            "Date\n",
            "2017-01-31    28.689308\n",
            "2017-02-28    32.527302\n",
            "2017-03-31    34.111042\n",
            "2017-04-30    34.108673\n",
            "2017-05-31    36.421490\n",
            "2017-06-30    34.337669\n",
            "2017-07-31    35.460644\n",
            "2017-08-31    39.254917\n",
            "2017-09-30    36.890041\n",
            "2017-10-31    40.461285\n",
            "2017-11-30    41.281757\n",
            "2017-12-31    40.652374\n",
            "Freq: M, Name: Adj Close, dtype: float64\n"
          ],
          "name": "stdout"
        }
      ]
    },
    {
      "cell_type": "markdown",
      "metadata": {
        "id": "JCqyfmBrRKUG"
      },
      "source": [
        "Or directly calculate the monthly rates of return using the data for the first day and the last day:"
      ]
    },
    {
      "cell_type": "code",
      "metadata": {
        "colab": {
          "base_uri": "https://localhost:8080/"
        },
        "id": "yAoyZL_RLa--",
        "outputId": "6e969b65-c9d2-4216-d50d-f3dcb8af1941"
      },
      "source": [
        "monthly_return = aapl.resample('M').agg(lambda x: x[-1]/x[1] - 1)\n",
        "print(monthly_return)"
      ],
      "execution_count": 13,
      "outputs": [
        {
          "output_type": "stream",
          "text": [
            "Date\n",
            "2017-01-31    0.045940\n",
            "2017-02-28    0.070442\n",
            "2017-03-31    0.033823\n",
            "2017-04-30   -0.007736\n",
            "2017-05-31    0.039865\n",
            "2017-06-30   -0.073529\n",
            "2017-07-31    0.032202\n",
            "2017-08-31    0.047754\n",
            "2017-09-30   -0.049112\n",
            "2017-10-31    0.094252\n",
            "2017-11-30    0.025922\n",
            "2017-12-31   -0.003357\n",
            "Freq: M, Name: Adj Close, dtype: float64\n"
          ],
          "name": "stdout"
        }
      ]
    },
    {
      "cell_type": "markdown",
      "metadata": {
        "id": "owUC-cFDRTst"
      },
      "source": [
        "Series object also provides us some convenient methods to do some quick calculation."
      ]
    },
    {
      "cell_type": "code",
      "metadata": {
        "colab": {
          "base_uri": "https://localhost:8080/"
        },
        "id": "I1Yt24pJLa_B",
        "outputId": "41d6cb76-63e1-4ca7-9f12-4545c786a9d6"
      },
      "source": [
        "print(monthly_return.mean())\n",
        "print(monthly_return.std())\n",
        "print(monthly_return.max())"
      ],
      "execution_count": 14,
      "outputs": [
        {
          "output_type": "stream",
          "text": [
            "0.0213722266581254\n",
            "0.04775585142622976\n",
            "0.09425164908662276\n"
          ],
          "name": "stdout"
        }
      ]
    },
    {
      "cell_type": "markdown",
      "metadata": {
        "id": "73vcqXwyRV0U"
      },
      "source": [
        "Another two methods frequently used on Series are .diff() and .pct_change(). The former calculates the difference between consecutive elements, and the latter calculates the percentage change."
      ]
    },
    {
      "cell_type": "code",
      "metadata": {
        "colab": {
          "base_uri": "https://localhost:8080/"
        },
        "id": "3GdWYAq8La_B",
        "outputId": "27addd2e-d2ed-4ed0-8bdb-9971065977ce"
      },
      "source": [
        "print(last_day.diff())\n",
        "print(last_day.pct_change())"
      ],
      "execution_count": 15,
      "outputs": [
        {
          "output_type": "stream",
          "text": [
            "Date\n",
            "2017-01-31         NaN\n",
            "2017-02-28    3.837994\n",
            "2017-03-31    1.583740\n",
            "2017-04-30   -0.002369\n",
            "2017-05-31    2.312817\n",
            "2017-06-30   -2.083820\n",
            "2017-07-31    1.122974\n",
            "2017-08-31    3.794273\n",
            "2017-09-30   -2.364876\n",
            "2017-10-31    3.571243\n",
            "2017-11-30    0.820473\n",
            "2017-12-31   -0.629383\n",
            "Freq: M, Name: Adj Close, dtype: float64\n",
            "Date\n",
            "2017-01-31         NaN\n",
            "2017-02-28    0.133778\n",
            "2017-03-31    0.048690\n",
            "2017-04-30   -0.000069\n",
            "2017-05-31    0.067807\n",
            "2017-06-30   -0.057214\n",
            "2017-07-31    0.032704\n",
            "2017-08-31    0.107000\n",
            "2017-09-30   -0.060244\n",
            "2017-10-31    0.096808\n",
            "2017-11-30    0.020278\n",
            "2017-12-31   -0.015246\n",
            "Freq: M, Name: Adj Close, dtype: float64\n"
          ],
          "name": "stdout"
        }
      ]
    },
    {
      "cell_type": "markdown",
      "metadata": {
        "id": "mbzdgrlvRaYl"
      },
      "source": [
        "Notice that we induced a NaN value while calculating percentage changes i.e. returns.\n",
        "\n",
        "When dealing with NaN values, we usually either removing the data point or fill it with a specific value. Here we fill it with 0:"
      ]
    },
    {
      "cell_type": "code",
      "metadata": {
        "colab": {
          "base_uri": "https://localhost:8080/"
        },
        "id": "n8YYIEA0La_C",
        "outputId": "9ff6f99c-6333-4590-9976-e739c9ea6b29"
      },
      "source": [
        "daily_return = last_day.pct_change()\n",
        "print(daily_return.fillna(0))"
      ],
      "execution_count": 16,
      "outputs": [
        {
          "output_type": "stream",
          "text": [
            "Date\n",
            "2017-01-31    0.000000\n",
            "2017-02-28    0.133778\n",
            "2017-03-31    0.048690\n",
            "2017-04-30   -0.000069\n",
            "2017-05-31    0.067807\n",
            "2017-06-30   -0.057214\n",
            "2017-07-31    0.032704\n",
            "2017-08-31    0.107000\n",
            "2017-09-30   -0.060244\n",
            "2017-10-31    0.096808\n",
            "2017-11-30    0.020278\n",
            "2017-12-31   -0.015246\n",
            "Freq: M, Name: Adj Close, dtype: float64\n"
          ],
          "name": "stdout"
        }
      ]
    },
    {
      "cell_type": "markdown",
      "metadata": {
        "id": "KPlO-mYkRcv0"
      },
      "source": [
        "Alternatively, we can fill a NaN with the next fitted value. This is called 'backward fill', or 'bfill' in short:"
      ]
    },
    {
      "cell_type": "code",
      "metadata": {
        "colab": {
          "base_uri": "https://localhost:8080/"
        },
        "id": "-IYev1vxLa_D",
        "outputId": "82a3c630-1338-4d37-d83d-6405492f0154"
      },
      "source": [
        "daily_return = last_day.pct_change()\n",
        "print(daily_return.fillna(method = 'bfill'))"
      ],
      "execution_count": 17,
      "outputs": [
        {
          "output_type": "stream",
          "text": [
            "Date\n",
            "2017-01-31    0.133778\n",
            "2017-02-28    0.133778\n",
            "2017-03-31    0.048690\n",
            "2017-04-30   -0.000069\n",
            "2017-05-31    0.067807\n",
            "2017-06-30   -0.057214\n",
            "2017-07-31    0.032704\n",
            "2017-08-31    0.107000\n",
            "2017-09-30   -0.060244\n",
            "2017-10-31    0.096808\n",
            "2017-11-30    0.020278\n",
            "2017-12-31   -0.015246\n",
            "Freq: M, Name: Adj Close, dtype: float64\n"
          ],
          "name": "stdout"
        }
      ]
    },
    {
      "cell_type": "markdown",
      "metadata": {
        "id": "_9qb_WXPRfbo"
      },
      "source": [
        "As expected, since there is a 'backward fill' method, there must be a 'forward fill' method, or 'ffill' in short. However we can't use it here because the NaN is the first value.\n",
        "\n",
        "We can also simply remove NaN values by .dropna()"
      ]
    },
    {
      "cell_type": "code",
      "metadata": {
        "colab": {
          "base_uri": "https://localhost:8080/"
        },
        "id": "YCcY8Y0cLa_D",
        "outputId": "65497de0-3858-4725-d745-8eee0220ec1e"
      },
      "source": [
        "daily_return = last_day.pct_change()\n",
        "daily_return.dropna()"
      ],
      "execution_count": 18,
      "outputs": [
        {
          "output_type": "execute_result",
          "data": {
            "text/plain": [
              "Date\n",
              "2017-02-28    0.133778\n",
              "2017-03-31    0.048690\n",
              "2017-04-30   -0.000069\n",
              "2017-05-31    0.067807\n",
              "2017-06-30   -0.057214\n",
              "2017-07-31    0.032704\n",
              "2017-08-31    0.107000\n",
              "2017-09-30   -0.060244\n",
              "2017-10-31    0.096808\n",
              "2017-11-30    0.020278\n",
              "2017-12-31   -0.015246\n",
              "Freq: M, Name: Adj Close, dtype: float64"
            ]
          },
          "metadata": {
            "tags": []
          },
          "execution_count": 18
        }
      ]
    },
    {
      "cell_type": "markdown",
      "metadata": {
        "id": "WP7lYHvMRiWO"
      },
      "source": [
        "## DataFrame\n",
        "The **DataFrame** is the most commonly used data structure in Pandas. It is essentially a table, just like an Excel spreadsheet.\n",
        "\n",
        "More precisely, a DataFrame is a collection of Series objects, each of which may contain different data types. A DataFrame can be created from various data types: dictionary, 2-D numpy.ndarray, a Series or another DataFrame."
      ]
    },
    {
      "cell_type": "markdown",
      "metadata": {
        "id": "Z6tcn-zBRnDP"
      },
      "source": [
        "### Create DataFrames\n",
        "The most common method of creating a DataFrame is passing a dictionary:"
      ]
    },
    {
      "cell_type": "code",
      "metadata": {
        "colab": {
          "base_uri": "https://localhost:8080/"
        },
        "id": "ESYr5BoqLa_E",
        "outputId": "cf1554c9-2100-46fc-8cec-f4d80d3477b6"
      },
      "source": [
        "dict = {'AAPL': [143.5, 144.09, 142.73, 144.18, 143.77],'GOOG':[898.7, 911.71, 906.69, 918.59, 926.99],\n",
        "        'IBM':[155.58, 153.67, 152.36, 152.94, 153.49]}\n",
        "data_index = pd.date_range('2017-07-03',periods = 5, freq = 'D')\n",
        "df = pd.DataFrame(dict, index = data_index)\n",
        "print(df)"
      ],
      "execution_count": 19,
      "outputs": [
        {
          "output_type": "stream",
          "text": [
            "              AAPL    GOOG     IBM\n",
            "2017-07-03  143.50  898.70  155.58\n",
            "2017-07-04  144.09  911.71  153.67\n",
            "2017-07-05  142.73  906.69  152.36\n",
            "2017-07-06  144.18  918.59  152.94\n",
            "2017-07-07  143.77  926.99  153.49\n"
          ],
          "name": "stdout"
        }
      ]
    },
    {
      "cell_type": "markdown",
      "metadata": {
        "id": "izyK66KAR-5E"
      },
      "source": [
        "### Manipulating DataFrames\n",
        "We can fetch values in a DataFrame by columns and index. Each column in a DataFrame is essentially a Pandas Series. We can fetch a column by square brackets: **df['column_name']**\n",
        "\n",
        "If a column name contains no spaces, then we can also use df.column_name to fetch a column:"
      ]
    },
    {
      "cell_type": "code",
      "metadata": {
        "colab": {
          "base_uri": "https://localhost:8080/"
        },
        "id": "L8lPyBg0La_G",
        "outputId": "9dba3073-7ef9-4e64-b9c0-ba158d1bf1b8"
      },
      "source": [
        "df = aapl_table\n",
        "print(df.Close.tail(5))\n",
        "print(df['Volume'].tail(5))"
      ],
      "execution_count": 20,
      "outputs": [
        {
          "output_type": "stream",
          "text": [
            "Date\n",
            "2021-04-19    134.839996\n",
            "2021-04-20    133.110001\n",
            "2021-04-21    133.500000\n",
            "2021-04-22    131.940002\n",
            "2021-04-23    134.320007\n",
            "Name: Close, dtype: float64\n",
            "Date\n",
            "2021-04-19    94264200.0\n",
            "2021-04-20    94812300.0\n",
            "2021-04-21    68847100.0\n",
            "2021-04-22    84566500.0\n",
            "2021-04-23    78657500.0\n",
            "Name: Volume, dtype: float64\n"
          ],
          "name": "stdout"
        }
      ]
    },
    {
      "cell_type": "markdown",
      "metadata": {
        "id": "hRBGCNnXSRJt"
      },
      "source": [
        "All the methods we applied to a Series index such as iloc[], loc[] and resampling methods, can also be applied to a DataFrame:"
      ]
    },
    {
      "cell_type": "code",
      "metadata": {
        "colab": {
          "base_uri": "https://localhost:8080/"
        },
        "id": "QF_S8NFaLa_G",
        "outputId": "ad5f7ba9-43f3-4e5e-a3f9-87c5db16a6d3"
      },
      "source": [
        "aapl_2016 = df['2016']\n",
        "aapl_month = aapl_2016.resample('M').agg(lambda x: x[-1])\n",
        "print(aapl_month)"
      ],
      "execution_count": 21,
      "outputs": [
        {
          "output_type": "stream",
          "text": [
            "                 High        Low       Open      Close       Volume  Adj Close\n",
            "Date                                                                          \n",
            "2016-04-30  23.680000  23.127501  23.497499  23.434999  274126000.0  21.797100\n",
            "2016-05-31  25.100000  24.705000  24.900000  24.965000  169228800.0  23.361542\n",
            "2016-06-30  23.942499  23.575001  23.610001  23.900000  143345600.0  22.364946\n",
            "2016-07-31  26.137501  25.920000  26.047501  26.052500  110934800.0  24.379189\n",
            "2016-08-31  26.642500  26.410000  26.415001  26.525000  118649600.0  24.955809\n",
            "2016-09-30  28.342501  27.950001  28.115000  28.262501  145516400.0  26.590519\n",
            "2016-10-31  28.557501  28.299999  28.412500  28.385000  105677600.0  26.705769\n",
            "2016-11-30  28.049999  27.567499  27.900000  27.629999  144649200.0  26.128902\n",
            "2016-12-31  29.299999  28.857500  29.162500  28.955000  122345200.0  27.381918\n"
          ],
          "name": "stdout"
        }
      ]
    },
    {
      "cell_type": "markdown",
      "metadata": {
        "id": "WxnUqlc_SXOU"
      },
      "source": [
        "We may select certain columns of a DataFrame using their names:"
      ]
    },
    {
      "cell_type": "code",
      "metadata": {
        "colab": {
          "base_uri": "https://localhost:8080/"
        },
        "id": "AxNILwEyLa_G",
        "outputId": "5985b460-e425-49c3-b750-d0e4e9f7c5f8"
      },
      "source": [
        "aapl_bar = aapl_month[['Open', 'High', 'Low', 'Close']]\n",
        "print(aapl_bar)"
      ],
      "execution_count": 22,
      "outputs": [
        {
          "output_type": "stream",
          "text": [
            "                 Open       High        Low      Close\n",
            "Date                                                  \n",
            "2016-04-30  23.497499  23.680000  23.127501  23.434999\n",
            "2016-05-31  24.900000  25.100000  24.705000  24.965000\n",
            "2016-06-30  23.610001  23.942499  23.575001  23.900000\n",
            "2016-07-31  26.047501  26.137501  25.920000  26.052500\n",
            "2016-08-31  26.415001  26.642500  26.410000  26.525000\n",
            "2016-09-30  28.115000  28.342501  27.950001  28.262501\n",
            "2016-10-31  28.412500  28.557501  28.299999  28.385000\n",
            "2016-11-30  27.900000  28.049999  27.567499  27.629999\n",
            "2016-12-31  29.162500  29.299999  28.857500  28.955000\n"
          ],
          "name": "stdout"
        }
      ]
    },
    {
      "cell_type": "markdown",
      "metadata": {
        "id": "pvhkhY2eScDE"
      },
      "source": [
        "We may select certain columns of a DataFrame using their names:"
      ]
    },
    {
      "cell_type": "code",
      "metadata": {
        "colab": {
          "base_uri": "https://localhost:8080/"
        },
        "id": "1b2JpaWFLa_H",
        "outputId": "0f516c3b-9cc4-4d47-aa3b-fa0b6dcaaf86"
      },
      "source": [
        "print(aapl_month.loc['2016-03':'2016-06',['Open', 'High', 'Low', 'Close']])"
      ],
      "execution_count": 23,
      "outputs": [
        {
          "output_type": "stream",
          "text": [
            "                 Open       High        Low      Close\n",
            "Date                                                  \n",
            "2016-04-30  23.497499  23.680000  23.127501  23.434999\n",
            "2016-05-31  24.900000  25.100000  24.705000  24.965000\n",
            "2016-06-30  23.610001  23.942499  23.575001  23.900000\n"
          ],
          "name": "stdout"
        }
      ]
    },
    {
      "cell_type": "markdown",
      "metadata": {
        "id": "WMNbRXz3SgbF"
      },
      "source": [
        "The subset methods in DataFrame is quite useful. By writing logical statements in square brackets, we can make customized subsets:"
      ]
    },
    {
      "cell_type": "code",
      "metadata": {
        "colab": {
          "base_uri": "https://localhost:8080/"
        },
        "id": "v2v8gzbNLa_H",
        "outputId": "0c9792dc-1608-4223-93e5-748675358af2"
      },
      "source": [
        "above = aapl_bar[aapl_bar.Close > np.mean(aapl_bar.Close)]\n",
        "print(above)"
      ],
      "execution_count": 24,
      "outputs": [
        {
          "output_type": "stream",
          "text": [
            "                 Open       High        Low      Close\n",
            "Date                                                  \n",
            "2016-08-31  26.415001  26.642500  26.410000  26.525000\n",
            "2016-09-30  28.115000  28.342501  27.950001  28.262501\n",
            "2016-10-31  28.412500  28.557501  28.299999  28.385000\n",
            "2016-11-30  27.900000  28.049999  27.567499  27.629999\n",
            "2016-12-31  29.162500  29.299999  28.857500  28.955000\n"
          ],
          "name": "stdout"
        }
      ]
    },
    {
      "cell_type": "markdown",
      "metadata": {
        "id": "jXq3CLqFSji1"
      },
      "source": [
        "### Data Validation\n",
        "As mentioned, all methods that apply to a Series can also be applied to a DataFrame. Here we add a new column to an existing DataFrame:"
      ]
    },
    {
      "cell_type": "code",
      "metadata": {
        "colab": {
          "base_uri": "https://localhost:8080/"
        },
        "id": "wATilb2BLa_I",
        "outputId": "8ed6d823-3a97-4cdd-8c3b-d050641cf825"
      },
      "source": [
        "aapl_bar['rate_return'] = aapl_bar.Close.pct_change()\n",
        "print(aapl_bar)"
      ],
      "execution_count": 25,
      "outputs": [
        {
          "output_type": "stream",
          "text": [
            "                 Open       High        Low      Close  rate_return\n",
            "Date                                                               \n",
            "2016-04-30  23.497499  23.680000  23.127501  23.434999          NaN\n",
            "2016-05-31  24.900000  25.100000  24.705000  24.965000     0.065287\n",
            "2016-06-30  23.610001  23.942499  23.575001  23.900000    -0.042660\n",
            "2016-07-31  26.047501  26.137501  25.920000  26.052500     0.090063\n",
            "2016-08-31  26.415001  26.642500  26.410000  26.525000     0.018136\n",
            "2016-09-30  28.115000  28.342501  27.950001  28.262501     0.065504\n",
            "2016-10-31  28.412500  28.557501  28.299999  28.385000     0.004334\n",
            "2016-11-30  27.900000  28.049999  27.567499  27.629999    -0.026599\n",
            "2016-12-31  29.162500  29.299999  28.857500  28.955000     0.047955\n"
          ],
          "name": "stdout"
        },
        {
          "output_type": "stream",
          "text": [
            "/usr/local/lib/python3.7/dist-packages/ipykernel_launcher.py:1: SettingWithCopyWarning: \n",
            "A value is trying to be set on a copy of a slice from a DataFrame.\n",
            "Try using .loc[row_indexer,col_indexer] = value instead\n",
            "\n",
            "See the caveats in the documentation: https://pandas.pydata.org/pandas-docs/stable/user_guide/indexing.html#returning-a-view-versus-a-copy\n",
            "  \"\"\"Entry point for launching an IPython kernel.\n"
          ],
          "name": "stderr"
        }
      ]
    },
    {
      "cell_type": "markdown",
      "metadata": {
        "id": "4cYw77sqSpVz"
      },
      "source": [
        "Here the calculation introduced a NaN value. If the DataFrame is large, we would not be able to observe it. isnull() provides a convenient way to check abnormal values."
      ]
    },
    {
      "cell_type": "code",
      "metadata": {
        "colab": {
          "base_uri": "https://localhost:8080/"
        },
        "id": "GnE0Blf6La_I",
        "outputId": "fc07e4f4-6f28-4c0f-a588-0732c1eb071e"
      },
      "source": [
        "missing = aapl_bar.isnull()\n",
        "print(missing)\n",
        "print('\\n------------------ separate line -----------------\\n')\n",
        "print(missing.describe())"
      ],
      "execution_count": 26,
      "outputs": [
        {
          "output_type": "stream",
          "text": [
            "             Open   High    Low  Close  rate_return\n",
            "Date                                               \n",
            "2016-04-30  False  False  False  False         True\n",
            "2016-05-31  False  False  False  False        False\n",
            "2016-06-30  False  False  False  False        False\n",
            "2016-07-31  False  False  False  False        False\n",
            "2016-08-31  False  False  False  False        False\n",
            "2016-09-30  False  False  False  False        False\n",
            "2016-10-31  False  False  False  False        False\n",
            "2016-11-30  False  False  False  False        False\n",
            "2016-12-31  False  False  False  False        False\n",
            "\n",
            "------------------ separate line -----------------\n",
            "\n",
            "         Open   High    Low  Close rate_return\n",
            "count       9      9      9      9           9\n",
            "unique      1      1      1      1           2\n",
            "top     False  False  False  False       False\n",
            "freq        9      9      9      9           8\n"
          ],
          "name": "stdout"
        }
      ]
    },
    {
      "cell_type": "markdown",
      "metadata": {
        "id": "m6_WU9rSSsSM"
      },
      "source": [
        "The row labelled \"unique\" indicates the number of unique values in each column. Since the \"rate_return\" column has 2 unique values, it has at least one missing value.\n",
        "\n",
        "We can deduce the number of missing values by comparing \"count\" with \"freq\". There are 12 counts and 11 False values, so there is one True value which corresponds to the missing value.\n",
        "\n",
        "We can also find the rows with missing values easily:\n",
        "\n"
      ]
    },
    {
      "cell_type": "code",
      "metadata": {
        "colab": {
          "base_uri": "https://localhost:8080/"
        },
        "id": "fFCtjrj2La_K",
        "outputId": "2c6ffd08-1951-4ec6-93aa-a4ca24afc734"
      },
      "source": [
        "print(missing[missing.rate_return == True])"
      ],
      "execution_count": 27,
      "outputs": [
        {
          "output_type": "stream",
          "text": [
            "             Open   High    Low  Close  rate_return\n",
            "Date                                               \n",
            "2016-04-30  False  False  False  False         True\n"
          ],
          "name": "stdout"
        }
      ]
    },
    {
      "cell_type": "markdown",
      "metadata": {
        "id": "fVHyEz2BSv0f"
      },
      "source": [
        "Usually when dealing with missing data, we either delete the whole row or fill it with some value. As we introduced in the Series chapter, the same method dropna() and fillna() can be applied to a DataFrame."
      ]
    },
    {
      "cell_type": "code",
      "metadata": {
        "colab": {
          "base_uri": "https://localhost:8080/"
        },
        "id": "K0AbOOlhLa_K",
        "outputId": "7ff1c177-024a-4858-ee7b-11d6b608d6ff"
      },
      "source": [
        "drop = aapl_bar.dropna()\n",
        "print(drop)\n",
        "print('\\n---------------------- separate line--------------------\\n')\n",
        "fill = aapl_bar.fillna(0)\n",
        "print(fill)"
      ],
      "execution_count": 28,
      "outputs": [
        {
          "output_type": "stream",
          "text": [
            "                 Open       High        Low      Close  rate_return\n",
            "Date                                                               \n",
            "2016-05-31  24.900000  25.100000  24.705000  24.965000     0.065287\n",
            "2016-06-30  23.610001  23.942499  23.575001  23.900000    -0.042660\n",
            "2016-07-31  26.047501  26.137501  25.920000  26.052500     0.090063\n",
            "2016-08-31  26.415001  26.642500  26.410000  26.525000     0.018136\n",
            "2016-09-30  28.115000  28.342501  27.950001  28.262501     0.065504\n",
            "2016-10-31  28.412500  28.557501  28.299999  28.385000     0.004334\n",
            "2016-11-30  27.900000  28.049999  27.567499  27.629999    -0.026599\n",
            "2016-12-31  29.162500  29.299999  28.857500  28.955000     0.047955\n",
            "\n",
            "---------------------- separate line--------------------\n",
            "\n",
            "                 Open       High        Low      Close  rate_return\n",
            "Date                                                               \n",
            "2016-04-30  23.497499  23.680000  23.127501  23.434999     0.000000\n",
            "2016-05-31  24.900000  25.100000  24.705000  24.965000     0.065287\n",
            "2016-06-30  23.610001  23.942499  23.575001  23.900000    -0.042660\n",
            "2016-07-31  26.047501  26.137501  25.920000  26.052500     0.090063\n",
            "2016-08-31  26.415001  26.642500  26.410000  26.525000     0.018136\n",
            "2016-09-30  28.115000  28.342501  27.950001  28.262501     0.065504\n",
            "2016-10-31  28.412500  28.557501  28.299999  28.385000     0.004334\n",
            "2016-11-30  27.900000  28.049999  27.567499  27.629999    -0.026599\n",
            "2016-12-31  29.162500  29.299999  28.857500  28.955000     0.047955\n"
          ],
          "name": "stdout"
        }
      ]
    },
    {
      "cell_type": "markdown",
      "metadata": {
        "id": "Xv2Lzl_cSzHH"
      },
      "source": [
        "### DataFrame Concat\n",
        "We have seen how to extract a Series from a dataFrame. Now we need to consider how to merge a Series or a DataFrame into another one.\n",
        "\n",
        "In Pandas, the function **concat()** allows us to merge multiple Series into a DataFrame:"
      ]
    },
    {
      "cell_type": "code",
      "metadata": {
        "colab": {
          "base_uri": "https://localhost:8080/"
        },
        "id": "MsXlQltvLa_F",
        "outputId": "48c06c7b-dd12-4463-8fc8-e8fae5772679"
      },
      "source": [
        "s1 = pd.Series([143.5, 144.09, 142.73, 144.18, 143.77], name = 'AAPL')\n",
        "s2 = pd.Series([898.7, 911.71, 906.69, 918.59, 926.99], name = 'GOOG')\n",
        "data_frame = pd.concat([s1,s2], axis = 1)\n",
        "print(data_frame)"
      ],
      "execution_count": 29,
      "outputs": [
        {
          "output_type": "stream",
          "text": [
            "     AAPL    GOOG\n",
            "0  143.50  898.70\n",
            "1  144.09  911.71\n",
            "2  142.73  906.69\n",
            "3  144.18  918.59\n",
            "4  143.77  926.99\n"
          ],
          "name": "stdout"
        }
      ]
    },
    {
      "cell_type": "markdown",
      "metadata": {
        "id": "jCpGQ96yS76k"
      },
      "source": [
        "The \"axis = 1\" parameter will join two DataFrames by columns:"
      ]
    },
    {
      "cell_type": "code",
      "metadata": {
        "colab": {
          "base_uri": "https://localhost:8080/"
        },
        "id": "PVxyHxZULa_L",
        "outputId": "65e252c8-9fca-4003-aac3-5f648f4f8df3"
      },
      "source": [
        "log_price = np.log(aapl_bar.Close)\n",
        "log_price.name = 'log_price'\n",
        "print(log_price)\n",
        "print('\\n---------------------- separate line--------------------\\n')\n",
        "concat = pd.concat([aapl_bar, log_price], axis = 1)\n",
        "print(concat)"
      ],
      "execution_count": 30,
      "outputs": [
        {
          "output_type": "stream",
          "text": [
            "Date\n",
            "2016-04-30    3.154231\n",
            "2016-05-31    3.217475\n",
            "2016-06-30    3.173878\n",
            "2016-07-31    3.260114\n",
            "2016-08-31    3.278088\n",
            "2016-09-30    3.341536\n",
            "2016-10-31    3.345861\n",
            "2016-11-30    3.318902\n",
            "2016-12-31    3.365743\n",
            "Freq: M, Name: log_price, dtype: float64\n",
            "\n",
            "---------------------- separate line--------------------\n",
            "\n",
            "                 Open       High        Low      Close  rate_return  log_price\n",
            "Date                                                                          \n",
            "2016-04-30  23.497499  23.680000  23.127501  23.434999          NaN   3.154231\n",
            "2016-05-31  24.900000  25.100000  24.705000  24.965000     0.065287   3.217475\n",
            "2016-06-30  23.610001  23.942499  23.575001  23.900000    -0.042660   3.173878\n",
            "2016-07-31  26.047501  26.137501  25.920000  26.052500     0.090063   3.260114\n",
            "2016-08-31  26.415001  26.642500  26.410000  26.525000     0.018136   3.278088\n",
            "2016-09-30  28.115000  28.342501  27.950001  28.262501     0.065504   3.341536\n",
            "2016-10-31  28.412500  28.557501  28.299999  28.385000     0.004334   3.345861\n",
            "2016-11-30  27.900000  28.049999  27.567499  27.629999    -0.026599   3.318902\n",
            "2016-12-31  29.162500  29.299999  28.857500  28.955000     0.047955   3.365743\n"
          ],
          "name": "stdout"
        }
      ]
    },
    {
      "cell_type": "markdown",
      "metadata": {
        "id": "26Fv4NqcS_s1"
      },
      "source": [
        "We can also join two DataFrames by rows. Consider these two DataFrames:"
      ]
    },
    {
      "cell_type": "code",
      "metadata": {
        "colab": {
          "base_uri": "https://localhost:8080/"
        },
        "id": "f05RxYyALa_M",
        "outputId": "4d112b7f-bf96-4798-e187-0c9d35c8f7e1"
      },
      "source": [
        "df_volume = aapl_table.loc['2016-10':'2017-04',['Volume']].resample('M').agg(lambda x: x[-1])\n",
        "print(df_volume)\n",
        "print('\\n---------------------- separate line--------------------\\n')\n",
        "df_2017 = aapl_table.loc['2016-10':'2017-04',['Open', 'High', 'Low', 'Close']].resample('M').agg(lambda x: x[-1])\n",
        "print(df_2017)"
      ],
      "execution_count": 31,
      "outputs": [
        {
          "output_type": "stream",
          "text": [
            "                 Volume\n",
            "Date                   \n",
            "2016-10-31  105677600.0\n",
            "2016-11-30  144649200.0\n",
            "2016-12-31  122345200.0\n",
            "2017-01-31  196804000.0\n",
            "2017-02-28   93931600.0\n",
            "2017-03-31   78646800.0\n",
            "2017-04-30   83441600.0\n",
            "\n",
            "---------------------- separate line--------------------\n",
            "\n",
            "                 Open       High        Low      Close\n",
            "Date                                                  \n",
            "2016-10-31  28.412500  28.557501  28.299999  28.385000\n",
            "2016-11-30  27.900000  28.049999  27.567499  27.629999\n",
            "2016-12-31  29.162500  29.299999  28.857500  28.955000\n",
            "2017-01-31  30.287500  30.347500  30.155001  30.337500\n",
            "2017-02-28  34.270000  34.360001  34.174999  34.247501\n",
            "2017-03-31  35.930000  36.067501  35.752499  35.915001\n",
            "2017-04-30  36.022499  36.075001  35.817501  35.912498\n"
          ],
          "name": "stdout"
        }
      ]
    },
    {
      "cell_type": "markdown",
      "metadata": {
        "id": "E2zUbkAJTEst"
      },
      "source": [
        "Now we merge the DataFrames with our DataFrame 'aapl_bar'"
      ]
    },
    {
      "cell_type": "code",
      "metadata": {
        "colab": {
          "base_uri": "https://localhost:8080/"
        },
        "id": "ZYmScTa7La_M",
        "outputId": "431ac768-a8e1-4265-e7a0-60a08d463af4"
      },
      "source": [
        "concat = pd.concat([aapl_bar,df_volume],axis = 1)\n",
        "print(concat)"
      ],
      "execution_count": 32,
      "outputs": [
        {
          "output_type": "stream",
          "text": [
            "                 Open       High  ...  rate_return       Volume\n",
            "Date                              ...                          \n",
            "2016-04-30  23.497499  23.680000  ...          NaN          NaN\n",
            "2016-05-31  24.900000  25.100000  ...     0.065287          NaN\n",
            "2016-06-30  23.610001  23.942499  ...    -0.042660          NaN\n",
            "2016-07-31  26.047501  26.137501  ...     0.090063          NaN\n",
            "2016-08-31  26.415001  26.642500  ...     0.018136          NaN\n",
            "2016-09-30  28.115000  28.342501  ...     0.065504          NaN\n",
            "2016-10-31  28.412500  28.557501  ...     0.004334  105677600.0\n",
            "2016-11-30  27.900000  28.049999  ...    -0.026599  144649200.0\n",
            "2016-12-31  29.162500  29.299999  ...     0.047955  122345200.0\n",
            "2017-01-31        NaN        NaN  ...          NaN  196804000.0\n",
            "2017-02-28        NaN        NaN  ...          NaN   93931600.0\n",
            "2017-03-31        NaN        NaN  ...          NaN   78646800.0\n",
            "2017-04-30        NaN        NaN  ...          NaN   83441600.0\n",
            "\n",
            "[13 rows x 6 columns]\n"
          ],
          "name": "stdout"
        }
      ]
    },
    {
      "cell_type": "markdown",
      "metadata": {
        "id": "jHKCc4KKTJWm"
      },
      "source": [
        "By default the DataFrame are joined with all of the data. This default options results in zero information loss. We can also merge them by intersection, this is called 'inner join':"
      ]
    },
    {
      "cell_type": "code",
      "metadata": {
        "colab": {
          "base_uri": "https://localhost:8080/"
        },
        "id": "NjrIxYq0La_M",
        "outputId": "87690890-62f1-41a6-9e28-2369d50ee4f0"
      },
      "source": [
        "concat = pd.concat([aapl_bar,df_volume],axis = 1, join = 'inner')\n",
        "print(concat)"
      ],
      "execution_count": 33,
      "outputs": [
        {
          "output_type": "stream",
          "text": [
            "               Open       High        Low      Close  rate_return       Volume\n",
            "Date                                                                          \n",
            "2016-10-31  28.4125  28.557501  28.299999  28.385000     0.004334  105677600.0\n",
            "2016-11-30  27.9000  28.049999  27.567499  27.629999    -0.026599  144649200.0\n",
            "2016-12-31  29.1625  29.299999  28.857500  28.955000     0.047955  122345200.0\n"
          ],
          "name": "stdout"
        }
      ]
    },
    {
      "cell_type": "markdown",
      "metadata": {
        "id": "dAMz9fyvTMVk"
      },
      "source": [
        "Only the intersection part was left if use 'inner join' method. Now let's try to append a DataFrame to another one:"
      ]
    },
    {
      "cell_type": "code",
      "metadata": {
        "colab": {
          "base_uri": "https://localhost:8080/"
        },
        "id": "QEdGmgHxLa_N",
        "outputId": "18db1596-8b0d-4f3b-e7d4-7a6530715a6b"
      },
      "source": [
        "append = aapl_bar.append(df_2017)\n",
        "print(append)"
      ],
      "execution_count": 34,
      "outputs": [
        {
          "output_type": "stream",
          "text": [
            "                 Open       High        Low      Close  rate_return\n",
            "Date                                                               \n",
            "2016-04-30  23.497499  23.680000  23.127501  23.434999          NaN\n",
            "2016-05-31  24.900000  25.100000  24.705000  24.965000     0.065287\n",
            "2016-06-30  23.610001  23.942499  23.575001  23.900000    -0.042660\n",
            "2016-07-31  26.047501  26.137501  25.920000  26.052500     0.090063\n",
            "2016-08-31  26.415001  26.642500  26.410000  26.525000     0.018136\n",
            "2016-09-30  28.115000  28.342501  27.950001  28.262501     0.065504\n",
            "2016-10-31  28.412500  28.557501  28.299999  28.385000     0.004334\n",
            "2016-11-30  27.900000  28.049999  27.567499  27.629999    -0.026599\n",
            "2016-12-31  29.162500  29.299999  28.857500  28.955000     0.047955\n",
            "2016-10-31  28.412500  28.557501  28.299999  28.385000          NaN\n",
            "2016-11-30  27.900000  28.049999  27.567499  27.629999          NaN\n",
            "2016-12-31  29.162500  29.299999  28.857500  28.955000          NaN\n",
            "2017-01-31  30.287500  30.347500  30.155001  30.337500          NaN\n",
            "2017-02-28  34.270000  34.360001  34.174999  34.247501          NaN\n",
            "2017-03-31  35.930000  36.067501  35.752499  35.915001          NaN\n",
            "2017-04-30  36.022499  36.075001  35.817501  35.912498          NaN\n"
          ],
          "name": "stdout"
        }
      ]
    },
    {
      "cell_type": "markdown",
      "metadata": {
        "id": "_4gsLdKdTPbs"
      },
      "source": [
        "'Append' is essentially to concat two DataFrames by axis = 0, thus here is an alternative way to append:"
      ]
    },
    {
      "cell_type": "code",
      "metadata": {
        "colab": {
          "base_uri": "https://localhost:8080/"
        },
        "id": "efXh4VXmLa_N",
        "outputId": "bf50df88-7b7c-4541-9b31-3172ed0506b0"
      },
      "source": [
        "concat = pd.concat([aapl_bar, df_2017], axis = 0)\n",
        "print(concat)"
      ],
      "execution_count": 35,
      "outputs": [
        {
          "output_type": "stream",
          "text": [
            "                 Open       High        Low      Close  rate_return\n",
            "Date                                                               \n",
            "2016-04-30  23.497499  23.680000  23.127501  23.434999          NaN\n",
            "2016-05-31  24.900000  25.100000  24.705000  24.965000     0.065287\n",
            "2016-06-30  23.610001  23.942499  23.575001  23.900000    -0.042660\n",
            "2016-07-31  26.047501  26.137501  25.920000  26.052500     0.090063\n",
            "2016-08-31  26.415001  26.642500  26.410000  26.525000     0.018136\n",
            "2016-09-30  28.115000  28.342501  27.950001  28.262501     0.065504\n",
            "2016-10-31  28.412500  28.557501  28.299999  28.385000     0.004334\n",
            "2016-11-30  27.900000  28.049999  27.567499  27.629999    -0.026599\n",
            "2016-12-31  29.162500  29.299999  28.857500  28.955000     0.047955\n",
            "2016-10-31  28.412500  28.557501  28.299999  28.385000          NaN\n",
            "2016-11-30  27.900000  28.049999  27.567499  27.629999          NaN\n",
            "2016-12-31  29.162500  29.299999  28.857500  28.955000          NaN\n",
            "2017-01-31  30.287500  30.347500  30.155001  30.337500          NaN\n",
            "2017-02-28  34.270000  34.360001  34.174999  34.247501          NaN\n",
            "2017-03-31  35.930000  36.067501  35.752499  35.915001          NaN\n",
            "2017-04-30  36.022499  36.075001  35.817501  35.912498          NaN\n"
          ],
          "name": "stdout"
        }
      ]
    },
    {
      "cell_type": "markdown",
      "metadata": {
        "id": "5VOv9ErKTS5c"
      },
      "source": [
        "Please note that if the two DataFrame have some columns with the same column names, these columns are considered to be the same and will be merged. It's very important to have the right column names. If we change a column names here:"
      ]
    },
    {
      "cell_type": "code",
      "metadata": {
        "colab": {
          "base_uri": "https://localhost:8080/"
        },
        "id": "0SpM8INLLa_O",
        "outputId": "62f772d9-223a-4e8f-9ac8-d9a9e2874919"
      },
      "source": [
        "df_2017.columns = ['Change', 'High','Low','Close']\n",
        "concat = pd.concat([aapl_bar, df_2017], axis = 0)\n",
        "print(concat)"
      ],
      "execution_count": 36,
      "outputs": [
        {
          "output_type": "stream",
          "text": [
            "                 Open       High        Low      Close  rate_return     Change\n",
            "Date                                                                          \n",
            "2016-04-30  23.497499  23.680000  23.127501  23.434999          NaN        NaN\n",
            "2016-05-31  24.900000  25.100000  24.705000  24.965000     0.065287        NaN\n",
            "2016-06-30  23.610001  23.942499  23.575001  23.900000    -0.042660        NaN\n",
            "2016-07-31  26.047501  26.137501  25.920000  26.052500     0.090063        NaN\n",
            "2016-08-31  26.415001  26.642500  26.410000  26.525000     0.018136        NaN\n",
            "2016-09-30  28.115000  28.342501  27.950001  28.262501     0.065504        NaN\n",
            "2016-10-31  28.412500  28.557501  28.299999  28.385000     0.004334        NaN\n",
            "2016-11-30  27.900000  28.049999  27.567499  27.629999    -0.026599        NaN\n",
            "2016-12-31  29.162500  29.299999  28.857500  28.955000     0.047955        NaN\n",
            "2016-10-31        NaN  28.557501  28.299999  28.385000          NaN  28.412500\n",
            "2016-11-30        NaN  28.049999  27.567499  27.629999          NaN  27.900000\n",
            "2016-12-31        NaN  29.299999  28.857500  28.955000          NaN  29.162500\n",
            "2017-01-31        NaN  30.347500  30.155001  30.337500          NaN  30.287500\n",
            "2017-02-28        NaN  34.360001  34.174999  34.247501          NaN  34.270000\n",
            "2017-03-31        NaN  36.067501  35.752499  35.915001          NaN  35.930000\n",
            "2017-04-30        NaN  36.075001  35.817501  35.912498          NaN  36.022499\n"
          ],
          "name": "stdout"
        }
      ]
    },
    {
      "cell_type": "markdown",
      "metadata": {
        "id": "0qn6gv-uTVKU"
      },
      "source": [
        "Since the column name of 'Open' has been changed, the new DataFrame has an new column named 'Change'."
      ]
    },
    {
      "cell_type": "markdown",
      "metadata": {
        "id": "AdLWn9ilTWqL"
      },
      "source": [
        "## Summary\n",
        "Hereby we introduced the most import part of python: resampling and DataFrame manipulation. We only introduced the most commonly used method in Financial data analysis. There are also many methods used in data mining, which are also beneficial. You can always check the Pandas official documentations for help."
      ]
    }
  ]
}