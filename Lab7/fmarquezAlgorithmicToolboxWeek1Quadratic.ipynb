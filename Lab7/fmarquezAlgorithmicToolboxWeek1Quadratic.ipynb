{
  "nbformat": 4,
  "nbformat_minor": 0,
  "metadata": {
    "kernelspec": {
      "display_name": "Python 3",
      "language": "python",
      "name": "python3"
    },
    "language_info": {
      "codemirror_mode": {
        "name": "ipython",
        "version": 3
      },
      "file_extension": ".py",
      "mimetype": "text/x-python",
      "name": "python",
      "nbconvert_exporter": "python",
      "pygments_lexer": "ipython3",
      "version": "3.5.2"
    },
    "colab": {
      "name": "fmarquezAlgorithmicToolboxWeek1Quadratic.ipynb",
      "provenance": [],
      "collapsed_sections": [],
      "include_colab_link": true
    }
  },
  "cells": [
    {
      "cell_type": "markdown",
      "metadata": {
        "id": "view-in-github",
        "colab_type": "text"
      },
      "source": [
        "<a href=\"https://colab.research.google.com/github/fmarquezf/MetNumUN2021I/blob/main/Lab7/fmarquezAlgorithmicToolboxWeek1Quadratic.ipynb\" target=\"_parent\"><img src=\"https://colab.research.google.com/assets/colab-badge.svg\" alt=\"Open In Colab\"/></a>"
      ]
    },
    {
      "cell_type": "markdown",
      "metadata": {
        "id": "zxKDzFqJ9btp"
      },
      "source": [
        "## Solve a quadratic equation, $x^2 + b x + c = 0$.\n",
        "\n",
        "\n",
        "Write a function which receives $b$ and $c$, the coefficients of a monic quadratic polynomial, $x^2 + b x + c$, and returns the pair of its roots. Your function should always return two values, even if quadratic has a double root.\n",
        "\n",
        "For example, given a quadratic $x^2 - 2x + 1$, your function should return a pair of $(1, 1)$. Of course, in floating point, your answers may differ from an exact unity.\n",
        "\n",
        "Your function also must correctly handle complex roots (to this end, you might need the `cmath` module from the standard library)."
      ]
    },
    {
      "cell_type": "code",
      "metadata": {
        "id": "JXWfwdjf-AAr"
      },
      "source": [
        "import math\n",
        "import cmath"
      ],
      "execution_count": null,
      "outputs": []
    },
    {
      "cell_type": "code",
      "metadata": {
        "collapsed": true,
        "id": "FPLq86wI9bty"
      },
      "source": [
        "def solve_quad(b, c):\n",
        "    \"\"\"Solve a quadratic equation, x**2 + bx + c = 0.\n",
        "    \n",
        "    Parameters\n",
        "    ----------\n",
        "    b, c : float\n",
        "       Coefficients\n",
        "       \n",
        "    Returns\n",
        "    -------\n",
        "    x1, x2 : float or complex\n",
        "       Roots.\n",
        "    \"\"\"\n",
        "    # ... enter your code here ...\n",
        "\n",
        "    dis = (b**2)-(4*c)\n",
        "\n",
        "    if dis == (b**2):\n",
        "      x1 = -b\n",
        "      x2 = c/x1\n",
        "      \n",
        "    elif dis >= 0:\n",
        "      x1 = (-b + math.sqrt(dis))/2\n",
        "      x2 = (-b - math.sqrt(dis))/2\n",
        "\n",
        "    else:\n",
        "      x1 = (-b + cmath.sqrt(dis))/2\n",
        "      x2 = (-b - cmath.sqrt(dis))/2\n",
        "    \n",
        "    return (x1, x2)"
      ],
      "execution_count": null,
      "outputs": []
    },
    {
      "cell_type": "markdown",
      "metadata": {
        "id": "x2g1XLnx9bt0"
      },
      "source": [
        "Test the your function on several examples against a calculation by hand. Once you're sure that your function works, try these five test cases below. \n",
        "\n",
        "Note that the last two test cases are special: they test whether your function handles extreme cases where a too simple approach is prone to a catastrophic cancellation. Make sure your function passes all five tests.\n",
        "\n",
        "This exercise is graded, each test case contributes a 20% of the grade. "
      ]
    },
    {
      "cell_type": "code",
      "metadata": {
        "collapsed": true,
        "id": "vV1oRgH09bt0"
      },
      "source": [
        "from numpy import allclose"
      ],
      "execution_count": null,
      "outputs": []
    },
    {
      "cell_type": "code",
      "metadata": {
        "collapsed": true,
        "id": "clV8VQ8Y9bt1"
      },
      "source": [
        "variants = [{'b': 4.0, 'c': 3.0},\n",
        "            {'b': 2.0, 'c': 1.0},\n",
        "            {'b': 0.5, 'c': 4.0},\n",
        "            {'b': 1e10, 'c': 3.0},\n",
        "            {'b': -1e10, 'c': 4.0},]"
      ],
      "execution_count": null,
      "outputs": []
    },
    {
      "cell_type": "code",
      "metadata": {
        "collapsed": true,
        "colab": {
          "base_uri": "https://localhost:8080/"
        },
        "id": "vaQdZ8L79bt1",
        "outputId": "8ebd3e63-28fa-4155-d6fe-58679e2d7481"
      },
      "source": [
        "for var in variants:\n",
        "    x1, x2 = solve_quad(**var)\n",
        "    print(allclose(x1*x2, var['c']))"
      ],
      "execution_count": null,
      "outputs": [
        {
          "output_type": "stream",
          "text": [
            "True\n",
            "True\n",
            "True\n",
            "True\n",
            "True\n"
          ],
          "name": "stdout"
        }
      ]
    },
    {
      "cell_type": "code",
      "metadata": {
        "colab": {
          "base_uri": "https://localhost:8080/"
        },
        "id": "dApqvtOtPgOB",
        "outputId": "8e6ccaf8-dbd9-4ce4-d746-00187d4e7834"
      },
      "source": [
        "z1, z2 = solve_quad(-1e10, 4.0)\n",
        "print (z1, z2)"
      ],
      "execution_count": null,
      "outputs": [
        {
          "output_type": "stream",
          "text": [
            "10000000000.0 4e-10\n"
          ],
          "name": "stdout"
        }
      ]
    }
  ]
}