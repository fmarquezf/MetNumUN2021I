{
  "nbformat": 4,
  "nbformat_minor": 0,
  "metadata": {
    "kernelspec": {
      "display_name": "Python 3",
      "language": "python",
      "name": "python3"
    },
    "language_info": {
      "codemirror_mode": {
        "name": "ipython",
        "version": 3
      },
      "file_extension": ".py",
      "mimetype": "text/x-python",
      "name": "python",
      "nbconvert_exporter": "python",
      "pygments_lexer": "ipython3",
      "version": "3.5.2"
    },
    "colab": {
      "name": "fmarquezAlgorithmicToolboxWeek5InterpolationApproximationModelingData.ipynb",
      "provenance": [],
      "collapsed_sections": [],
      "include_colab_link": true
    }
  },
  "cells": [
    {
      "cell_type": "markdown",
      "metadata": {
        "id": "view-in-github",
        "colab_type": "text"
      },
      "source": [
        "<a href=\"https://colab.research.google.com/github/fmarquezf/MetNumUN2021I/blob/main/Lab12/fmarquezAlgorithmicToolboxWeek5InterpolationApproximationModelingData.ipynb\" target=\"_parent\"><img src=\"https://colab.research.google.com/assets/colab-badge.svg\" alt=\"Open In Colab\"/></a>"
      ]
    },
    {
      "cell_type": "markdown",
      "metadata": {
        "id": "gz90WhUip4eY"
      },
      "source": [
        "# I. Linear least squares approximation"
      ]
    },
    {
      "cell_type": "markdown",
      "metadata": {
        "id": "1c12B__fp4ec"
      },
      "source": [
        "Consider a function $y = f(x)$ which is defined by a set of values $y_0, y_1, \\cdots, y_n$ at points $x_0, x_1, \\cdots, x_n$."
      ]
    },
    {
      "cell_type": "code",
      "metadata": {
        "collapsed": true,
        "id": "d1GOWVknp4ec"
      },
      "source": [
        "x = [-1, -0.7, -0.43, -0.14, -0.14, 0.43, 0.71, 1, 1.29, 1.57, 1.86, 2.14, 2.43, 2.71, 3]\n",
        "y = [-2.25, -0.77, 0.21, 0.44, 0.64, 0.03, -0.22, -0.84, -1.2, -1.03, -0.37, 0.61, 2.67, 5.04, 8.90]"
      ],
      "execution_count": 1,
      "outputs": []
    },
    {
      "cell_type": "markdown",
      "metadata": {
        "id": "nhuSpMkZp4ed"
      },
      "source": [
        "### I.I. Find a best fit polynomial\n",
        "\n",
        "$$\n",
        "P_m(x) = a_0 + a_1 x + \\cdots + a_m x^m\n",
        "$$\n",
        "\n",
        "using the linear least squares approach. To this end\n",
        "\n",
        "1. implement a function which constructs the design matrix using $1, x, \\cdots, x^m$ as the basis functions.\n",
        "\n",
        "2. construct explicitly the normal system of equations of the linear least squares problem at fixed $m$.\n",
        "\n",
        "3. Solve the normal equations to find the coefficients of $P_m(x)$ for $m = 0, 1, 2, \\dots$. For the linear algebra problem, you can either use library functions (`numpy.linalg.solve`) or your LU factorization code from week 1.\n",
        "\n",
        "(20% of the total grade)"
      ]
    },
    {
      "cell_type": "code",
      "metadata": {
        "collapsed": true,
        "id": "Cd7NQ7Hlp4ee"
      },
      "source": [
        "# ... ENTER YOUR CODE HERE"
      ],
      "execution_count": 2,
      "outputs": []
    },
    {
      "cell_type": "code",
      "metadata": {
        "id": "vFwLN5WVdeG_"
      },
      "source": [
        "import numpy as np\n",
        "from scipy import optimize\n",
        "import matplotlib.pyplot as plt\n"
      ],
      "execution_count": 3,
      "outputs": []
    },
    {
      "cell_type": "code",
      "metadata": {
        "id": "FcSaTKtadf02"
      },
      "source": [
        "def design_matrix(x, m):\n",
        "  x = np.array(x)\n",
        "  A = []\n",
        "  for k in range(m+1):\n",
        "      A.append(x**k)\n",
        "      \n",
        "  return np.array(A).T"
      ],
      "execution_count": 4,
      "outputs": []
    },
    {
      "cell_type": "code",
      "metadata": {
        "id": "jRG3QPcxbte_"
      },
      "source": [
        "def normal_eq_solution(A,b):\n",
        "    x = np.dot(np.linalg.inv(A.T @ A) @ A.T, b)\n",
        "    res = np.linalg.norm(A @ x - b)\n",
        "    return x, res"
      ],
      "execution_count": 5,
      "outputs": []
    },
    {
      "cell_type": "code",
      "metadata": {
        "id": "NiUOWX4NbJkA"
      },
      "source": [
        "ms = range(1,10)\n",
        "coef = [normal_eq_solution(design_matrix(x,m), y) for m in ms]"
      ],
      "execution_count": 6,
      "outputs": []
    },
    {
      "cell_type": "markdown",
      "metadata": {
        "id": "ApRU73YYp4ee"
      },
      "source": [
        "### I.II \n",
        "\n",
        "To find the optimal value of m, use the following criterion: take $m=0, 1, 2, \\dots$, for each value of $m$ compute \n",
        "\n",
        "$$\n",
        "\\sigma_m^2 = \\frac{1}{n - m} \\sum_{k=0}^n \\left( P_m(x_k) - y_k \\right)^2\n",
        "$$\n",
        "\n",
        "And take the value of $m$, at which $\\sigma_m$ stabilizes or starts increasing.\n",
        "\n",
        "(20% of the total grade)"
      ]
    },
    {
      "cell_type": "code",
      "metadata": {
        "collapsed": true,
        "id": "AH-RGqUWp4ee"
      },
      "source": [
        "# ... ENTER YOUR CODE HERE ..."
      ],
      "execution_count": 7,
      "outputs": []
    },
    {
      "cell_type": "code",
      "metadata": {
        "colab": {
          "base_uri": "https://localhost:8080/"
        },
        "id": "q48XzlhWbyXm",
        "outputId": "1181be46-12df-4b99-b6d7-cda6d74a1ed0"
      },
      "source": [
        "for a in coef:\n",
        "    print(a[1]/(16 - len(a[0])))"
      ],
      "execution_count": 8,
      "outputs": [
        {
          "output_type": "stream",
          "text": [
            "0.5638018817879079\n",
            "0.43442508405930796\n",
            "0.03223727022631271\n",
            "0.033656564378641424\n",
            "0.03549656220020561\n",
            "0.03588688045729663\n",
            "0.03919349715902612\n",
            "0.04065424160745155\n",
            "0.04642385374992531\n"
          ],
          "name": "stdout"
        }
      ]
    },
    {
      "cell_type": "markdown",
      "metadata": {
        "id": "RF2eCW-xp4ef"
      },
      "source": [
        "Plot your polynomials $P_m(x)$ on one plot, together with the datapoints. Visually compare best-fit polynomials of different degrees. Is the visual comparison consistent with the optimal value of $m$?"
      ]
    },
    {
      "cell_type": "code",
      "metadata": {
        "collapsed": true,
        "id": "MaKdPxuYp4ef"
      },
      "source": [
        "# ... ENTER YOUR CODE HERE"
      ],
      "execution_count": 9,
      "outputs": []
    },
    {
      "cell_type": "code",
      "metadata": {
        "colab": {
          "base_uri": "https://localhost:8080/",
          "height": 265
        },
        "id": "ZyqlRP_zeDQ-",
        "outputId": "5ac80860-d829-4101-ec03-d21fa5fb9953"
      },
      "source": [
        "import numpy.polynomial.polynomial as pm\n",
        "import matplotlib.pyplot as plt\n",
        "plt.scatter(x,y)\n",
        "\n",
        "for pol in coef:\n",
        "    pl = pm.polyval(x,pol[0])\n",
        "    plt.plot(x,pl)\n",
        "\n",
        "plt.show()"
      ],
      "execution_count": 10,
      "outputs": [
        {
          "output_type": "display_data",
          "data": {
            "image/png": "[encoded data removed]",
            "text/plain": [
              "<Figure size 432x288 with 1 Axes>"
            ]
          },
          "metadata": {
            "tags": [],
            "needs_background": "light"
          }
        }
      ]
    },
    {
      "cell_type": "markdown",
      "metadata": {
        "id": "lHbN3uYFp4ef"
      },
      "source": [
        "### I.III. Linear least-squares using the QR factorization.\n",
        "\n",
        "For the optimal value of $m$ from the previous part, solve the LLS problem using the QR factorization, withou ever forming the normal equations explicitly. For linear algebra, you can use standard library functions (look up `numpy.linalg.solve`, `numpy.linalg.qr` etc) or your code from previous weeks.\n",
        "\n",
        "Compare the results with the results of solving the normal system of equations.\n",
        "\n",
        "(20% of the grade)"
      ]
    },
    {
      "cell_type": "code",
      "metadata": {
        "collapsed": true,
        "id": "ikI6e5Uvp4eg"
      },
      "source": [
        "# ... ENTER YOUR CODE HERE ..."
      ],
      "execution_count": 11,
      "outputs": []
    },
    {
      "cell_type": "code",
      "metadata": {
        "id": "mHJC3ImVeU4P"
      },
      "source": [
        "import numpy as np\n",
        "import matplotlib.pyplot as plt"
      ],
      "execution_count": 12,
      "outputs": []
    },
    {
      "cell_type": "code",
      "metadata": {
        "colab": {
          "base_uri": "https://localhost:8080/",
          "height": 315
        },
        "id": "mVJFGnLfeXz4",
        "outputId": "a1674bd0-ff04-4153-a8b4-d73b74a9ff0d"
      },
      "source": [
        "x = [-1, -0.7, -0.43, -0.14, -0.14, 0.43, 0.71, 1, 1.29, 1.57, 1.86, 2.14, 2.43, 2.71, 3]\n",
        "y = [-2.25, -0.77, 0.21, 0.44, 0.64, 0.03, -0.22, -0.84, -1.2, -1.03, -0.37, 0.61, 2.67, 5.04, 8.90]\n",
        "\n",
        "#Pasamos los datos a Array de Numpy\n",
        "X, Y = np.array(x), np.array(y)\n",
        "\n",
        "#Creamos la matriz de coeficientes\n",
        "Xlen = len(X)\n",
        "unos = np.ones(Xlen)\n",
        "A = np.c_[unos, X]\n",
        "\n",
        "#Usando descompision QR\n",
        "q,r = np.linalg.qr(A)\n",
        "qt = np.transpose(q)\n",
        "qty = qt @ Y\n",
        "\n",
        "#Solucionando\n",
        "s = np.linalg.solve(r, qty)\n",
        "\n",
        "#Nos da como solucion s = [b, a]\n",
        "p = np.poly1d([s[1], s[0]])\n",
        "\n",
        "print(\" mx + b\")\n",
        "print(p)\n",
        "\n",
        "#Imprimimos\n",
        "plt.plot(X, Y, \"or\")\n",
        "x_plot = np.linspace(-1,3,100)\n",
        "plt.plot(x_plot, p(x_plot))\n",
        "plt.show()"
      ],
      "execution_count": 13,
      "outputs": [
        {
          "output_type": "stream",
          "text": [
            " mx + b\n",
            " \n",
            "1.465 x - 0.648\n"
          ],
          "name": "stdout"
        },
        {
          "output_type": "display_data",
          "data": {
            "image/png": "[encoded data removed]",
            "text/plain": [
              "<Figure size 432x288 with 1 Axes>"
            ]
          },
          "metadata": {
            "tags": [],
            "needs_background": "light"
          }
        }
      ]
    },
    {
      "cell_type": "markdown",
      "metadata": {
        "id": "JeKefrB7p4eg"
      },
      "source": [
        "# II. Lagrange interpolation"
      ]
    },
    {
      "cell_type": "markdown",
      "metadata": {
        "id": "qJ6NQEIUp4eg"
      },
      "source": [
        "### II.1 \n",
        "\n",
        "Consider the function, $f(x) = x^2 \\cos{x}$. On the interval $x\\in [\\pi/2, \\pi]$, interpolate the function using the Lagrange interpolating polynomial of degree $m$ with $m=1, 2, 3, 4, 5$. Use the uniform mesh. Plot the resulting interpolants together with $f(x)$.\n",
        "\n",
        "(20% of the total grade)"
      ]
    },
    {
      "cell_type": "code",
      "metadata": {
        "collapsed": true,
        "id": "zhNuMIYbp4eh",
        "colab": {
          "base_uri": "https://localhost:8080/",
          "height": 282
        },
        "outputId": "becabb7e-c5d0-43c4-bd8a-4208612207a7"
      },
      "source": [
        "# ... ENTER YOUR CODE HERE ...\n",
        "\n",
        "import numpy as np\n",
        "import math\n",
        "import sympy as sym\n",
        "import matplotlib.pyplot as plt\n",
        "\n",
        "#Creacion de puntos\n",
        "xi = np.array([((np.pi)/2),((105*np.pi)/180),((2*np.pi)/3),((3*np.pi)/4),((5*np.pi)/6),((165*np.pi)/180),(np.pi)])\n",
        "z = []\n",
        "for i in xi:\n",
        "  z.append((i**2) * math.cos(i) * i)\n",
        "yi = np.array(z)\n",
        "plt.plot(xi, yi, 'o')"
      ],
      "execution_count": 14,
      "outputs": [
        {
          "output_type": "execute_result",
          "data": {
            "text/plain": [
              "[<matplotlib.lines.Line2D at 0x7fb8fce4d410>]"
            ]
          },
          "metadata": {
            "tags": []
          },
          "execution_count": 14
        },
        {
          "output_type": "display_data",
          "data": {
            "image/png": "[encoded data removed]",
            "text/plain": [
              "<Figure size 432x288 with 1 Axes>"
            ]
          },
          "metadata": {
            "tags": [],
            "needs_background": "light"
          }
        }
      ]
    },
    {
      "cell_type": "code",
      "metadata": {
        "id": "Cldgz7pSewN-"
      },
      "source": [
        "def lagr_interpol (m, xi, yi):\n",
        "  n = m\n",
        "  x = sym.Symbol('x')\n",
        "  i = 0\n",
        "  polinomio = 0\n",
        "\n",
        "  #Terminos de Lagrange\n",
        "  for i in range(0,n,1):\n",
        "    numerador = 1\n",
        "    denominador = 1\n",
        "    for j in range(0,n,1):\n",
        "      if i != j:\n",
        "        numerador *= x-xi[j]\n",
        "        denominador *= xi[i]-xi[j]\n",
        "      termino = (numerador/denominador)*yi[i]\n",
        "    polinomio += termino\n",
        "  polisimple = sym.expand(polinomio)\n",
        "\n",
        "  print(polinomio)\n",
        "  print(polisimple)\n",
        "\n",
        "  px = sym.lambdify(x,polinomio)\n",
        "  p_xi = np.linspace(np.max(xi), np.min(xi), 100)\n",
        "  pfi = px(p_xi)\n",
        "  return p_xi, pfi"
      ],
      "execution_count": 15,
      "outputs": []
    },
    {
      "cell_type": "code",
      "metadata": {
        "colab": {
          "base_uri": "https://localhost:8080/",
          "height": 298
        },
        "id": "CBlqX0qiIptV",
        "outputId": "dfe9bbe9-fa2d-4439-b35d-b1961d0fe30c"
      },
      "source": [
        "#With m = 1\n",
        "n = 1\n",
        "x = sym.Symbol('x')\n",
        "i = 0\n",
        "polinomio = 0\n",
        "\n",
        "#Terminos de Lagrange\n",
        "for i in range(0,n,1):\n",
        "  numerador = 1\n",
        "  denominador = 1\n",
        "  for j in range(0,n,1):\n",
        "    if i != j:\n",
        "      numerador *= x-xi[j]\n",
        "      denominador *= xi[i]-xi[j]\n",
        "    termino = (numerador/denominador)*yi[i]\n",
        "  polinomio += termino\n",
        "polisimple = sym.expand(polinomio)\n",
        "\n",
        "print(polinomio)\n",
        "print(polisimple)\n",
        "\n",
        "px = sym.lambdify(x,polinomio)\n",
        "p_xi = np.linspace(np.max(xi), np.min(xi), 1)\n",
        "pfi = px(p_xi)\n",
        "\n",
        "plt.plot(xi, yi, 'or')\n",
        "plt.plot(p_xi, pfi)\n",
        "plt.show()"
      ],
      "execution_count": 16,
      "outputs": [
        {
          "output_type": "stream",
          "text": [
            "2.3732335931253993e-16\n",
            "2.37323359312540e-16\n"
          ],
          "name": "stdout"
        },
        {
          "output_type": "display_data",
          "data": {
            "image/png": "[encoded data removed]",
            "text/plain": [
              "<Figure size 432x288 with 1 Axes>"
            ]
          },
          "metadata": {
            "tags": [],
            "needs_background": "light"
          }
        }
      ]
    },
    {
      "cell_type": "code",
      "metadata": {
        "colab": {
          "base_uri": "https://localhost:8080/",
          "height": 298
        },
        "id": "tLvXwUV8OWnf",
        "outputId": "ec6e49f6-9117-4e17-f45a-6ddf4ba32e6c"
      },
      "source": [
        "#with m = 2\n",
        "\n",
        "p_xi, pfi = lagr_interpol(2, xi, yi)\n",
        "\n",
        "plt.plot(xi, yi, 'or')\n",
        "plt.plot(p_xi, pfi)\n",
        "plt.show()"
      ],
      "execution_count": 17,
      "outputs": [
        {
          "output_type": "stream",
          "text": [
            "9.55756985571131 - 6.08453794593019*x\n",
            "9.55756985571131 - 6.08453794593019*x\n"
          ],
          "name": "stdout"
        },
        {
          "output_type": "display_data",
          "data": {
            "image/png": "[encoded data removed]",
            "text/plain": [
              "<Figure size 432x288 with 1 Axes>"
            ]
          },
          "metadata": {
            "tags": [],
            "needs_background": "light"
          }
        }
      ]
    },
    {
      "cell_type": "code",
      "metadata": {
        "colab": {
          "base_uri": "https://localhost:8080/",
          "height": 318
        },
        "id": "QgbAIsYEOelr",
        "outputId": "22cdc926-732d-4264-c18e-7f7be06af55e"
      },
      "source": [
        "#with m = 3\n",
        "\n",
        "p_xi_3, pfi_3 = lagr_interpol(3, xi, yi)\n",
        "\n",
        "plt.plot(xi, yi, 'or')\n",
        "plt.plot(p_xi_3, pfi_3)\n",
        "plt.show()"
      ],
      "execution_count": 18,
      "outputs": [
        {
          "output_type": "stream",
          "text": [
            "1.73130362434961e-15*(x - 2.0943951023932)*(x - 1.83259571459405) + 23.2412229726*(x - 2.0943951023932)*(x - 1.5707963267949) - 33.5103216382911*(x - 1.83259571459405)*(x - 1.5707963267949)\n",
            "-10.2690986656912*x**2 + 28.865230725121*x - 20.0034130485756\n"
          ],
          "name": "stdout"
        },
        {
          "output_type": "display_data",
          "data": {
            "image/png": "[encoded data removed]",
            "text/plain": [
              "<Figure size 432x288 with 1 Axes>"
            ]
          },
          "metadata": {
            "tags": [],
            "needs_background": "light"
          }
        }
      ]
    },
    {
      "cell_type": "code",
      "metadata": {
        "colab": {
          "base_uri": "https://localhost:8080/",
          "height": 318
        },
        "id": "q0MbEZ5-OnAF",
        "outputId": "2f454729-db33-489d-e30c-0bf0629a0780"
      },
      "source": [
        "#with m = 4\n",
        "\n",
        "p_xi, pfi = lagr_interpol(4, xi, yi)\n",
        "\n",
        "plt.plot(xi, yi, 'or')\n",
        "plt.plot(p_xi, pfi)\n",
        "plt.show()"
      ],
      "execution_count": 19,
      "outputs": [
        {
          "output_type": "stream",
          "text": [
            "-2.20436423846524e-15*(x - 2.35619449019234)*(x - 2.0943951023932)*(x - 1.83259571459405) - 44.3874662350824*(x - 2.35619449019234)*(x - 2.0943951023932)*(x - 1.5707963267949) + 128.0*(x - 2.35619449019234)*(x - 1.83259571459405)*(x - 1.5707963267949) - 85.9134739141655*(x - 2.0943951023932)*(x - 1.83259571459405)*(x - 1.5707963267949)\n",
            "-2.30094014924784*x**3 + 2.38098050545574*x**2 + 5.84045379835527*x - 6.13104893061131\n"
          ],
          "name": "stdout"
        },
        {
          "output_type": "display_data",
          "data": {
            "image/png": "[encoded data removed]",
            "text/plain": [
              "<Figure size 432x288 with 1 Axes>"
            ]
          },
          "metadata": {
            "tags": [],
            "needs_background": "light"
          }
        }
      ]
    },
    {
      "cell_type": "code",
      "metadata": {
        "colab": {
          "base_uri": "https://localhost:8080/",
          "height": 318
        },
        "id": "79HGd_30PDuo",
        "outputId": "6f042112-653e-41d4-c909-acdb049cb896"
      },
      "source": [
        "#with m = 5\n",
        "\n",
        "p_xi, pfi = lagr_interpol(5, xi, yi)\n",
        "\n",
        "plt.plot(xi, yi, 'or')\n",
        "plt.plot(p_xi, pfi)\n",
        "plt.show()"
      ],
      "execution_count": 20,
      "outputs": [
        {
          "output_type": "stream",
          "text": [
            "2.10501278956046e-15*(x - 2.61799387799149)*(x - 2.35619449019234)*(x - 2.0943951023932)*(x - 1.83259571459405) + 56.5158773011037*(x - 2.61799387799149)*(x - 2.35619449019234)*(x - 2.0943951023932)*(x - 1.5707963267949) - 244.461992589151*(x - 2.61799387799149)*(x - 2.35619449019234)*(x - 1.83259571459405)*(x - 1.5707963267949) + 328.165297239265*(x - 2.61799387799149)*(x - 2.0943951023932)*(x - 1.83259571459405)*(x - 1.5707963267949) - 137.832223855448*(x - 2.35619449019234)*(x - 2.0943951023932)*(x - 1.83259571459405)*(x - 1.5707963267949)\n",
            "2.3869580957695*x**4 - 21.0480651944877*x**3 + 57.1868226069801*x**2 - 64.8294693404332*x + 27.776866259308\n"
          ],
          "name": "stdout"
        },
        {
          "output_type": "display_data",
          "data": {
            "image/png": "[encoded data removed]",
            "text/plain": [
              "<Figure size 432x288 with 1 Axes>"
            ]
          },
          "metadata": {
            "tags": [],
            "needs_background": "light"
          }
        }
      ]
    },
    {
      "cell_type": "code",
      "metadata": {
        "colab": {
          "base_uri": "https://localhost:8080/",
          "height": 318
        },
        "id": "ogdHSigbR35G",
        "outputId": "34a33bbb-4718-4798-a4ce-01e7af014f22"
      },
      "source": [
        "#with m = len(xi)\n",
        "\n",
        "p_xi, pfi = lagr_interpol(len(xi), xi, yi)\n",
        "\n",
        "plt.plot(xi, yi, 'or')\n",
        "plt.plot(p_xi, pfi)\n",
        "plt.show()"
      ],
      "execution_count": 21,
      "outputs": [
        {
          "output_type": "stream",
          "text": [
            "1.02375545961852e-15*(x - 3.14159265358979)*(x - 2.87979326579064)*(x - 2.61799387799149)*(x - 2.35619449019234)*(x - 2.0943951023932)*(x - 1.83259571459405) + 41.2290401956773*(x - 3.14159265358979)*(x - 2.87979326579064)*(x - 2.61799387799149)*(x - 2.35619449019234)*(x - 2.0943951023932)*(x - 1.5707963267949) - 297.230141336366*(x - 3.14159265358979)*(x - 2.87979326579064)*(x - 2.61799387799149)*(x - 2.35619449019234)*(x - 1.83259571459405)*(x - 1.5707963267949) + 798.002312318926*(x - 3.14159265358979)*(x - 2.87979326579064)*(x - 2.61799387799149)*(x - 2.0943951023932)*(x - 1.83259571459405)*(x - 1.5707963267949) - 1005.50333268646*(x - 3.14159265358979)*(x - 2.87979326579064)*(x - 2.35619449019234)*(x - 2.0943951023932)*(x - 1.83259571459405)*(x - 1.5707963267949) + 597.083001866827*(x - 3.14159265358979)*(x - 2.61799387799149)*(x - 2.35619449019234)*(x - 2.0943951023932)*(x - 1.83259571459405)*(x - 1.5707963267949) - 133.753563601365*(x - 2.87979326579064)*(x - 2.61799387799149)*(x - 2.35619449019234)*(x - 2.0943951023932)*(x - 1.83259571459405)*(x - 1.5707963267949)\n",
            "-0.172683242756307*x**6 + 3.01041448288197*x**5 - 17.7167490841821*x**4 + 46.7617718446418*x**3 - 66.4982042748597*x**2 + 51.8420952208689*x - 16.928351731447\n"
          ],
          "name": "stdout"
        },
        {
          "output_type": "display_data",
          "data": {
            "image/png": "[encoded data removed]",
            "text/plain": [
              "<Figure size 432x288 with 1 Axes>"
            ]
          },
          "metadata": {
            "tags": [],
            "needs_background": "light"
          }
        }
      ]
    },
    {
      "cell_type": "markdown",
      "metadata": {
        "id": "k-VuOvgvp4eh"
      },
      "source": [
        "### II.2. \n",
        "\n",
        "Repeat the previous task using the Chebyshev nodes. Compare the quality of interpolation on a uniform mesh and Chebyshev nodes for $m=3$.\n",
        "\n",
        "(20% of the total grade)"
      ]
    },
    {
      "cell_type": "code",
      "metadata": {
        "id": "hAUCDLggp4eh",
        "colab": {
          "base_uri": "https://localhost:8080/",
          "height": 318
        },
        "outputId": "0fb0b2f0-a1e4-4fe3-a8f2-1bd2f53743c4"
      },
      "source": [
        "def chebishev_nodes(a,b,m):\n",
        "  k = np.array(range(m))\n",
        "  x = np.cos(2*k+1/m)\n",
        "  return (x+1)*(b-a)/2 + a\n",
        "\n",
        "grid = chebishev_nodes(np.pi/2, np.pi, 3)\n",
        "\n",
        "z = []\n",
        "for i in grid:\n",
        "  z.append((i**2) * math.cos(i) * i)\n",
        "yi = np.array(z)\n",
        "plt.plot(grid, yi, 'o')\n",
        "\n",
        "n = len(grid)\n",
        "x = sym.Symbol('x')\n",
        "i = 0\n",
        "polinomio = 0\n",
        "\n",
        "#Terminos de Lagrange\n",
        "for i in range(0,n,1):\n",
        "  numerador = 1\n",
        "  denominador = 1\n",
        "  for j in range(0,n,1):\n",
        "    if i != j:\n",
        "      numerador *= x-grid[j]\n",
        "      denominador *= grid[i]-grid[j]\n",
        "    termino = (numerador/denominador)*yi[i]\n",
        "  polinomio += termino\n",
        "polisimple = sym.expand(polinomio)\n",
        "\n",
        "print(polinomio)\n",
        "print(polisimple)\n",
        "\n",
        "px = sym.lambdify(x,polinomio)\n",
        "p_xi = np.linspace(np.max(grid), np.min(grid), 100)\n",
        "pfi = px(p_xi)\n",
        "\n",
        "plt.plot(grid, yi, 'or')\n",
        "plt.plot(p_xi_3, pfi_3)\n",
        "plt.plot(p_xi, pfi)\n",
        "plt.show()\n"
      ],
      "execution_count": 22,
      "outputs": [
        {
          "output_type": "stream",
          "text": [
            "-4.43385378114682*(x - 3.0983619403176)*(x - 2.06556314867247) + 16.0851715665763*(x - 3.0983619403176)*(x - 1.81367431588095) - 22.3963494012896*(x - 2.06556314867247)*(x - 1.81367431588095)\n",
            "-10.7450316158602*x**2 + 30.7659005258923*x - 21.8892488128102\n"
          ],
          "name": "stdout"
        },
        {
          "output_type": "display_data",
          "data": {
            "image/png": "[encoded data removed]",
            "text/plain": [
              "<Figure size 432x288 with 1 Axes>"
            ]
          },
          "metadata": {
            "tags": [],
            "needs_background": "light"
          }
        }
      ]
    }
  ]
}