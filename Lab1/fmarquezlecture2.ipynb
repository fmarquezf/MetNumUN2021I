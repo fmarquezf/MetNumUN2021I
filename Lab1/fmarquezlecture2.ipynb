{
  "nbformat": 4,
  "nbformat_minor": 0,
  "metadata": {
    "kernelspec": {
      "name": "python3",
      "display_name": "Python 3"
    },
    "colab": {
      "name": "fmarquezlecture2.ipynb",
      "provenance": [],
      "collapsed_sections": [],
      "include_colab_link": true
    }
  },
  "cells": [
    {
      "cell_type": "markdown",
      "metadata": {
        "id": "view-in-github",
        "colab_type": "text"
      },
      "source": [
        "<a href=\"https://colab.research.google.com/github/fmarquezf/MetNumUN2021I/blob/main/Lab1/fmarquezlecture2.ipynb\" target=\"_parent\"><img src=\"https://colab.research.google.com/assets/colab-badge.svg\" alt=\"Open In Colab\"/></a>"
      ]
    },
    {
      "cell_type": "markdown",
      "metadata": {
        "id": "SeIjiAV4-PS_"
      },
      "source": [
        "# Introduction to Python\n",
        "by Maxwell Margenot\n",
        "\n",
        "Part of the Quantopian Lecture Series:\n",
        "\n",
        "* [www.quantopian.com/lectures](https://www.quantopian.com/lectures)\n",
        "* [github.com/quantopian/research_public](https://github.com/quantopian/research_public)\n",
        "\n",
        "\n",
        "---\n",
        "\n",
        "All of the coding that you will do on the Quantopian platform will be in Python. It is also just a good, jack-of-all-trades language to know! Here we will provide you with the basics so that you can feel confident going through our other lectures and understanding what is happening."
      ]
    },
    {
      "cell_type": "markdown",
      "metadata": {
        "id": "axRVdQ-J-PTH"
      },
      "source": [
        "## Code Comments\n",
        "\n",
        "A comment is a note made by a programmer in the source code of a program. Its purpose is to clarify the source code and make it easier for people to follow along with what is happening. Anything in a comment is generally ignored when the code is actually run, making comments useful for including explanations and reasoning as well as removing specific lines of code that you may be unsure about. Comments in Python are created by using the pound symbol (`# Insert Text Here`). Including a `#` in a line of code will comment out anything that follows it."
      ]
    },
    {
      "cell_type": "code",
      "metadata": {
        "id": "bnKvSAom-PTI"
      },
      "source": [
        "# This is a comment\n",
        "# These lines of code will not change any values\n",
        "# Anything following the first # is not run as code"
      ],
      "execution_count": 5,
      "outputs": []
    },
    {
      "cell_type": "code",
      "metadata": {
        "id": "HMSNTWFvLZUw"
      },
      "source": [
        "# Esto es un comentario\n",
        "# Estas lineas de codigo no cambiaran ningun valor\n",
        "# Lo que siga el primer # no es ejecutado como codigo"
      ],
      "execution_count": 2,
      "outputs": []
    },
    {
      "cell_type": "markdown",
      "metadata": {
        "id": "MCvGmMiy-PTJ"
      },
      "source": [
        "You may hear text enclosed in triple quotes (`\"\"\" Insert Text Here \"\"\"`) referred to as multi-line comments, but this is not entirely accurate. This is a special type of `string` (a data type we will cover), called a `docstring`, used to explain the purpose of a function."
      ]
    },
    {
      "cell_type": "code",
      "metadata": {
        "id": "eo27zmBP-PTL",
        "colab": {
          "base_uri": "https://localhost:8080/",
          "height": 35
        },
        "outputId": "f150865e-eb40-437c-ecde-e59f770e1272"
      },
      "source": [
        "\"\"\" This is a special string \"\"\""
      ],
      "execution_count": 3,
      "outputs": [
        {
          "output_type": "execute_result",
          "data": {
            "application/vnd.google.colaboratory.intrinsic+json": {
              "type": "string"
            },
            "text/plain": [
              "' This is a special string '"
            ]
          },
          "metadata": {
            "tags": []
          },
          "execution_count": 3
        }
      ]
    },
    {
      "cell_type": "code",
      "metadata": {
        "colab": {
          "base_uri": "https://localhost:8080/",
          "height": 35
        },
        "id": "AyvSWGu1LlqS",
        "outputId": "343b6c94-60b9-4e76-ba79-078f7185a891"
      },
      "source": [
        "\"\"\" Esto es una \n",
        "cadena de caracteres especial \"\"\""
      ],
      "execution_count": 4,
      "outputs": [
        {
          "output_type": "execute_result",
          "data": {
            "application/vnd.google.colaboratory.intrinsic+json": {
              "type": "string"
            },
            "text/plain": [
              "' Esto es una \\ncadena de caracteres especial '"
            ]
          },
          "metadata": {
            "tags": []
          },
          "execution_count": 4
        }
      ]
    },
    {
      "cell_type": "markdown",
      "metadata": {
        "id": "iyxuabU7-PTM"
      },
      "source": [
        "Make sure you read the comments within each code cell (if they are there). They will provide more real-time explanations of what is going on as you look at each line of code."
      ]
    },
    {
      "cell_type": "markdown",
      "metadata": {
        "id": "XMraB4mQ-PTM"
      },
      "source": [
        "## Variables\n",
        "\n",
        "Variables provide names for values in programming. If you want to save a value for later or repeated use, you give the value a name, storing the contents in a variable. Variables in programming work in a fundamentally similar way to variables in algebra, but in Python they can take on various different data types.\n",
        "\n",
        "The basic variable types that we will cover in this section are `integers`, `floating point numbers`, `booleans`, and `strings`. \n",
        "\n",
        "An `integer` in programming is the same as in mathematics, a round number with no values after the decimal point. We use the built-in `print` function here to display the values of our variables as well as their types!"
      ]
    },
    {
      "cell_type": "code",
      "metadata": {
        "id": "LvjQNQpM-PTN"
      },
      "source": [
        "my_integer = 50\n",
        "print my_integer, type(my_integer)"
      ],
      "execution_count": null,
      "outputs": []
    },
    {
      "cell_type": "code",
      "metadata": {
        "colab": {
          "base_uri": "https://localhost:8080/"
        },
        "id": "rPdBYEaSL1vw",
        "outputId": "a7303bf4-3093-469a-d158-3c708b444f6c"
      },
      "source": [
        "mi_entero = 30\n",
        "print (mi_entero, type(mi_entero))"
      ],
      "execution_count": 36,
      "outputs": [
        {
          "output_type": "stream",
          "text": [
            "30 <class 'int'>\n"
          ],
          "name": "stdout"
        }
      ]
    },
    {
      "cell_type": "markdown",
      "metadata": {
        "id": "8idV3QGp-PTN"
      },
      "source": [
        "Variables, regardless of type, are assigned by using a single equals sign (`=`). Variables are case-sensitive so any changes in variation in the capitals of a variable name will reference a different variable entirely."
      ]
    },
    {
      "cell_type": "code",
      "metadata": {
        "id": "JkFGe_j9-PTO"
      },
      "source": [
        "one = 1\n",
        "print One"
      ],
      "execution_count": null,
      "outputs": []
    },
    {
      "cell_type": "code",
      "metadata": {
        "colab": {
          "base_uri": "https://localhost:8080/"
        },
        "id": "tGe6nOo6Mg8C",
        "outputId": "206a2c00-faec-4847-c4f6-21fa16b7e1db"
      },
      "source": [
        "uno = 1\n",
        "print (uno)"
      ],
      "execution_count": 10,
      "outputs": [
        {
          "output_type": "stream",
          "text": [
            "1\n"
          ],
          "name": "stdout"
        }
      ]
    },
    {
      "cell_type": "markdown",
      "metadata": {
        "id": "WA5xTnqE-PTO"
      },
      "source": [
        "A `floating point` number, or a `float` is a fancy name for a real number (again as in mathematics). To define a `float`, we need to either include a decimal point or specify that the value is a float."
      ]
    },
    {
      "cell_type": "code",
      "metadata": {
        "scrolled": true,
        "id": "zD0r4Uwt-PTO"
      },
      "source": [
        "my_float = 1.0\n",
        "print my_float, type(my_float)\n",
        "my_float = float(1)\n",
        "print my_float, type(my_float)"
      ],
      "execution_count": null,
      "outputs": []
    },
    {
      "cell_type": "code",
      "metadata": {
        "colab": {
          "base_uri": "https://localhost:8080/"
        },
        "id": "JWtNhOFzMujl",
        "outputId": "9a5eb491-05eb-4a73-8583-28ab469fd6e3"
      },
      "source": [
        "mi_float = 3.0\n",
        "print (mi_float, type(mi_float))\n",
        "mi_float = float(2)\n",
        "print (mi_float, type(mi_float))\n"
      ],
      "execution_count": 35,
      "outputs": [
        {
          "output_type": "stream",
          "text": [
            "3.0 <class 'float'>\n",
            "2.0 <class 'float'>\n"
          ],
          "name": "stdout"
        }
      ]
    },
    {
      "cell_type": "markdown",
      "metadata": {
        "id": "n7IFNSlA-PTP"
      },
      "source": [
        "A variable of type `float` will not round the number that you store in it, while a variable of type `integer` will. This makes `floats` more suitable for mathematical calculations where you want more than just integers.\n",
        "\n",
        "Note that as we used the `float()` function to force an number to be considered a `float`, we can use the `int()` function to force a number to be considered an `int`."
      ]
    },
    {
      "cell_type": "code",
      "metadata": {
        "id": "wycOk_1e-PTP"
      },
      "source": [
        "my_int = int(3.14159)\n",
        "print my_int, type(my_int)"
      ],
      "execution_count": null,
      "outputs": []
    },
    {
      "cell_type": "code",
      "metadata": {
        "colab": {
          "base_uri": "https://localhost:8080/"
        },
        "id": "ctnHCcLgNqJc",
        "outputId": "42e52b9b-9a68-4911-eac4-57c361d2def1"
      },
      "source": [
        "mi_ent = int(2.71828)\n",
        "print (mi_ent, type(mi_ent))"
      ],
      "execution_count": 33,
      "outputs": [
        {
          "output_type": "stream",
          "text": [
            "2 <class 'int'>\n"
          ],
          "name": "stdout"
        }
      ]
    },
    {
      "cell_type": "markdown",
      "metadata": {
        "id": "IWgnUWo--PTQ"
      },
      "source": [
        "The `int()` function will also truncate any digits that a number may have after the decimal point!\n",
        "\n",
        "Strings allow you to include text as a variable to operate on. They are defined using either single quotes ('') or double quotes (\"\")."
      ]
    },
    {
      "cell_type": "code",
      "metadata": {
        "id": "O8KXheRS-PTQ"
      },
      "source": [
        "my_string = 'This is a string with single quotes'\n",
        "print my_string\n",
        "my_string = \"This is a string with double quotes\"\n",
        "print my_string"
      ],
      "execution_count": null,
      "outputs": []
    },
    {
      "cell_type": "code",
      "metadata": {
        "colab": {
          "base_uri": "https://localhost:8080/"
        },
        "id": "-aF5F2lTOGUJ",
        "outputId": "4a742dd3-f765-46fb-aff0-a9c5a2d92701"
      },
      "source": [
        "mi_cadena = 'Esta es una cadena de comillas simples'\n",
        "print(mi_cadena)\n",
        "mi_cadena = \"Esta es una cadena de comillas dobles\"\n",
        "print(mi_cadena)"
      ],
      "execution_count": 22,
      "outputs": [
        {
          "output_type": "stream",
          "text": [
            "Esta es una cadena de comillas simples\n",
            "Esta es una cadena de comillas dobles\n"
          ],
          "name": "stdout"
        }
      ]
    },
    {
      "cell_type": "markdown",
      "metadata": {
        "id": "y4U-KRMH-PTQ"
      },
      "source": [
        "Both are allowed so that we can include apostrophes or quotation marks in a string if we so choose."
      ]
    },
    {
      "cell_type": "code",
      "metadata": {
        "id": "swGPprIC-PTR"
      },
      "source": [
        "my_string = '\"Jabberwocky\", by Lewis Carroll'\n",
        "print my_string\n",
        "my_string = \"'Twas brillig, and the slithy toves / Did gyre and gimble in the wabe;\"\n",
        "print my_string"
      ],
      "execution_count": null,
      "outputs": []
    },
    {
      "cell_type": "code",
      "metadata": {
        "colab": {
          "base_uri": "https://localhost:8080/"
        },
        "id": "TGfPHb7XOiez",
        "outputId": "eb8203a8-6f90-47be-eee1-d7b12ca3edf5"
      },
      "source": [
        "mi_cadena = '\"Jabberwocky\", de Lewis Carroll'\n",
        "print (mi_cadena)\n",
        "mi_cadena = \"'Twas brillig, y los slithy toves / gyre y gimble en el wabe;\"\n",
        "print (mi_cadena)"
      ],
      "execution_count": 24,
      "outputs": [
        {
          "output_type": "stream",
          "text": [
            "\"Jabberwocky\", de Lewis Carroll\n",
            "'Twas brillig, y los slithy toves / gyre y gimble en el wabe;\n"
          ],
          "name": "stdout"
        }
      ]
    },
    {
      "cell_type": "markdown",
      "metadata": {
        "id": "B91AtGO1-PTR"
      },
      "source": [
        "Booleans, or `bools` are binary variable types. A `bool` can only take on one of two values, these being `True` or `False`. There is much more to this idea of truth values when it comes to programming, which we cover later in the [Logical Operators](#id-section5) of this notebook."
      ]
    },
    {
      "cell_type": "code",
      "metadata": {
        "id": "oIIBCuTI-PTR"
      },
      "source": [
        "my_bool = True\n",
        "print my_bool, type(my_bool)"
      ],
      "execution_count": null,
      "outputs": []
    },
    {
      "cell_type": "code",
      "metadata": {
        "colab": {
          "base_uri": "https://localhost:8080/"
        },
        "id": "fTw7CauBPeS0",
        "outputId": "978277ed-ec3d-4b0d-b37a-dd4d2e4fae3e"
      },
      "source": [
        "mi_bul = True\n",
        "print (mi_bul, type(mi_bul))"
      ],
      "execution_count": 32,
      "outputs": [
        {
          "output_type": "stream",
          "text": [
            "True <class 'bool'>\n"
          ],
          "name": "stdout"
        }
      ]
    },
    {
      "cell_type": "markdown",
      "metadata": {
        "id": "xKlPIQka-PTR"
      },
      "source": [
        "There are many more data types that you can assign as variables in Python, but these are the basic ones! We will cover a few more later as we move through this tutorial."
      ]
    },
    {
      "cell_type": "markdown",
      "metadata": {
        "id": "SM4w_aTP-PTS"
      },
      "source": [
        "## Basic Math\n",
        "\n",
        "Python has a number of built-in math functions. These can be extended even further by importing the **math** package or by including any number of other calculation-based packages.\n",
        "\n",
        "All of the basic arithmetic operations are supported: `+`, `-`, `/`, and `*`. You can create exponents by using `**` and modular arithmetic is introduced with the mod operator, `%`."
      ]
    },
    {
      "cell_type": "code",
      "metadata": {
        "id": "-_ZiZyNT-PTS"
      },
      "source": [
        "print 'Addition: ', 2 + 2\n",
        "print 'Subtraction: ', 7 - 4\n",
        "print 'Multiplication: ', 2 * 5\n",
        "print 'Division: ', 10 / 2\n",
        "print 'Exponentiation: ', 3**2"
      ],
      "execution_count": null,
      "outputs": []
    },
    {
      "cell_type": "code",
      "metadata": {
        "colab": {
          "base_uri": "https://localhost:8080/"
        },
        "id": "2D_KFEKTPwlJ",
        "outputId": "996b7f34-6e37-4005-93f2-0712f99630fc"
      },
      "source": [
        "print ('Adición: ', 5 + 7)\n",
        "print ('Resto: ', 13 - 6)\n",
        "print ('Multiplicación: ', 4 * 9)\n",
        "print ('División: ', 15 / 3)\n",
        "print ('Exponenciación: ', 2**3)"
      ],
      "execution_count": 38,
      "outputs": [
        {
          "output_type": "stream",
          "text": [
            "Adición:  12\n",
            "Resto:  7\n",
            "Multiplicación:  36\n",
            "División:  5.0\n",
            "Exponenciación:  8\n"
          ],
          "name": "stdout"
        }
      ]
    },
    {
      "cell_type": "markdown",
      "metadata": {
        "id": "WgKeNuCY-PTS"
      },
      "source": [
        "If you are not familiar with the the mod operator, it operates like a remainder function. If we type $15 \\ \\% \\ 4$, it will return the remainder after dividing $15$ by $4$."
      ]
    },
    {
      "cell_type": "code",
      "metadata": {
        "id": "VEu--IsV-PTT"
      },
      "source": [
        "print 'Modulo: ', 15 % 4"
      ],
      "execution_count": null,
      "outputs": []
    },
    {
      "cell_type": "code",
      "metadata": {
        "colab": {
          "base_uri": "https://localhost:8080/"
        },
        "id": "S7V8MUtKQ5_w",
        "outputId": "05f03861-b137-44fc-ff68-7df10558f4eb"
      },
      "source": [
        "print ('Modulo: ', 23 % 5)"
      ],
      "execution_count": 43,
      "outputs": [
        {
          "output_type": "stream",
          "text": [
            "Modulo:  3\n"
          ],
          "name": "stdout"
        }
      ]
    },
    {
      "cell_type": "markdown",
      "metadata": {
        "id": "VWtsFrrX-PTT"
      },
      "source": [
        "Mathematical functions also work on variables!"
      ]
    },
    {
      "cell_type": "code",
      "metadata": {
        "scrolled": true,
        "id": "N3ciaPqa-PTT"
      },
      "source": [
        "first_integer = 4\n",
        "second_integer = 5\n",
        "print first_integer * second_integer"
      ],
      "execution_count": null,
      "outputs": []
    },
    {
      "cell_type": "code",
      "metadata": {
        "colab": {
          "base_uri": "https://localhost:8080/"
        },
        "id": "y_wpird5RCT4",
        "outputId": "9a4d35ea-1c55-4785-d5e2-2081002fdc7a"
      },
      "source": [
        "primero = 7\n",
        "segundo = 13\n",
        "print (primero * segundo)"
      ],
      "execution_count": 44,
      "outputs": [
        {
          "output_type": "stream",
          "text": [
            "91\n"
          ],
          "name": "stdout"
        }
      ]
    },
    {
      "cell_type": "markdown",
      "metadata": {
        "id": "VvFVUqj1-PTU"
      },
      "source": [
        "Make sure that your variables are floats if you want to have decimal points in your answer. If you perform math exclusively with integers, you get an integer. Including any float in the calculation will make the result a float."
      ]
    },
    {
      "cell_type": "code",
      "metadata": {
        "id": "jOZ0KAzN-PTU"
      },
      "source": [
        "first_integer = 11\n",
        "second_integer = 3\n",
        "print first_integer / second_integer"
      ],
      "execution_count": null,
      "outputs": []
    },
    {
      "cell_type": "code",
      "metadata": {
        "colab": {
          "base_uri": "https://localhost:8080/"
        },
        "id": "Ra6-OTa2RekE",
        "outputId": "47f4435d-5464-45e1-a88f-96803d859cb8"
      },
      "source": [
        "primero = 23\n",
        "segundo = 5\n",
        "print (primero / segundo)"
      ],
      "execution_count": 45,
      "outputs": [
        {
          "output_type": "stream",
          "text": [
            "4.6\n"
          ],
          "name": "stdout"
        }
      ]
    },
    {
      "cell_type": "code",
      "metadata": {
        "id": "9WgieyHR-PTV"
      },
      "source": [
        "first_number = 11.0\n",
        "second_number = 3.0\n",
        "print first_number / second_number"
      ],
      "execution_count": null,
      "outputs": []
    },
    {
      "cell_type": "code",
      "metadata": {
        "colab": {
          "base_uri": "https://localhost:8080/"
        },
        "id": "pu0Q6-UURlbY",
        "outputId": "39fa19d1-005f-45a3-f21d-ac51b211e40b"
      },
      "source": [
        "primero = 23.0\n",
        "segundo = 5.0\n",
        "print (primero / segundo)"
      ],
      "execution_count": 46,
      "outputs": [
        {
          "output_type": "stream",
          "text": [
            "4.6\n"
          ],
          "name": "stdout"
        }
      ]
    },
    {
      "cell_type": "markdown",
      "metadata": {
        "id": "92UwMt34-PTV"
      },
      "source": [
        "Python has a few built-in math functions. The most notable of these are:\n",
        "\n",
        "* `abs()`\n",
        "* `round()`\n",
        "* `max()`\n",
        "* `min()`\n",
        "* `sum()`\n",
        "\n",
        "These functions all act as you would expect, given their names. Calling `abs()` on a number will return its absolute value. The `round()` function will round a number to a specified number of the decimal points (the default is $0$). Calling `max()` or `min()` on a collection of numbers will return, respectively, the maximum or minimum value in the collection. Calling `sum()` on a collection of numbers will add them all up. If you're not familiar with how collections of values in Python work, don't worry! We will cover collections in-depth in the next section. \n",
        "\n",
        "Additional math functionality can be added in with the `math` package."
      ]
    },
    {
      "cell_type": "code",
      "metadata": {
        "id": "Cw49mYOp-PTW"
      },
      "source": [
        "import math"
      ],
      "execution_count": 47,
      "outputs": []
    },
    {
      "cell_type": "markdown",
      "metadata": {
        "id": "wV73Pk8r-PTW"
      },
      "source": [
        "The math library adds a long list of new mathematical functions to Python. Feel free to check out the [documentation](https://docs.python.org/2/library/math.html) for the full list and details. It concludes some mathematical constants"
      ]
    },
    {
      "cell_type": "code",
      "metadata": {
        "id": "us_XjCGG-PTW"
      },
      "source": [
        "print 'Pi: ', math.pi\n",
        "print \"Euler's Constant: \", math.e"
      ],
      "execution_count": null,
      "outputs": []
    },
    {
      "cell_type": "code",
      "metadata": {
        "colab": {
          "base_uri": "https://localhost:8080/"
        },
        "id": "P4E3_mzwR9xa",
        "outputId": "2ccc0e52-5594-4633-d045-ac6a423f31ba"
      },
      "source": [
        "print ('Tau: ', math.tau)"
      ],
      "execution_count": 51,
      "outputs": [
        {
          "output_type": "stream",
          "text": [
            "Tau:  6.283185307179586\n"
          ],
          "name": "stdout"
        }
      ]
    },
    {
      "cell_type": "markdown",
      "metadata": {
        "id": "aeFTxdzg-PTW"
      },
      "source": [
        "As well as some commonly used math functions"
      ]
    },
    {
      "cell_type": "code",
      "metadata": {
        "id": "ohKIp_RP-PTX"
      },
      "source": [
        "print 'Cosine of pi: ', math.cos(math.pi)"
      ],
      "execution_count": null,
      "outputs": []
    },
    {
      "cell_type": "code",
      "metadata": {
        "colab": {
          "base_uri": "https://localhost:8080/"
        },
        "id": "z1fadZd7Pr2z",
        "outputId": "2e5ae11c-83a9-4420-a073-b3919214d50d"
      },
      "source": [
        "print ('Seno de Tau: ', math.sin(math.tau))"
      ],
      "execution_count": 52,
      "outputs": [
        {
          "output_type": "stream",
          "text": [
            "Seno de Tau:  -2.4492935982947064e-16\n"
          ],
          "name": "stdout"
        }
      ]
    },
    {
      "cell_type": "markdown",
      "metadata": {
        "id": "koPpnM1W-PTX"
      },
      "source": [
        "## Collections\n",
        "### Lists\n",
        "\n",
        "A `list` in Python is an ordered collection of objects that can contain any data type. We define a `list` using brackets (`[]`)."
      ]
    },
    {
      "cell_type": "code",
      "metadata": {
        "id": "JfgCHhxk-PTX"
      },
      "source": [
        "my_list = [1, 2, 3]\n",
        "print my_list"
      ],
      "execution_count": null,
      "outputs": []
    },
    {
      "cell_type": "code",
      "metadata": {
        "colab": {
          "base_uri": "https://localhost:8080/"
        },
        "id": "lxXf-p7_S293",
        "outputId": "8aaeda75-14a4-415b-967e-675c4760784d"
      },
      "source": [
        "mi_lista = [4, 5, 6, 7]\n",
        "print (mi_lista)"
      ],
      "execution_count": 57,
      "outputs": [
        {
          "output_type": "stream",
          "text": [
            "[4, 5, 6, 7]\n"
          ],
          "name": "stdout"
        }
      ]
    },
    {
      "cell_type": "markdown",
      "metadata": {
        "id": "XOR_43kH-PTY"
      },
      "source": [
        "We can access and index the list by using brackets as well. In order to select an individual element, simply type the list name followed by the index of the item you are looking for in braces."
      ]
    },
    {
      "cell_type": "code",
      "metadata": {
        "id": "51jeSDay-PTY"
      },
      "source": [
        "print my_list[0]\n",
        "print my_list[2]"
      ],
      "execution_count": null,
      "outputs": []
    },
    {
      "cell_type": "code",
      "metadata": {
        "colab": {
          "base_uri": "https://localhost:8080/"
        },
        "id": "LkwGIASgTInW",
        "outputId": "f1309f79-1a0a-41cb-8ac3-521348538d33"
      },
      "source": [
        "print (mi_lista[1])\n",
        "print (mi_lista[3])"
      ],
      "execution_count": 58,
      "outputs": [
        {
          "output_type": "stream",
          "text": [
            "5\n",
            "7\n"
          ],
          "name": "stdout"
        }
      ]
    },
    {
      "cell_type": "markdown",
      "metadata": {
        "id": "2OpVUMXZ-PTY"
      },
      "source": [
        "Indexing in Python starts from $0$. If you have a list of length $n$, the first element of the list is at index $0$, the second element is at index $1$, and so on and so forth. The final element of the list will be at index $n-1$. Be careful! Trying to access a non-existent index will cause an error."
      ]
    },
    {
      "cell_type": "code",
      "metadata": {
        "id": "tuYRZRnt-PTZ"
      },
      "source": [
        "print 'The first, second, and third list elements: ', my_list[0], my_list[1], my_list[2]\n",
        "print 'Accessing outside the list bounds causes an error: ', my_list[3]"
      ],
      "execution_count": null,
      "outputs": []
    },
    {
      "cell_type": "code",
      "metadata": {
        "colab": {
          "base_uri": "https://localhost:8080/",
          "height": 195
        },
        "id": "54x1FhP5TaDi",
        "outputId": "e8a7a9b4-0f48-4b3c-e5d4-7dbe6d6d4eaa"
      },
      "source": [
        "print ('El primer, segundo, tercer y cuarto elemento de la lista: ', mi_lista[0], mi_lista[1], mi_lista[2], mi_lista[3])\n",
        "print ('Acceder fuera de los limites de la lista causa error', mi_lista[4])"
      ],
      "execution_count": 59,
      "outputs": [
        {
          "output_type": "stream",
          "text": [
            "El primer, segundo, tercer y cuarto elemento de la lista:  4 5 6 7\n"
          ],
          "name": "stdout"
        },
        {
          "output_type": "error",
          "ename": "IndexError",
          "evalue": "ignored",
          "traceback": [
            "\u001b[0;31m---------------------------------------------------------------------------\u001b[0m",
            "\u001b[0;31mIndexError\u001b[0m                                Traceback (most recent call last)",
            "\u001b[0;32m<ipython-input-59-fce45cb60b60>\u001b[0m in \u001b[0;36m<module>\u001b[0;34m()\u001b[0m\n\u001b[1;32m      1\u001b[0m \u001b[0mprint\u001b[0m \u001b[0;34m(\u001b[0m\u001b[0;34m'El primer, segundo, tercer y cuarto elemento de la lista: '\u001b[0m\u001b[0;34m,\u001b[0m \u001b[0mmi_lista\u001b[0m\u001b[0;34m[\u001b[0m\u001b[0;36m0\u001b[0m\u001b[0;34m]\u001b[0m\u001b[0;34m,\u001b[0m \u001b[0mmi_lista\u001b[0m\u001b[0;34m[\u001b[0m\u001b[0;36m1\u001b[0m\u001b[0;34m]\u001b[0m\u001b[0;34m,\u001b[0m \u001b[0mmi_lista\u001b[0m\u001b[0;34m[\u001b[0m\u001b[0;36m2\u001b[0m\u001b[0;34m]\u001b[0m\u001b[0;34m,\u001b[0m \u001b[0mmi_lista\u001b[0m\u001b[0;34m[\u001b[0m\u001b[0;36m3\u001b[0m\u001b[0;34m]\u001b[0m\u001b[0;34m)\u001b[0m\u001b[0;34m\u001b[0m\u001b[0;34m\u001b[0m\u001b[0m\n\u001b[0;32m----> 2\u001b[0;31m \u001b[0mprint\u001b[0m \u001b[0;34m(\u001b[0m\u001b[0;34m'Acceder fuera de los limites de la lista causa error'\u001b[0m\u001b[0;34m,\u001b[0m \u001b[0mmi_lista\u001b[0m\u001b[0;34m[\u001b[0m\u001b[0;36m4\u001b[0m\u001b[0;34m]\u001b[0m\u001b[0;34m)\u001b[0m\u001b[0;34m\u001b[0m\u001b[0;34m\u001b[0m\u001b[0m\n\u001b[0m",
            "\u001b[0;31mIndexError\u001b[0m: list index out of range"
          ]
        }
      ]
    },
    {
      "cell_type": "markdown",
      "metadata": {
        "id": "0762pH9I-PTZ"
      },
      "source": [
        "We can see the number of elements in a list by calling the `len()` function."
      ]
    },
    {
      "cell_type": "code",
      "metadata": {
        "id": "y-1VwecZ-PTZ"
      },
      "source": [
        "print len(my_list)"
      ],
      "execution_count": null,
      "outputs": []
    },
    {
      "cell_type": "code",
      "metadata": {
        "colab": {
          "base_uri": "https://localhost:8080/"
        },
        "id": "GAaq4toJUEFr",
        "outputId": "08d3ed01-7bca-4898-eee3-849adfeaa5e8"
      },
      "source": [
        "print (len(mi_lista))"
      ],
      "execution_count": 60,
      "outputs": [
        {
          "output_type": "stream",
          "text": [
            "4\n"
          ],
          "name": "stdout"
        }
      ]
    },
    {
      "cell_type": "markdown",
      "metadata": {
        "id": "-MDS-jVq-PTZ"
      },
      "source": [
        "We can update and change a list by accessing an index and assigning new value."
      ]
    },
    {
      "cell_type": "code",
      "metadata": {
        "id": "KC5Irq17-PTa"
      },
      "source": [
        "print my_list\n",
        "my_list[0] = 42\n",
        "print my_list"
      ],
      "execution_count": null,
      "outputs": []
    },
    {
      "cell_type": "code",
      "metadata": {
        "colab": {
          "base_uri": "https://localhost:8080/"
        },
        "id": "p6LWy0cRUIaU",
        "outputId": "e89a6e37-7b05-47c8-ba93-bbe8a26a7b43"
      },
      "source": [
        "print(mi_lista)\n",
        "mi_lista[1] = 21\n",
        "mi_lista [3] = 33\n",
        "print (mi_lista)"
      ],
      "execution_count": 61,
      "outputs": [
        {
          "output_type": "stream",
          "text": [
            "[4, 5, 6, 7]\n",
            "[4, 21, 6, 33]\n"
          ],
          "name": "stdout"
        }
      ]
    },
    {
      "cell_type": "markdown",
      "metadata": {
        "id": "bGcKxFTJ-PTa"
      },
      "source": [
        "This is fundamentally different from how strings are handled. A `list` is mutable, meaning that you can change a `list`'s elements without changing the list itself. Some data types, like `strings`, are immutable, meaning you cannot change them at all. Once a `string` or other immutable data type has been created, it cannot be directly modified without creating an entirely new object."
      ]
    },
    {
      "cell_type": "code",
      "metadata": {
        "id": "bvoZHcHP-PTa"
      },
      "source": [
        "my_string = \"Strings never change\"\n",
        "my_string[0] = 'Z'"
      ],
      "execution_count": null,
      "outputs": []
    },
    {
      "cell_type": "code",
      "metadata": {
        "colab": {
          "base_uri": "https://localhost:8080/",
          "height": 178
        },
        "id": "YEzkVPZ-Ub_0",
        "outputId": "9a901944-96cf-470e-9569-2b13bcccb9ef"
      },
      "source": [
        "mi_cadena = \"Las cadenas nunca cambian\"\n",
        "mi_cadena[1] = 'Y'"
      ],
      "execution_count": 62,
      "outputs": [
        {
          "output_type": "error",
          "ename": "TypeError",
          "evalue": "ignored",
          "traceback": [
            "\u001b[0;31m---------------------------------------------------------------------------\u001b[0m",
            "\u001b[0;31mTypeError\u001b[0m                                 Traceback (most recent call last)",
            "\u001b[0;32m<ipython-input-62-37d55ca79783>\u001b[0m in \u001b[0;36m<module>\u001b[0;34m()\u001b[0m\n\u001b[1;32m      1\u001b[0m \u001b[0mmi_cadena\u001b[0m \u001b[0;34m=\u001b[0m \u001b[0;34m\"Las cadenas nunca cambian\"\u001b[0m\u001b[0;34m\u001b[0m\u001b[0;34m\u001b[0m\u001b[0m\n\u001b[0;32m----> 2\u001b[0;31m \u001b[0mmi_cadena\u001b[0m\u001b[0;34m[\u001b[0m\u001b[0;36m1\u001b[0m\u001b[0;34m]\u001b[0m \u001b[0;34m=\u001b[0m \u001b[0;34m'Y'\u001b[0m\u001b[0;34m\u001b[0m\u001b[0;34m\u001b[0m\u001b[0m\n\u001b[0m",
            "\u001b[0;31mTypeError\u001b[0m: 'str' object does not support item assignment"
          ]
        }
      ]
    },
    {
      "cell_type": "markdown",
      "metadata": {
        "id": "kk6sWuMl-PTa"
      },
      "source": [
        "As we stated before, a list can contain any data type. Thus, lists can also contain strings."
      ]
    },
    {
      "cell_type": "code",
      "metadata": {
        "id": "drQsTU7E-PTb"
      },
      "source": [
        "my_list_2 = ['one', 'two', 'three']\n",
        "print my_list_2"
      ],
      "execution_count": null,
      "outputs": []
    },
    {
      "cell_type": "code",
      "metadata": {
        "colab": {
          "base_uri": "https://localhost:8080/"
        },
        "id": "nsxa0Tz2Uw8j",
        "outputId": "334d6109-f930-4986-b09e-5f0171f904cb"
      },
      "source": [
        "mi_lista_2 = ['uno', 'dos', 'tres']\n",
        "print (mi_lista_2)"
      ],
      "execution_count": 63,
      "outputs": [
        {
          "output_type": "stream",
          "text": [
            "['uno', 'dos', 'tres']\n"
          ],
          "name": "stdout"
        }
      ]
    },
    {
      "cell_type": "markdown",
      "metadata": {
        "id": "ryr3Vdvq-PTb"
      },
      "source": [
        "Lists can also contain multiple different data types at once!"
      ]
    },
    {
      "cell_type": "code",
      "metadata": {
        "id": "wexbkunt-PTb"
      },
      "source": [
        "my_list_3 = [True, 'False', 42]"
      ],
      "execution_count": null,
      "outputs": []
    },
    {
      "cell_type": "code",
      "metadata": {
        "colab": {
          "base_uri": "https://localhost:8080/"
        },
        "id": "c-FfVcaLU628",
        "outputId": "88d34261-7ac7-4056-cb47-1afde37f7c57"
      },
      "source": [
        "mi_lista_3 = [True, 'False', 33]\n",
        "print (mi_lista_3)"
      ],
      "execution_count": 68,
      "outputs": [
        {
          "output_type": "stream",
          "text": [
            "[True, 'False', 33]\n"
          ],
          "name": "stdout"
        }
      ]
    },
    {
      "cell_type": "markdown",
      "metadata": {
        "id": "80nIIGtm-PTc"
      },
      "source": [
        "If you want to put two lists together, they can be combined with a `+` symbol."
      ]
    },
    {
      "cell_type": "code",
      "metadata": {
        "id": "I_dX3BRk-PTc"
      },
      "source": [
        "my_list_4 = my_list + my_list_2 + my_list_3\n",
        "print my_list_4"
      ],
      "execution_count": null,
      "outputs": []
    },
    {
      "cell_type": "code",
      "metadata": {
        "colab": {
          "base_uri": "https://localhost:8080/"
        },
        "id": "XafDcV-UVF7R",
        "outputId": "f5ba8ee2-aa4d-4d22-e953-1510cbce88cf"
      },
      "source": [
        "mi_lista_4 = mi_lista + mi_lista_2 + mi_lista_3\n",
        "print (mi_lista_4)"
      ],
      "execution_count": 69,
      "outputs": [
        {
          "output_type": "stream",
          "text": [
            "[4, 21, 6, 33, 'uno', 'dos', 'tres', True, 'False', 33]\n"
          ],
          "name": "stdout"
        }
      ]
    },
    {
      "cell_type": "markdown",
      "metadata": {
        "id": "PugStJK3-PTc"
      },
      "source": [
        "In addition to accessing individual elements of a list, we can access groups of elements through slicing."
      ]
    },
    {
      "cell_type": "code",
      "metadata": {
        "id": "jdBDAe7q-PTc"
      },
      "source": [
        "my_list = ['friends', 'romans', 'countrymen', 'lend', 'me', 'your', 'ears']"
      ],
      "execution_count": null,
      "outputs": []
    },
    {
      "cell_type": "code",
      "metadata": {
        "id": "7rCrlOA1VU8s"
      },
      "source": [
        "mi_lista = ['Amigos', 'romanos', 'campesinos', 'prestenme', 'atención']"
      ],
      "execution_count": 70,
      "outputs": []
    },
    {
      "cell_type": "markdown",
      "metadata": {
        "id": "7LyK24WB-PTd"
      },
      "source": [
        "#### Slicing\n",
        "\n",
        "We use the colon (`:`) to slice lists. "
      ]
    },
    {
      "cell_type": "code",
      "metadata": {
        "scrolled": true,
        "id": "ObOaHTPO-PTd"
      },
      "source": [
        "print my_list[2:4]"
      ],
      "execution_count": null,
      "outputs": []
    },
    {
      "cell_type": "code",
      "metadata": {
        "colab": {
          "base_uri": "https://localhost:8080/"
        },
        "id": "mJimfcywWRZP",
        "outputId": "e67953dd-75a3-491c-a74d-e50859799a4c"
      },
      "source": [
        "print (mi_lista[1:3])"
      ],
      "execution_count": 74,
      "outputs": [
        {
          "output_type": "stream",
          "text": [
            "['romanos', 'campesinos']\n"
          ],
          "name": "stdout"
        }
      ]
    },
    {
      "cell_type": "markdown",
      "metadata": {
        "id": "MgW3pZ78-PTd"
      },
      "source": [
        "Using `:` we can select a group of elements in the list starting from the first element indicated and going up to  (but not including) the last element indicated.\n",
        "\n",
        "We can also select everything after a certain point"
      ]
    },
    {
      "cell_type": "code",
      "metadata": {
        "scrolled": true,
        "id": "Aijv5Zai-PTe"
      },
      "source": [
        "print my_list[1:]"
      ],
      "execution_count": null,
      "outputs": []
    },
    {
      "cell_type": "code",
      "metadata": {
        "colab": {
          "base_uri": "https://localhost:8080/"
        },
        "id": "mHnctyP1WZW5",
        "outputId": "21dfb381-95d6-4d3e-c02a-47e6012df387"
      },
      "source": [
        "print (mi_lista [2:])"
      ],
      "execution_count": 76,
      "outputs": [
        {
          "output_type": "stream",
          "text": [
            "['campesinos', 'prestenme', 'atención']\n"
          ],
          "name": "stdout"
        }
      ]
    },
    {
      "cell_type": "markdown",
      "metadata": {
        "id": "5JOCuNLZ-PTe"
      },
      "source": [
        "And everything before a certain point"
      ]
    },
    {
      "cell_type": "code",
      "metadata": {
        "scrolled": true,
        "id": "XL2tgKkK-PTe"
      },
      "source": [
        "print my_list[:4]"
      ],
      "execution_count": null,
      "outputs": []
    },
    {
      "cell_type": "code",
      "metadata": {
        "colab": {
          "base_uri": "https://localhost:8080/"
        },
        "id": "f4fqdLBaWgj-",
        "outputId": "d43d30e5-3958-45d3-83bf-8dbbe696da74"
      },
      "source": [
        "print (mi_lista[:3])"
      ],
      "execution_count": 79,
      "outputs": [
        {
          "output_type": "stream",
          "text": [
            "['Amigos', 'romanos', 'campesinos']\n"
          ],
          "name": "stdout"
        }
      ]
    },
    {
      "cell_type": "markdown",
      "metadata": {
        "id": "PZ3Op3Ep-PTe"
      },
      "source": [
        "Using negative numbers will count from the end of the indices instead of from the beginning. For example, an index of `-1` indicates the last element of the list."
      ]
    },
    {
      "cell_type": "code",
      "metadata": {
        "id": "IOPl3exH-PTe"
      },
      "source": [
        "print my_list[-1]"
      ],
      "execution_count": null,
      "outputs": []
    },
    {
      "cell_type": "code",
      "metadata": {
        "colab": {
          "base_uri": "https://localhost:8080/"
        },
        "id": "V6ncx_A6WqKi",
        "outputId": "8576c35c-5ee2-4ef7-ddb7-87c4768d063e"
      },
      "source": [
        "print (mi_lista[-2])"
      ],
      "execution_count": 80,
      "outputs": [
        {
          "output_type": "stream",
          "text": [
            "prestenme\n"
          ],
          "name": "stdout"
        }
      ]
    },
    {
      "cell_type": "markdown",
      "metadata": {
        "id": "7wf9LWMF-PTf"
      },
      "source": [
        "You can also add a third component to slicing. Instead of simply indicating the first and final parts of your slice, you can specify the step size that you want to take. So instead of taking every single element, you can take every other element."
      ]
    },
    {
      "cell_type": "code",
      "metadata": {
        "id": "v1GxgrI2-PTf"
      },
      "source": [
        "print my_list[0:7:2]"
      ],
      "execution_count": null,
      "outputs": []
    },
    {
      "cell_type": "code",
      "metadata": {
        "colab": {
          "base_uri": "https://localhost:8080/"
        },
        "id": "1Z5EdvKZWzS6",
        "outputId": "3054693e-f150-4167-ce9e-10ca1f35f13f"
      },
      "source": [
        "print (mi_lista[2:5:2])"
      ],
      "execution_count": 83,
      "outputs": [
        {
          "output_type": "stream",
          "text": [
            "['campesinos', 'atención']\n"
          ],
          "name": "stdout"
        }
      ]
    },
    {
      "cell_type": "markdown",
      "metadata": {
        "id": "PI6BPUkt-PTf"
      },
      "source": [
        "Here we have selected the entire list (because `0:7` will yield elements `0` through `6`) and we have selected a step size of `2`. So this will spit out element `0` , element `2`, element `4`, and so on through the list element selected. We can skip indicated the beginning and end of our slice, only indicating the step, if we like."
      ]
    },
    {
      "cell_type": "code",
      "metadata": {
        "id": "O3dzm0Mg-PTf"
      },
      "source": [
        "print my_list[::2]"
      ],
      "execution_count": null,
      "outputs": []
    },
    {
      "cell_type": "code",
      "metadata": {
        "colab": {
          "base_uri": "https://localhost:8080/"
        },
        "id": "Mzu0BvnKXFgZ",
        "outputId": "38102aaf-d8a6-45d2-f339-5d1d2a2b6e0d"
      },
      "source": [
        "print (mi_lista[::2])"
      ],
      "execution_count": 87,
      "outputs": [
        {
          "output_type": "stream",
          "text": [
            "['Amigos', 'campesinos', 'atención']\n"
          ],
          "name": "stdout"
        }
      ]
    },
    {
      "cell_type": "markdown",
      "metadata": {
        "id": "Lit9JStV-PTg"
      },
      "source": [
        "Lists implictly select the beginning and end of the list when not otherwise specified."
      ]
    },
    {
      "cell_type": "code",
      "metadata": {
        "id": "nGOi_xnt-PTg"
      },
      "source": [
        "print my_list[:]"
      ],
      "execution_count": null,
      "outputs": []
    },
    {
      "cell_type": "code",
      "metadata": {
        "colab": {
          "base_uri": "https://localhost:8080/"
        },
        "id": "4Xr87L7HXKji",
        "outputId": "faedf71b-6183-4f3d-d7fd-7ebb3d4e2580"
      },
      "source": [
        "print (mi_lista[:])"
      ],
      "execution_count": 86,
      "outputs": [
        {
          "output_type": "stream",
          "text": [
            "['Amigos', 'romanos', 'campesinos', 'prestenme', 'atención']\n"
          ],
          "name": "stdout"
        }
      ]
    },
    {
      "cell_type": "markdown",
      "metadata": {
        "id": "UI0cZL-Q-PTg"
      },
      "source": [
        "With a negative step size we can even reverse the list!"
      ]
    },
    {
      "cell_type": "code",
      "metadata": {
        "id": "8oy6yzo4-PTg"
      },
      "source": [
        "print my_list[::-1]"
      ],
      "execution_count": null,
      "outputs": []
    },
    {
      "cell_type": "code",
      "metadata": {
        "colab": {
          "base_uri": "https://localhost:8080/"
        },
        "id": "N8BZrjLBXb_Z",
        "outputId": "1de59a41-1cc3-44a6-cc8a-3065f26807ee"
      },
      "source": [
        "print (mi_lista[::-1])"
      ],
      "execution_count": 88,
      "outputs": [
        {
          "output_type": "stream",
          "text": [
            "['atención', 'prestenme', 'campesinos', 'romanos', 'Amigos']\n"
          ],
          "name": "stdout"
        }
      ]
    },
    {
      "cell_type": "markdown",
      "metadata": {
        "id": "mmJrb2F8-PTh"
      },
      "source": [
        "Python does not have native matrices, but with lists we can produce a working fascimile. Other packages, such as `numpy`, add matrices as a separate data type, but in base Python the best way to create a matrix is to use a list of lists."
      ]
    },
    {
      "cell_type": "markdown",
      "metadata": {
        "id": "lKnEW7W_-PTh"
      },
      "source": [
        "We can also use built-in functions to generate lists. In particular we will look at `range()` (because we will be using it later!). Range can take several different inputs and will return a list."
      ]
    },
    {
      "cell_type": "code",
      "metadata": {
        "id": "A8opvOgV-PTh"
      },
      "source": [
        "b = 10\n",
        "my_list = range(b)\n",
        "print my_list"
      ],
      "execution_count": null,
      "outputs": []
    },
    {
      "cell_type": "code",
      "metadata": {
        "colab": {
          "base_uri": "https://localhost:8080/"
        },
        "id": "6QjT0Zz_XsPq",
        "outputId": "4805c05b-cc06-42d5-b0f5-b660f19faa35"
      },
      "source": [
        "d = 20\n",
        "mi_lista = range(d)\n",
        "print (mi_lista)"
      ],
      "execution_count": 95,
      "outputs": [
        {
          "output_type": "stream",
          "text": [
            "range(0, 20)\n"
          ],
          "name": "stdout"
        }
      ]
    },
    {
      "cell_type": "markdown",
      "metadata": {
        "id": "pTpvVWM2-PTh"
      },
      "source": [
        "Similar to our list-slicing methods from before, we can define both a start and an end for our range. This will return a list that is includes the start and excludes the end, just like a slice."
      ]
    },
    {
      "cell_type": "code",
      "metadata": {
        "id": "WKjvZvvp-PTh"
      },
      "source": [
        "a = 0\n",
        "b = 10\n",
        "my_list = range(a, b)\n",
        "print my_list"
      ],
      "execution_count": null,
      "outputs": []
    },
    {
      "cell_type": "code",
      "metadata": {
        "colab": {
          "base_uri": "https://localhost:8080/"
        },
        "id": "-TeIhiEZYCdK",
        "outputId": "d80c158d-9c10-4a6b-a874-0b82bbb219c8"
      },
      "source": [
        "c = 5\n",
        "d = 20\n",
        "mi_lista = range(c, d)\n",
        "print (mi_lista)"
      ],
      "execution_count": 97,
      "outputs": [
        {
          "output_type": "stream",
          "text": [
            "range(5, 20)\n"
          ],
          "name": "stdout"
        }
      ]
    },
    {
      "cell_type": "markdown",
      "metadata": {
        "id": "cIZ-jhUW-PTi"
      },
      "source": [
        "We can also specify a step size. This again has the same behavior as a slice."
      ]
    },
    {
      "cell_type": "code",
      "metadata": {
        "scrolled": true,
        "id": "I5o_VjF3-PTi"
      },
      "source": [
        "a = 0\n",
        "b = 10\n",
        "step = 2\n",
        "my_list = range(a, b, step)\n",
        "print my_list"
      ],
      "execution_count": null,
      "outputs": []
    },
    {
      "cell_type": "code",
      "metadata": {
        "colab": {
          "base_uri": "https://localhost:8080/"
        },
        "id": "YK9jq32JYczD",
        "outputId": "0f3f774f-824b-44c9-e166-9b88bbf4da05"
      },
      "source": [
        "c = 5\n",
        "d = 20\n",
        "paso = 3\n",
        "mi_lista = range(c, d, 3)\n",
        "print (mi_lista)"
      ],
      "execution_count": 98,
      "outputs": [
        {
          "output_type": "stream",
          "text": [
            "range(5, 20, 3)\n"
          ],
          "name": "stdout"
        }
      ]
    },
    {
      "cell_type": "markdown",
      "metadata": {
        "id": "AwLdVygs-PTi"
      },
      "source": [
        "### Tuples\n",
        "\n",
        "A `tuple` is a data type similar to a list in that it can hold different kinds of data types. The key difference here is that a `tuple` is immutable. We define a `tuple` by separating the elements we want to include by commas. It is conventional to surround a `tuple` with parentheses."
      ]
    },
    {
      "cell_type": "code",
      "metadata": {
        "id": "1kFu2RWB-PTi"
      },
      "source": [
        "my_tuple = 'I', 'have', 30, 'cats'\n",
        "print my_tuple"
      ],
      "execution_count": null,
      "outputs": []
    },
    {
      "cell_type": "code",
      "metadata": {
        "id": "bUvuBtH8-PTj"
      },
      "source": [
        "my_tuple = ('I', 'have', 30, 'cats')\n",
        "print my_tuple"
      ],
      "execution_count": null,
      "outputs": []
    },
    {
      "cell_type": "code",
      "metadata": {
        "colab": {
          "base_uri": "https://localhost:8080/"
        },
        "id": "XnNfxzraZJxb",
        "outputId": "6dd76882-6b8c-4b12-f748-e4be80333a53"
      },
      "source": [
        "mi_tupla = 'Tengo', 20, 'gatos'\n",
        "print(mi_tupla)"
      ],
      "execution_count": 101,
      "outputs": [
        {
          "output_type": "stream",
          "text": [
            "('Tengo', 20, 'gatos')\n"
          ],
          "name": "stdout"
        }
      ]
    },
    {
      "cell_type": "code",
      "metadata": {
        "colab": {
          "base_uri": "https://localhost:8080/"
        },
        "id": "UnzgKdV5ZX9x",
        "outputId": "2c94c4e1-7df6-4dab-b6e3-53cdf81706c3"
      },
      "source": [
        "mi_tupla = ('Tengo', 20, 'gatos')\n",
        "print(mi_tupla)"
      ],
      "execution_count": 102,
      "outputs": [
        {
          "output_type": "stream",
          "text": [
            "('Tengo', 20, 'gatos')\n"
          ],
          "name": "stdout"
        }
      ]
    },
    {
      "cell_type": "markdown",
      "metadata": {
        "id": "d6hHDZmY-PTj"
      },
      "source": [
        "As mentioned before, tuples are immutable. You can't change any part of them without defining a new tuple."
      ]
    },
    {
      "cell_type": "code",
      "metadata": {
        "id": "IkQxQ9Dn-PTj"
      },
      "source": [
        "my_tuple[3] = 'dogs' # Attempts to change the 'cats' value stored in the the tuple to 'dogs'"
      ],
      "execution_count": null,
      "outputs": []
    },
    {
      "cell_type": "code",
      "metadata": {
        "colab": {
          "base_uri": "https://localhost:8080/",
          "height": 162
        },
        "id": "Rg6N7EIxZfwx",
        "outputId": "f86d081b-5e59-4c47-f801-ff4b397f6c21"
      },
      "source": [
        "mi_tupla[2] = 'perros' #No puede cambiar gatos por perros pq las tuplas son inmutables"
      ],
      "execution_count": 103,
      "outputs": [
        {
          "output_type": "error",
          "ename": "TypeError",
          "evalue": "ignored",
          "traceback": [
            "\u001b[0;31m---------------------------------------------------------------------------\u001b[0m",
            "\u001b[0;31mTypeError\u001b[0m                                 Traceback (most recent call last)",
            "\u001b[0;32m<ipython-input-103-887337261714>\u001b[0m in \u001b[0;36m<module>\u001b[0;34m()\u001b[0m\n\u001b[0;32m----> 1\u001b[0;31m \u001b[0mmi_tupla\u001b[0m\u001b[0;34m[\u001b[0m\u001b[0;36m2\u001b[0m\u001b[0;34m]\u001b[0m \u001b[0;34m=\u001b[0m \u001b[0;34m'perros'\u001b[0m\u001b[0;34m\u001b[0m\u001b[0;34m\u001b[0m\u001b[0m\n\u001b[0m",
            "\u001b[0;31mTypeError\u001b[0m: 'tuple' object does not support item assignment"
          ]
        }
      ]
    },
    {
      "cell_type": "markdown",
      "metadata": {
        "id": "eRVTx8gw-PTj"
      },
      "source": [
        "You can slice tuples the same way that you slice lists!"
      ]
    },
    {
      "cell_type": "code",
      "metadata": {
        "id": "W23AOBCo-PTk"
      },
      "source": [
        "print my_tuple[1:3]"
      ],
      "execution_count": null,
      "outputs": []
    },
    {
      "cell_type": "code",
      "metadata": {
        "colab": {
          "base_uri": "https://localhost:8080/"
        },
        "id": "W99QMIrbZqUj",
        "outputId": "8b726190-a126-463e-96e3-9ae1a4bbce16"
      },
      "source": [
        "print (mi_tupla[1:3])"
      ],
      "execution_count": 104,
      "outputs": [
        {
          "output_type": "stream",
          "text": [
            "(20, 'gatos')\n"
          ],
          "name": "stdout"
        }
      ]
    },
    {
      "cell_type": "markdown",
      "metadata": {
        "id": "weXjYjaM-PTk"
      },
      "source": [
        "And concatenate them the way that you would with strings!"
      ]
    },
    {
      "cell_type": "code",
      "metadata": {
        "id": "ihTRnbkf-PTk"
      },
      "source": [
        "my_other_tuple = ('make', 'that', 50)\n",
        "print my_tuple + my_other_tuple"
      ],
      "execution_count": null,
      "outputs": []
    },
    {
      "cell_type": "code",
      "metadata": {
        "colab": {
          "base_uri": "https://localhost:8080/"
        },
        "id": "QIOWwg5lZ3-P",
        "outputId": "f53400c8-d6ab-4001-dab0-64c9e3dc9404"
      },
      "source": [
        "mi_otra_tupla = (', o', 'eran', 30, '?')\n",
        "print (mi_tupla + mi_otra_tupla)"
      ],
      "execution_count": 106,
      "outputs": [
        {
          "output_type": "stream",
          "text": [
            "('Tengo', 20, 'gatos', ', o', 'eran', 30, '?')\n"
          ],
          "name": "stdout"
        }
      ]
    },
    {
      "cell_type": "markdown",
      "metadata": {
        "id": "N7xVihbQ-PTk"
      },
      "source": [
        "We can 'pack' values together, creating a tuple (as above), or we can 'unpack' values from a tuple, taking them out."
      ]
    },
    {
      "cell_type": "code",
      "metadata": {
        "id": "WGN3GiMS-PTl"
      },
      "source": [
        "str_1, str_2, int_1 = my_other_tuple\n",
        "print str_1, str_2, int_1"
      ],
      "execution_count": null,
      "outputs": []
    },
    {
      "cell_type": "code",
      "metadata": {
        "colab": {
          "base_uri": "https://localhost:8080/"
        },
        "id": "94efBhu1aQ6T",
        "outputId": "aa313028-07d9-41fd-e2b2-0e31900053be"
      },
      "source": [
        "cad_1, cad_2, ent_1, cad_3 = mi_otra_tupla\n",
        "print (cad_1, cad_2, ent_1, cad_3)"
      ],
      "execution_count": 107,
      "outputs": [
        {
          "output_type": "stream",
          "text": [
            ", o eran 30 ?\n"
          ],
          "name": "stdout"
        }
      ]
    },
    {
      "cell_type": "markdown",
      "metadata": {
        "id": "Tqmt3ElS-PTl"
      },
      "source": [
        "Unpacking assigns each value of the tuple in order to each variable on the left hand side of the equals sign. Some functions, including user-defined functions, may return tuples, so we can use this to directly unpack them and access the values that we want."
      ]
    },
    {
      "cell_type": "markdown",
      "metadata": {
        "id": "C_md-Ggy-PTl"
      },
      "source": [
        "### Sets\n",
        "\n",
        "A `set` is a collection of unordered, unique elements. It works almost exactly as you would expect a normal set of things in mathematics to work and is defined using braces (`{}`)."
      ]
    },
    {
      "cell_type": "code",
      "metadata": {
        "id": "09h4Ze50-PTl"
      },
      "source": [
        "things_i_like = {'dogs', 7, 'the number 4', 4, 4, 4, 42, 'lizards', 'man I just LOVE the number 4'}\n",
        "print things_i_like, type(things_i_like)"
      ],
      "execution_count": null,
      "outputs": []
    },
    {
      "cell_type": "code",
      "metadata": {
        "colab": {
          "base_uri": "https://localhost:8080/"
        },
        "id": "GU0zDja0a5bi",
        "outputId": "7a11c17f-b59e-4138-da14-27b1393ec8d9"
      },
      "source": [
        "cosas = {'perros', 9, 'el numero 7', 7, 7, 7 , 76, 'Gekko', 'Amo el numero 7'}\n",
        "print (cosas, type(cosas))"
      ],
      "execution_count": 1,
      "outputs": [
        {
          "output_type": "stream",
          "text": [
            "{7, 9, 'el numero 7', 'Gekko', 76, 'Amo el numero 7', 'perros'} <class 'set'>\n"
          ],
          "name": "stdout"
        }
      ]
    },
    {
      "cell_type": "markdown",
      "metadata": {
        "id": "Xmc1QY0U-PTm"
      },
      "source": [
        "Note how any extra instances of the same item are removed in the final set. We can also create a `set` from a list, using the `set()` function."
      ]
    },
    {
      "cell_type": "code",
      "metadata": {
        "id": "huACN1ZU-PTm"
      },
      "source": [
        "animal_list = ['cats', 'dogs', 'dogs', 'dogs', 'lizards', 'sponges', 'cows', 'bats', 'sponges']\n",
        "animal_set = set(animal_list)\n",
        "print animal_set # Removes all extra instances from the list"
      ],
      "execution_count": null,
      "outputs": []
    },
    {
      "cell_type": "code",
      "metadata": {
        "colab": {
          "base_uri": "https://localhost:8080/"
        },
        "id": "QB3N2xGbbl1M",
        "outputId": "25a87888-bb05-4ba3-9575-b4dc2d6b1b4c"
      },
      "source": [
        "lista_animal = ['gatos', 'perros', 'perros', 'perros', 'gekkos', 'esponjas', 'vacas', 'murcielagos', 'esponjas']\n",
        "set_animal = set(lista_animal)\n",
        "print (set_animal)"
      ],
      "execution_count": 3,
      "outputs": [
        {
          "output_type": "stream",
          "text": [
            "{'gekkos', 'vacas', 'murcielagos', 'gatos', 'perros', 'esponjas'}\n"
          ],
          "name": "stdout"
        }
      ]
    },
    {
      "cell_type": "markdown",
      "metadata": {
        "id": "D_nuhHvH-PTm"
      },
      "source": [
        "Calling `len()` on a set will tell you how many elements are in it."
      ]
    },
    {
      "cell_type": "code",
      "metadata": {
        "id": "w6BoXhSr-PTm"
      },
      "source": [
        "print len(animal_set)"
      ],
      "execution_count": null,
      "outputs": []
    },
    {
      "cell_type": "code",
      "metadata": {
        "colab": {
          "base_uri": "https://localhost:8080/"
        },
        "id": "u6MyyyQstJFn",
        "outputId": "12a75e2f-b7e1-41ca-ed1d-f9fe39d36c0e"
      },
      "source": [
        "print (len(set_animal))"
      ],
      "execution_count": 4,
      "outputs": [
        {
          "output_type": "stream",
          "text": [
            "6\n"
          ],
          "name": "stdout"
        }
      ]
    },
    {
      "cell_type": "markdown",
      "metadata": {
        "id": "Cddo3nPY-PTm"
      },
      "source": [
        "Because a `set` is unordered, we can't access individual elements using an index. We can, however, easily check for membership (to see if something is contained in a set) and take the unions and intersections of sets by using the built-in set functions."
      ]
    },
    {
      "cell_type": "code",
      "metadata": {
        "id": "vVu46hi_-PTn"
      },
      "source": [
        "'cats' in animal_set # Here we check for membership using the `in` keyword."
      ],
      "execution_count": null,
      "outputs": []
    },
    {
      "cell_type": "code",
      "metadata": {
        "colab": {
          "base_uri": "https://localhost:8080/"
        },
        "id": "Iwyzy9Y2tM60",
        "outputId": "8cfb9e49-51d2-49b2-e75c-8cf9c9b1b5b2"
      },
      "source": [
        "'gatos' in set_animal"
      ],
      "execution_count": 5,
      "outputs": [
        {
          "output_type": "execute_result",
          "data": {
            "text/plain": [
              "True"
            ]
          },
          "metadata": {
            "tags": []
          },
          "execution_count": 5
        }
      ]
    },
    {
      "cell_type": "code",
      "metadata": {
        "colab": {
          "base_uri": "https://localhost:8080/"
        },
        "id": "TJzzkymitdB8",
        "outputId": "d2b75b17-9713-47b9-e8d2-f275ff0ce4c2"
      },
      "source": [
        "'toros' in set_animal"
      ],
      "execution_count": 6,
      "outputs": [
        {
          "output_type": "execute_result",
          "data": {
            "text/plain": [
              "False"
            ]
          },
          "metadata": {
            "tags": []
          },
          "execution_count": 6
        }
      ]
    },
    {
      "cell_type": "markdown",
      "metadata": {
        "id": "ZmHBfcug-PTn"
      },
      "source": [
        "Here we checked to see whether the string 'cats' was contained within our `animal_set` and it returned `True`, telling us that it is indeed in our set.\n",
        "\n",
        "We can connect sets by using typical mathematical set operators, namely `|`, for union, and `&`, for intersection. Using `|` or `&` will return exactly what you would expect if you are familiar with sets in mathematics."
      ]
    },
    {
      "cell_type": "code",
      "metadata": {
        "id": "GFuAB3Ed-PTn"
      },
      "source": [
        "print animal_set | things_i_like # You can also write things_i_like | animal_set with no difference"
      ],
      "execution_count": null,
      "outputs": []
    },
    {
      "cell_type": "code",
      "metadata": {
        "colab": {
          "base_uri": "https://localhost:8080/"
        },
        "id": "b9H7IhNBtilJ",
        "outputId": "c2a72cb6-0696-4ea0-f1b6-7b78ca06be5e"
      },
      "source": [
        "print (set_animal | cosas)"
      ],
      "execution_count": 7,
      "outputs": [
        {
          "output_type": "stream",
          "text": [
            "{'gekkos', 'vacas', 7, 9, 'el numero 7', 'Gekko', 76, 'Amo el numero 7', 'murcielagos', 'gatos', 'perros', 'esponjas'}\n"
          ],
          "name": "stdout"
        }
      ]
    },
    {
      "cell_type": "markdown",
      "metadata": {
        "id": "HQqxebL9-PTo"
      },
      "source": [
        "Pairing two sets together with `|` combines the sets, removing any repetitions to make every set element unique."
      ]
    },
    {
      "cell_type": "code",
      "metadata": {
        "id": "DjgLASTQ-PTo"
      },
      "source": [
        "print animal_set & things_i_like # You can also write things_i_like & animal_set with no difference"
      ],
      "execution_count": null,
      "outputs": []
    },
    {
      "cell_type": "code",
      "metadata": {
        "colab": {
          "base_uri": "https://localhost:8080/"
        },
        "id": "ZHVZHwPRtsjw",
        "outputId": "e62946ff-57fc-4758-d204-13c96b371882"
      },
      "source": [
        "print (set_animal & cosas)"
      ],
      "execution_count": 8,
      "outputs": [
        {
          "output_type": "stream",
          "text": [
            "{'perros'}\n"
          ],
          "name": "stdout"
        }
      ]
    },
    {
      "cell_type": "markdown",
      "metadata": {
        "id": "lLZQgAI3-PTo"
      },
      "source": [
        "Pairing two sets together with `&` will calculate the intersection of both sets, returning a set that only contains what they have in common.\n",
        "\n",
        "If you are interested in learning more about the built-in functions for sets, feel free to check out the [documentation](https://docs.python.org/2/library/sets.html)."
      ]
    },
    {
      "cell_type": "markdown",
      "metadata": {
        "id": "16Dng04z-PTo"
      },
      "source": [
        "### Dictionaries\n",
        "\n",
        "Another essential data structure in Python is the dictionary. Dictionaries are defined with a combination of curly braces (`{}`) and colons (`:`). The braces define the beginning and end of a dictionary and the colons indicate key-value pairs. A dictionary is essentially a set of key-value pairs. The key of any entry must be an immutable data type. This makes both strings and tuples candidates. Keys can be both added and deleted.\n",
        "\n",
        "In the following example, we have a dictionary composed of key-value pairs where the key is a genre of fiction (`string`) and the value is a list of books (`list`) within that genre. Since a collection is still considered a single entity, we can use one to collect multiple variables or values into one key-value pair."
      ]
    },
    {
      "cell_type": "code",
      "metadata": {
        "id": "u9OWzyDo-PTp"
      },
      "source": [
        "my_dict = {\"High Fantasy\": [\"Wheel of Time\", \"Lord of the Rings\"], \n",
        "           \"Sci-fi\": [\"Book of the New Sun\", \"Neuromancer\", \"Snow Crash\"],\n",
        "           \"Weird Fiction\": [\"At the Mountains of Madness\", \"The House on the Borderland\"]}"
      ],
      "execution_count": null,
      "outputs": []
    },
    {
      "cell_type": "code",
      "metadata": {
        "id": "MOoM9fdSt-jM"
      },
      "source": [
        "mi_dicc = {\"High Fantasy\": [\"Wheel of Time\", \"Lord of the Rings\"], \n",
        "           \"Sci-fi\": [\"Book of the New Sun\", \"Neuromancer\", \"Snow Crash\"],\n",
        "           \"Weird Fiction\": [\"At the Mountains of Madness\", \"The House on the Borderland\"]}"
      ],
      "execution_count": 9,
      "outputs": []
    },
    {
      "cell_type": "markdown",
      "metadata": {
        "id": "aLlGhBso-PTp"
      },
      "source": [
        "After defining a dictionary, we can access any individual value by indicating its key in brackets."
      ]
    },
    {
      "cell_type": "code",
      "metadata": {
        "id": "nvieLFHv-PTp"
      },
      "source": [
        "print my_dict[\"Sci-fi\"]"
      ],
      "execution_count": null,
      "outputs": []
    },
    {
      "cell_type": "code",
      "metadata": {
        "colab": {
          "base_uri": "https://localhost:8080/"
        },
        "id": "LchN-OmQuXP1",
        "outputId": "4769b049-f975-4fa4-eddf-7148bfd077b2"
      },
      "source": [
        "print (mi_dicc[\"Weird Fiction\"])"
      ],
      "execution_count": 11,
      "outputs": [
        {
          "output_type": "stream",
          "text": [
            "['At the Mountains of Madness', 'The House on the Borderland']\n"
          ],
          "name": "stdout"
        }
      ]
    },
    {
      "cell_type": "markdown",
      "metadata": {
        "id": "Snv73-Uy-PTp"
      },
      "source": [
        "We can also change the value associated with a given key"
      ]
    },
    {
      "cell_type": "code",
      "metadata": {
        "id": "z3MWAaQi-PTq"
      },
      "source": [
        "my_dict[\"Sci-fi\"] = \"I can't read\"\n",
        "print my_dict[\"Sci-fi\"]"
      ],
      "execution_count": null,
      "outputs": []
    },
    {
      "cell_type": "code",
      "metadata": {
        "colab": {
          "base_uri": "https://localhost:8080/"
        },
        "id": "zQcioaRmukdI",
        "outputId": "98241cca-4f34-40c3-9c87-7dc47eaef087"
      },
      "source": [
        "mi_dicc[\"Sci-Fi\"] = \"Back to the future\"\n",
        "print (mi_dicc[\"Sci-Fi\"])"
      ],
      "execution_count": 15,
      "outputs": [
        {
          "output_type": "stream",
          "text": [
            "Back to the future\n"
          ],
          "name": "stdout"
        }
      ]
    },
    {
      "cell_type": "markdown",
      "metadata": {
        "id": "L0OV3bmd-PTq"
      },
      "source": [
        "Adding a new key-value pair is as simple as defining it."
      ]
    },
    {
      "cell_type": "code",
      "metadata": {
        "id": "Z6rf3P_9-PTq"
      },
      "source": [
        "my_dict[\"Historical Fiction\"] = [\"Pillars of the Earth\"]\n",
        "print my_dict[\"Historical Fiction\"]"
      ],
      "execution_count": null,
      "outputs": []
    },
    {
      "cell_type": "code",
      "metadata": {
        "id": "xOgwTRVH-PTq",
        "colab": {
          "base_uri": "https://localhost:8080/"
        },
        "outputId": "d49dfc29-4a49-4c2f-e062-69a12656dffa"
      },
      "source": [
        "mi_dicc[\"Crime\"] = [\"Gotham\"]\n",
        "print (mi_dicc[\"Crime\"])"
      ],
      "execution_count": 18,
      "outputs": [
        {
          "output_type": "stream",
          "text": [
            "['Gotham']\n"
          ],
          "name": "stdout"
        }
      ]
    },
    {
      "cell_type": "markdown",
      "metadata": {
        "id": "eNrD8LxC-PTr"
      },
      "source": [
        "## String Shenanigans\n",
        "\n",
        "We already know that strings are generally used for text. We can used built-in operations to combine, split, and format strings easily, depending on our needs.\n",
        "\n",
        "The `+` symbol indicates concatenation in string language. It will combine two strings into a longer string."
      ]
    },
    {
      "cell_type": "code",
      "metadata": {
        "id": "MmjsphDQ-PTr"
      },
      "source": [
        "first_string = '\"Beware the Jabberwock, my son! /The jaws that bite, the claws that catch! /'\n",
        "second_string = 'Beware the Jubjub bird, and shun /The frumious Bandersnatch!\"/'\n",
        "third_string = first_string + second_string\n",
        "print third_string"
      ],
      "execution_count": null,
      "outputs": []
    },
    {
      "cell_type": "code",
      "metadata": {
        "colab": {
          "base_uri": "https://localhost:8080/"
        },
        "id": "WHyK70-hwhNa",
        "outputId": "0ab41bb7-102d-423c-b0af-08675a9ce1ee"
      },
      "source": [
        "primera = 'Cuidado con el Jabberwock, mi hijo! /Los dientes que muerden, las garras que atrapan! /'\n",
        "segunda = 'Cuidado con el ave Jubjub, y shun /El frumious Bandersnatch'\n",
        "tercera = primera + segunda\n",
        "print(tercera)"
      ],
      "execution_count": 20,
      "outputs": [
        {
          "output_type": "stream",
          "text": [
            "Cuidado con el Jabberwock, mi hijo! /Los dientes que muerden, las garras que atrapan! /Cuidado con el ave Jubjub, y shun /El frumious Bandersnatch\n"
          ],
          "name": "stdout"
        }
      ]
    },
    {
      "cell_type": "markdown",
      "metadata": {
        "id": "_mUE46Fw-PTt"
      },
      "source": [
        "Strings are also indexed much in the same way that lists are."
      ]
    },
    {
      "cell_type": "code",
      "metadata": {
        "id": "Uh60tjVL-PTu"
      },
      "source": [
        "my_string = 'Supercalifragilisticexpialidocious'\n",
        "print 'The first letter is: ', my_string[0] # Uppercase S\n",
        "print 'The last letter is: ', my_string[-1] # lowercase s\n",
        "print 'The second to last letter is: ', my_string[-2] # lowercase u\n",
        "print 'The first five characters are: ', my_string[0:5] # Remember: slicing doesn't include the final element!\n",
        "print 'Reverse it!: ', my_string[::-1]"
      ],
      "execution_count": null,
      "outputs": []
    },
    {
      "cell_type": "code",
      "metadata": {
        "colab": {
          "base_uri": "https://localhost:8080/"
        },
        "id": "_EFutdfKxaxp",
        "outputId": "4c5106f5-438d-458e-8dd2-48c7ee37d09a"
      },
      "source": [
        "mi_cadena = 'Supercalifragilisticexpialidocious'\n",
        "print ('La primera letra es: ', mi_cadena[0])\n",
        "print ('La ultima letra es: ', mi_cadena[-1])\n",
        "print ('La penultima letra es: ', mi_cadena[-2])\n",
        "print ('Los primeros 5 caracteres son: ', mi_cadena[0:5])\n",
        "print ('Invertido: ', mi_cadena[::-1])"
      ],
      "execution_count": 23,
      "outputs": [
        {
          "output_type": "stream",
          "text": [
            "La primera letra es:  S\n",
            "La ultima letra es:  s\n",
            "La penultima letra es:  u\n",
            "Los primeros 5 caracteres son:  Super\n",
            "Invertido:  suoicodilaipxecitsiligarfilacrepuS\n"
          ],
          "name": "stdout"
        }
      ]
    },
    {
      "cell_type": "markdown",
      "metadata": {
        "id": "zjGTCYIg-PTu"
      },
      "source": [
        "Built-in objects and classes often have special functions associated with them that are called methods. We access these methods by using a period ('.'). We will cover objects and their associated methods more in another lecture!\n",
        "\n",
        "Using string methods we can count instances of a character or group of characters."
      ]
    },
    {
      "cell_type": "code",
      "metadata": {
        "scrolled": true,
        "id": "OxYvmyOV-PTu"
      },
      "source": [
        "print 'Count of the letter i in Supercalifragilisticexpialidocious: ', my_string.count('i')\n",
        "print 'Count of \"li\" in the same word: ', my_string.count('li')"
      ],
      "execution_count": null,
      "outputs": []
    },
    {
      "cell_type": "code",
      "metadata": {
        "colab": {
          "base_uri": "https://localhost:8080/"
        },
        "id": "6YMszg_QyPJ1",
        "outputId": "10cca414-86c5-4e52-feb2-c715150730e6"
      },
      "source": [
        "print ('Cuenta de la letra \"a\" en Supercalifragilisticexpialidocious: ', mi_cadena.count('a'))\n",
        "print ('Cuenta de la letra \"l\" en la misma palabra: ', mi_cadena.count('l'))"
      ],
      "execution_count": 30,
      "outputs": [
        {
          "output_type": "stream",
          "text": [
            "Cuenta de la letra \"a\" en Supercalifragilisticexpialidocious:  3\n",
            "Cuenta de la letra \"l\" en la misma palabra:  3\n"
          ],
          "name": "stdout"
        }
      ]
    },
    {
      "cell_type": "markdown",
      "metadata": {
        "id": "zJEi6Erf-PTu"
      },
      "source": [
        "We can also find the first instance of a character or group of characters in a string."
      ]
    },
    {
      "cell_type": "code",
      "metadata": {
        "id": "-FcTAIop-PTv"
      },
      "source": [
        "print 'The first time i appears is at index: ', my_string.find('i')"
      ],
      "execution_count": null,
      "outputs": []
    },
    {
      "cell_type": "code",
      "metadata": {
        "colab": {
          "base_uri": "https://localhost:8080/"
        },
        "id": "qm7mT6_XzI7q",
        "outputId": "0bc4024b-3c67-4e4d-d97d-4b2279bd0aa5"
      },
      "source": [
        "print ('La primera vez que \"a\" aparece es en el indice: ', mi_cadena.find('a'))"
      ],
      "execution_count": 33,
      "outputs": [
        {
          "output_type": "stream",
          "text": [
            "La primera vez que \"a\" aparece es en el indice:  6\n"
          ],
          "name": "stdout"
        }
      ]
    },
    {
      "cell_type": "markdown",
      "metadata": {
        "id": "WgyTR8R2-PTv"
      },
      "source": [
        "As well as replace characters in a string."
      ]
    },
    {
      "cell_type": "code",
      "metadata": {
        "id": "Pwc1ayTm-PTw"
      },
      "source": [
        "print \"All i's are now a's: \", my_string.replace('i', 'a')"
      ],
      "execution_count": null,
      "outputs": []
    },
    {
      "cell_type": "code",
      "metadata": {
        "id": "HwqFKE3z-PTw"
      },
      "source": [
        "print \"It's raining cats and dogs\".replace('dogs', 'more cats')"
      ],
      "execution_count": null,
      "outputs": []
    },
    {
      "cell_type": "code",
      "metadata": {
        "colab": {
          "base_uri": "https://localhost:8080/"
        },
        "id": "TJgvIxgDzyq4",
        "outputId": "5249ba6d-c160-4bf2-cd9d-5e9fb61c6928"
      },
      "source": [
        "print (\"Todas las a son i\", mi_cadena.replace('a', 'i'))"
      ],
      "execution_count": 34,
      "outputs": [
        {
          "output_type": "stream",
          "text": [
            "Todas las a son i Supercilifrigilisticexpiilidocious\n"
          ],
          "name": "stdout"
        }
      ]
    },
    {
      "cell_type": "code",
      "metadata": {
        "colab": {
          "base_uri": "https://localhost:8080/"
        },
        "id": "TriVDaeqzyUZ",
        "outputId": "cc0ef768-d570-4a76-a5cb-f2d9a1aab3e9"
      },
      "source": [
        "print (\"Estan lloviendo perros y gatos\".replace('gatos', 'mas perros'))"
      ],
      "execution_count": 35,
      "outputs": [
        {
          "output_type": "stream",
          "text": [
            "Estan lloviendo perros y mas perros\n"
          ],
          "name": "stdout"
        }
      ]
    },
    {
      "cell_type": "markdown",
      "metadata": {
        "id": "Zdtkh38r-PTw"
      },
      "source": [
        "There are also some methods that are unique to strings. The function `upper()` will convert all characters in a string to uppercase, while `lower()` will convert all characters in a string to lowercase!"
      ]
    },
    {
      "cell_type": "code",
      "metadata": {
        "id": "4UJJVqrY-PTx"
      },
      "source": [
        "my_string = \"I can't hear you\"\n",
        "print my_string.upper()\n",
        "my_string = \"I said HELLO\"\n",
        "print my_string.lower()"
      ],
      "execution_count": null,
      "outputs": []
    },
    {
      "cell_type": "code",
      "metadata": {
        "colab": {
          "base_uri": "https://localhost:8080/"
        },
        "id": "2BtHaLvJ0gYJ",
        "outputId": "e43a906c-944c-4b85-89f7-dcc3e5acc75c"
      },
      "source": [
        "mi_cadena = \"No puedo escucharte\"\n",
        "print (mi_cadena.upper())\n",
        "mi_cadena = \"Dije HOLA\"\n",
        "print (mi_cadena.lower())"
      ],
      "execution_count": 37,
      "outputs": [
        {
          "output_type": "stream",
          "text": [
            "NO PUEDO ESCUCHARTE\n",
            "dije hola\n"
          ],
          "name": "stdout"
        }
      ]
    },
    {
      "cell_type": "markdown",
      "metadata": {
        "id": "uIrah42l-PTx"
      },
      "source": [
        "### String Formatting\n",
        "\n",
        "Using the `format()` method we can add in variable values and generally format our strings."
      ]
    },
    {
      "cell_type": "code",
      "metadata": {
        "id": "deXeXuyI-PTx"
      },
      "source": [
        "my_string = \"{0} {1}\".format('Marco', 'Polo')\n",
        "print my_string"
      ],
      "execution_count": null,
      "outputs": []
    },
    {
      "cell_type": "code",
      "metadata": {
        "id": "YoibmoG--PTx"
      },
      "source": [
        "my_string = \"{1} {0}\".format('Marco', 'Polo')\n",
        "print my_string"
      ],
      "execution_count": null,
      "outputs": []
    },
    {
      "cell_type": "code",
      "metadata": {
        "colab": {
          "base_uri": "https://localhost:8080/"
        },
        "id": "gRqyMuC404A4",
        "outputId": "cd2c8ab7-ebd6-468f-be69-563fd421f33b"
      },
      "source": [
        "mi_cadena = \"{0} {1}\".format('Cristobal', 'Colón')\n",
        "print (mi_cadena)"
      ],
      "execution_count": 38,
      "outputs": [
        {
          "output_type": "stream",
          "text": [
            "Cristobal Colón\n"
          ],
          "name": "stdout"
        }
      ]
    },
    {
      "cell_type": "code",
      "metadata": {
        "colab": {
          "base_uri": "https://localhost:8080/"
        },
        "id": "iS58wfl203z1",
        "outputId": "6a5ccbab-da7b-483d-e2b4-800bccb954d7"
      },
      "source": [
        "mi_cadena = \"{1} {0}\".format('Cristobal', 'Colón')\n",
        "print (mi_cadena)"
      ],
      "execution_count": 39,
      "outputs": [
        {
          "output_type": "stream",
          "text": [
            "Colón Cristobal\n"
          ],
          "name": "stdout"
        }
      ]
    },
    {
      "cell_type": "markdown",
      "metadata": {
        "id": "SXpanFmX-PTy"
      },
      "source": [
        "We use braces (`{}`) to indicate parts of the string that will be filled in later and we use the arguments of the `format()` function to provide the values to substitute. The numbers within the braces indicate the index of the value in the `format()` arguments."
      ]
    },
    {
      "cell_type": "markdown",
      "metadata": {
        "id": "bhVA1KGU-PTy"
      },
      "source": [
        "See the `format()` [documentation](https://docs.python.org/2/library/string.html#format-examples) for additional examples."
      ]
    },
    {
      "cell_type": "markdown",
      "metadata": {
        "id": "gnj4MAea-PTy"
      },
      "source": [
        "If you need some quick and dirty formatting, you can instead use the `%` symbol, called the string formatting operator. "
      ]
    },
    {
      "cell_type": "code",
      "metadata": {
        "id": "Cyw9y9KP-PTy"
      },
      "source": [
        "print 'insert %s here' % 'value'"
      ],
      "execution_count": null,
      "outputs": []
    },
    {
      "cell_type": "code",
      "metadata": {
        "colab": {
          "base_uri": "https://localhost:8080/"
        },
        "id": "joCRaTA11Z15",
        "outputId": "5d65a80a-38d3-466e-8a23-486734360afc"
      },
      "source": [
        "print ('inserte %s aqui' % 'un valor')"
      ],
      "execution_count": 44,
      "outputs": [
        {
          "output_type": "stream",
          "text": [
            "inserte un valor aqui\n"
          ],
          "name": "stdout"
        }
      ]
    },
    {
      "cell_type": "markdown",
      "metadata": {
        "id": "7qShnY_t-PTz"
      },
      "source": [
        "The `%` symbol basically cues Python to create a placeholder. Whatever character follows the `%` (in the string) indicates what sort of type the value put into the placeholder will have. This character is called a *conversion type*. Once the string has been closed, we need another `%` that will be followed by the values to insert. In the case of one value, you can just put it there. If you are inserting more than one value, they must be enclosed in a tuple."
      ]
    },
    {
      "cell_type": "code",
      "metadata": {
        "id": "xxTcc26b-PTz"
      },
      "source": [
        "print 'There are %s cats in my %s' % (13, 'apartment')"
      ],
      "execution_count": null,
      "outputs": []
    },
    {
      "cell_type": "code",
      "metadata": {
        "colab": {
          "base_uri": "https://localhost:8080/"
        },
        "id": "weoerSYB1yhb",
        "outputId": "2b251df0-f316-4ab0-8901-74a98015302a"
      },
      "source": [
        "print ('Hay %s gatos en mi %s' % (7, 'apartamento'))"
      ],
      "execution_count": 46,
      "outputs": [
        {
          "output_type": "stream",
          "text": [
            "Hay 7 gatos en mi apartamento\n"
          ],
          "name": "stdout"
        }
      ]
    },
    {
      "cell_type": "markdown",
      "metadata": {
        "id": "yAt1-3H9-PTz"
      },
      "source": [
        "In these examples, the `%s` indicates that Python should convert the values into strings. There are multiple conversion types that you can use to get more specific with the the formatting. See the string formatting [documentation](https://docs.python.org/2/library/stdtypes.html#string-formatting) for additional examples and more complete details on use."
      ]
    },
    {
      "cell_type": "markdown",
      "metadata": {
        "id": "Vw-pR9bt-PTz"
      },
      "source": [
        "## Logical Operators\n",
        "### Basic Logic\n",
        "\n",
        "Logical operators deal with `boolean` values, as we briefly covered before. If you recall, a `bool` takes on one of two values, `True` or `False` (or $1$ or $0$). The basic logical statements that we can make are defined using the built-in comparators. These are `==` (equal), `!=` (not equal), `<` (less than), `>` (greater than), `<=` (less than or equal to), and `>=` (greater than or equal to)."
      ]
    },
    {
      "cell_type": "code",
      "metadata": {
        "id": "tofahhGF-PT0"
      },
      "source": [
        "print 5 == 5"
      ],
      "execution_count": null,
      "outputs": []
    },
    {
      "cell_type": "code",
      "metadata": {
        "id": "-_xbFQbh-PT0"
      },
      "source": [
        "print 5 > 5"
      ],
      "execution_count": null,
      "outputs": []
    },
    {
      "cell_type": "code",
      "metadata": {
        "colab": {
          "base_uri": "https://localhost:8080/"
        },
        "id": "g4lvFQku2HeY",
        "outputId": "d3c2fb97-7992-46e7-9b73-d146301cf250"
      },
      "source": [
        "print ( 7== 7)\n",
        "print (6 == 8)"
      ],
      "execution_count": 47,
      "outputs": [
        {
          "output_type": "stream",
          "text": [
            "True\n",
            "False\n"
          ],
          "name": "stdout"
        }
      ]
    },
    {
      "cell_type": "code",
      "metadata": {
        "colab": {
          "base_uri": "https://localhost:8080/"
        },
        "id": "qOcTSpuV2HPz",
        "outputId": "c00c7447-90cf-485a-f8a9-46237b62da5c"
      },
      "source": [
        "print (7 > 7)\n",
        "print (8 > 7)"
      ],
      "execution_count": 48,
      "outputs": [
        {
          "output_type": "stream",
          "text": [
            "False\n",
            "True\n"
          ],
          "name": "stdout"
        }
      ]
    },
    {
      "cell_type": "markdown",
      "metadata": {
        "id": "W_NCaYzB-PT0"
      },
      "source": [
        "These comparators also work in conjunction with variables."
      ]
    },
    {
      "cell_type": "code",
      "metadata": {
        "id": "0YzhqFLK-PT0"
      },
      "source": [
        "m = 2\n",
        "n = 23\n",
        "print m < n"
      ],
      "execution_count": null,
      "outputs": []
    },
    {
      "cell_type": "code",
      "metadata": {
        "colab": {
          "base_uri": "https://localhost:8080/"
        },
        "id": "Ra4ZmEPf2ZJp",
        "outputId": "d998a8e8-7354-41b8-ea74-d0dec0cd50af"
      },
      "source": [
        "m = 7\n",
        "n = 21\n",
        "print (m < n)\n",
        "print (m > n)"
      ],
      "execution_count": 50,
      "outputs": [
        {
          "output_type": "stream",
          "text": [
            "True\n",
            "False\n"
          ],
          "name": "stdout"
        }
      ]
    },
    {
      "cell_type": "markdown",
      "metadata": {
        "id": "H2KEIrZ2-PT1"
      },
      "source": [
        "We can string these comparators together to make more complex logical statements using the logical operators `or`, `and`, and `not`. "
      ]
    },
    {
      "cell_type": "code",
      "metadata": {
        "id": "OtUGRc85-PT1"
      },
      "source": [
        "statement_1 = 10 > 2\n",
        "statement_2 = 4 <= 6\n",
        "print \"Statement 1 truth value: {0}\".format(statement_1)\n",
        "print \"Statement 2 truth value: {0}\".format(statement_2)\n",
        "print \"Statement 1 and Statement 2: {0}\".format(statement_1 and statement_2)"
      ],
      "execution_count": null,
      "outputs": []
    },
    {
      "cell_type": "code",
      "metadata": {
        "colab": {
          "base_uri": "https://localhost:8080/"
        },
        "id": "4emalJy42kww",
        "outputId": "3a4bedb8-ae08-40b9-875c-187fa6b2f45d"
      },
      "source": [
        "afirmación_1 = 7 > 3\n",
        "afirmación_2 = 5 <= 9\n",
        "afirmación_3 = 11 <= 8\n",
        "print ('Afirmación 1 valor verdadero: {0}'.format(afirmación_1))\n",
        "print ('Afirmación 2 valor verdadero: {0}'.format(afirmación_2))\n",
        "print ('Afirmación 3 valor falso: {0}'.format(afirmación_3))\n",
        "print ('Afirmación 1 y Afirmación 2: {0}'.format(afirmación_1 and afirmación_2))"
      ],
      "execution_count": 56,
      "outputs": [
        {
          "output_type": "stream",
          "text": [
            "Afirmación 1 valor verdadero: True\n",
            "Afirmación 2 valor verdadero: True\n",
            "Afirmación 3 valor falso: False\n",
            "Afirmación 1 y Afirmación 2: True\n"
          ],
          "name": "stdout"
        }
      ]
    },
    {
      "cell_type": "markdown",
      "metadata": {
        "id": "xPlKuHSM-PT1"
      },
      "source": [
        "The `or` operator performs a logical `or` calculation. This is an inclusive `or`, so if either component paired together by `or` is `True`, the whole statement will be `True`. The `and` statement only outputs `True` if all components that are `and`ed together are True. Otherwise it will output `False`. The `not` statement simply inverts the truth value of whichever statement follows it. So a `True` statement will be evaluated as `False` when a `not` is placed in front of it. Similarly, a `False` statement will become `True` when a `not` is in front of it.\n",
        "\n",
        "Say that we have two logical statements, or assertions, $P$ and $Q$. The truth table for the basic logical operators is as follows:\n",
        "\n",
        "|  P  |  Q  | `not` P| P `and` Q | P `or` Q|\n",
        "|:-----:|:-----:|:---:|:---:|:---:|\n",
        "| `True` | `True` | `False` | `True` | `True` |\n",
        "| `False` | `True` | `True` | `False` | `True` |\n",
        "| `True` | `False` | `False` | `False` | `True` |\n",
        "| `False` | `False` | `True` | `False` | `False` |\n",
        "\n",
        "We can string multiple logical statements together using the logical operators."
      ]
    },
    {
      "cell_type": "code",
      "metadata": {
        "id": "OfToeYc7-PT1",
        "colab": {
          "base_uri": "https://localhost:8080/"
        },
        "outputId": "4af32a84-a971-4d34-8baf-523cf1a80595"
      },
      "source": [
        "print ((2 < 3) and (3 > 0)) or ((5 > 6) and not (4 < 2))"
      ],
      "execution_count": 57,
      "outputs": [
        {
          "output_type": "stream",
          "text": [
            "True\n"
          ],
          "name": "stdout"
        },
        {
          "output_type": "execute_result",
          "data": {
            "text/plain": [
              "False"
            ]
          },
          "metadata": {
            "tags": []
          },
          "execution_count": 57
        }
      ]
    },
    {
      "cell_type": "code",
      "metadata": {
        "colab": {
          "base_uri": "https://localhost:8080/"
        },
        "id": "aDOpn0V431gS",
        "outputId": "1722b55b-c633-41b2-d1c8-b399269d8eca"
      },
      "source": [
        "print ((2 > 3) and (3 < 0)) or ((5 < 6) and not (4 < 2))"
      ],
      "execution_count": 61,
      "outputs": [
        {
          "output_type": "stream",
          "text": [
            "False\n"
          ],
          "name": "stdout"
        },
        {
          "output_type": "execute_result",
          "data": {
            "text/plain": [
              "True"
            ]
          },
          "metadata": {
            "tags": []
          },
          "execution_count": 61
        }
      ]
    },
    {
      "cell_type": "markdown",
      "metadata": {
        "id": "8xsuV8WX-PT2"
      },
      "source": [
        "Logical statements can be as simple or complex as we like, depending on what we need to express. Evaluating the above logical statement step by step we see that we are evaluating (`True and True`) `or` (`False and not False`). This becomes `True or (False and True`), subsequently becoming `True or False`, ultimately being evaluated as `True`."
      ]
    },
    {
      "cell_type": "markdown",
      "metadata": {
        "id": "XO3QeKZR-PT2"
      },
      "source": [
        "#### Truthiness\n",
        "\n",
        "Data types in Python have a fun characteristic called truthiness. What this means is that most built-in types will evaluate as either `True` or `False` when a boolean value is needed (such as with an if-statement). As a general rule, containers like strings, tuples, dictionaries, lists, and sets, will return `True` if they contain anything at all and `False` if they contain nothing."
      ]
    },
    {
      "cell_type": "code",
      "metadata": {
        "id": "dh_3Z_id-PT2"
      },
      "source": [
        "# Similar to how float() and int() work, bool() forces a value to be considered a boolean!\n",
        "print bool('')"
      ],
      "execution_count": null,
      "outputs": []
    },
    {
      "cell_type": "code",
      "metadata": {
        "id": "1a5xmyK3-PT2"
      },
      "source": [
        "print bool('I have character!')"
      ],
      "execution_count": null,
      "outputs": []
    },
    {
      "cell_type": "code",
      "metadata": {
        "id": "oJlpwWTT-PT2"
      },
      "source": [
        "print bool([])"
      ],
      "execution_count": null,
      "outputs": []
    },
    {
      "cell_type": "code",
      "metadata": {
        "id": "1EMBOqQ1-PT3"
      },
      "source": [
        "print bool([1, 2, 3])"
      ],
      "execution_count": null,
      "outputs": []
    },
    {
      "cell_type": "code",
      "metadata": {
        "colab": {
          "base_uri": "https://localhost:8080/"
        },
        "id": "kUzJYX_s4hNh",
        "outputId": "836c6da7-eb3f-47ea-f00d-944a88e8106f"
      },
      "source": [
        "print (bool(''))"
      ],
      "execution_count": 64,
      "outputs": [
        {
          "output_type": "stream",
          "text": [
            "False\n"
          ],
          "name": "stdout"
        }
      ]
    },
    {
      "cell_type": "code",
      "metadata": {
        "colab": {
          "base_uri": "https://localhost:8080/"
        },
        "id": "gqKH9BMk4h8X",
        "outputId": "c90b4feb-a876-4c9d-ac70-2f9f7daf24c0"
      },
      "source": [
        "print (bool('Tengo algo escrito!'))"
      ],
      "execution_count": 68,
      "outputs": [
        {
          "output_type": "stream",
          "text": [
            "True\n"
          ],
          "name": "stdout"
        }
      ]
    },
    {
      "cell_type": "code",
      "metadata": {
        "colab": {
          "base_uri": "https://localhost:8080/"
        },
        "id": "oQ9CkZry4hxg",
        "outputId": "6b7f4270-91bd-4635-be94-ced0ad16a21b"
      },
      "source": [
        "print (bool([]))"
      ],
      "execution_count": 66,
      "outputs": [
        {
          "output_type": "stream",
          "text": [
            "False\n"
          ],
          "name": "stdout"
        }
      ]
    },
    {
      "cell_type": "code",
      "metadata": {
        "colab": {
          "base_uri": "https://localhost:8080/"
        },
        "id": "HKtcMcMv4hpI",
        "outputId": "a255dd16-8f3b-45d7-a3cc-4678e71e0b2e"
      },
      "source": [
        "print (bool([1, 2, 3]))"
      ],
      "execution_count": 67,
      "outputs": [
        {
          "output_type": "stream",
          "text": [
            "True\n"
          ],
          "name": "stdout"
        }
      ]
    },
    {
      "cell_type": "markdown",
      "metadata": {
        "id": "npiS4F8e-PT3"
      },
      "source": [
        "And so on, for the other collections and containers. `None` also evaluates as `False`. The number `1` is equivalent to `True` and the number `0` is equivalent to `False` as well, in a boolean context."
      ]
    },
    {
      "cell_type": "markdown",
      "metadata": {
        "id": "S_JPsUXk-PT3"
      },
      "source": [
        "### If-statements\n",
        "\n",
        "We can create segments of code that only execute if a set of conditions is met. We use if-statements in conjunction with logical statements in order to create branches in our code. \n",
        "\n",
        "An `if` block gets entered when the condition is considered to be `True`. If condition is evaluated as `False`, the `if` block will simply be skipped unless there is an `else` block to accompany it. Conditions are made using either logical operators or by using the truthiness of values in Python. An if-statement is defined with a colon and a block of indented text."
      ]
    },
    {
      "cell_type": "code",
      "metadata": {
        "id": "NjYMkmCC-PT4"
      },
      "source": [
        "# This is the basic format of an if statement. This is a vacuous example. \n",
        "# The string \"Condition\" will always evaluated as True because it is a\n",
        "# non-empty string. he purpose of this code is to show the formatting of\n",
        "# an if-statement.\n",
        "if \"Condition\": \n",
        "    # This block of code will execute because the string is non-empty\n",
        "    # Everything on these indented lines\n",
        "    print True\n",
        "else:\n",
        "    # So if the condition that we examined with if is in fact False\n",
        "    # This block of code will execute INSTEAD of the first block of code\n",
        "    # Everything on these indented lines\n",
        "    print False\n",
        "# The else block here will never execute because \"Condition\" is a non-empty string."
      ],
      "execution_count": null,
      "outputs": []
    },
    {
      "cell_type": "code",
      "metadata": {
        "id": "jN46fGwt-PT4"
      },
      "source": [
        "i = 4\n",
        "if i == 5:\n",
        "    print 'The variable i has a value of 5'"
      ],
      "execution_count": null,
      "outputs": []
    },
    {
      "cell_type": "code",
      "metadata": {
        "id": "JNVHNDN77Q09"
      },
      "source": [
        "ab = 5\n",
        "if ab == 2:\n",
        "  print('La variable ab tiene el valor de 2')"
      ],
      "execution_count": 70,
      "outputs": []
    },
    {
      "cell_type": "markdown",
      "metadata": {
        "id": "xeu1xFsQ-PT4"
      },
      "source": [
        "Because in this example `i = 4` and the if-statement is only looking for whether `i` is equal to `5`, the print statement will never be executed. We can add in an `else` statement to create a contingency block of code in case the condition in the if-statement is not evaluated as `True`."
      ]
    },
    {
      "cell_type": "code",
      "metadata": {
        "id": "HBf5RH4m-PT4"
      },
      "source": [
        "i = 4\n",
        "if i == 5:\n",
        "    print \"All lines in this indented block are part of this block\"\n",
        "    print 'The variable i has a value of 5'\n",
        "else:\n",
        "    print \"All lines in this indented block are part of this block\"\n",
        "    print 'The variable i is not equal to 5'"
      ],
      "execution_count": null,
      "outputs": []
    },
    {
      "cell_type": "code",
      "metadata": {
        "colab": {
          "base_uri": "https://localhost:8080/"
        },
        "id": "vXUwK1Re7g8G",
        "outputId": "bd19c2fb-6338-4033-e1e2-bae83a709a17"
      },
      "source": [
        "ab = 5\n",
        "if ab == 2:\n",
        "  print('La variable ab tiene el valor de 2')\n",
        "else:\n",
        "  print('La variable ab no es igual a 2')"
      ],
      "execution_count": 72,
      "outputs": [
        {
          "output_type": "stream",
          "text": [
            "La variable ab no es igual a 2\n"
          ],
          "name": "stdout"
        }
      ]
    },
    {
      "cell_type": "markdown",
      "metadata": {
        "id": "QPaAj0lV-PT5"
      },
      "source": [
        "We can implement other branches off of the same if-statement by using `elif`, an abbreviation of \"else if\". We can include as many `elifs` as we like until we have exhausted all the logical branches of a condition."
      ]
    },
    {
      "cell_type": "code",
      "metadata": {
        "id": "tJgYs2Ae-PT5"
      },
      "source": [
        "i = 1\n",
        "if i == 1:\n",
        "    print 'The variable i has a value of 1'\n",
        "elif i == 2:\n",
        "    print 'The variable i has a value of 2'\n",
        "elif i == 3:\n",
        "    print 'The variable i has a value of 3'\n",
        "else:\n",
        "    print \"I don't care what i is\""
      ],
      "execution_count": null,
      "outputs": []
    },
    {
      "cell_type": "code",
      "metadata": {
        "colab": {
          "base_uri": "https://localhost:8080/"
        },
        "id": "AXCboNyL70rw",
        "outputId": "483b8781-0f3e-4959-8445-dd2bef49fcd7"
      },
      "source": [
        "ab = 3\n",
        "if ab == 2:\n",
        "  print('La variable ab tiene el valor de 2')\n",
        "elif ab == 3:\n",
        "  print('La variable ab tiene el valor de 3')\n",
        "elif ab == 4:\n",
        "  print('La variable ab tiene el valor de 4')\n",
        "else:\n",
        "  print(\"No me importa el valor de a\")"
      ],
      "execution_count": 75,
      "outputs": [
        {
          "output_type": "stream",
          "text": [
            "La variable ab tiene el valor de 3\n"
          ],
          "name": "stdout"
        }
      ]
    },
    {
      "cell_type": "code",
      "metadata": {
        "colab": {
          "base_uri": "https://localhost:8080/"
        },
        "id": "QF8j1qNg8bQc",
        "outputId": "8255f2a3-4891-4ee6-a5b7-e46b5f3acc78"
      },
      "source": [
        "ab = 5\n",
        "if ab == 2:\n",
        "  print('La variable ab tiene el valor de 2')\n",
        "elif ab == 3:\n",
        "  print('La variable ab tiene el valor de 3')\n",
        "elif ab == 4:\n",
        "  print('La variable ab tiene el valor de 4')\n",
        "else:\n",
        "  print(\"No me importa el valor de a\")"
      ],
      "execution_count": 76,
      "outputs": [
        {
          "output_type": "stream",
          "text": [
            "No me importa el valor de a\n"
          ],
          "name": "stdout"
        }
      ]
    },
    {
      "cell_type": "markdown",
      "metadata": {
        "id": "W_tE1g1o-PT6"
      },
      "source": [
        "You can also nest if-statements within if-statements to check for further conditions."
      ]
    },
    {
      "cell_type": "code",
      "metadata": {
        "id": "mneBPiY--PT6"
      },
      "source": [
        "i = 10\n",
        "if i % 2 == 0:\n",
        "    if i % 3 == 0:\n",
        "        print 'i is divisible by both 2 and 3! Wow!'\n",
        "    elif i % 5 == 0:\n",
        "        print 'i is divisible by both 2 and 5! Wow!'\n",
        "    else:\n",
        "        print 'i is divisible by 2, but not 3 or 5. Meh.'\n",
        "else:\n",
        "    print 'I guess that i is an odd number. Boring.'"
      ],
      "execution_count": null,
      "outputs": []
    },
    {
      "cell_type": "code",
      "metadata": {
        "colab": {
          "base_uri": "https://localhost:8080/"
        },
        "id": "UOFdy3H08e-X",
        "outputId": "25e40c9d-fe6e-4c75-e295-71acd27748f6"
      },
      "source": [
        "ab = 15\n",
        "if ab % 3 == 0:\n",
        "    if ab % 2 == 0:\n",
        "        print ('ab es divisible por 2 y 3! wow!')\n",
        "    elif ab % 5 == 0:\n",
        "        print ('ab es divisible por 3 y 5! wow!')\n",
        "    else:\n",
        "        print ('ab es divisible por 3, pero no por 2 y 5. Meh')\n",
        "else:\n",
        "    print ('Supongo que ab no es multiplo de 3. Aburrido')"
      ],
      "execution_count": 85,
      "outputs": [
        {
          "output_type": "stream",
          "text": [
            "ab es divisible por 3 y 5! wow!\n"
          ],
          "name": "stdout"
        }
      ]
    },
    {
      "cell_type": "markdown",
      "metadata": {
        "id": "lqgTUPNE-PT6"
      },
      "source": [
        "Remember that we can group multiple conditions together by using the logical operators!"
      ]
    },
    {
      "cell_type": "code",
      "metadata": {
        "id": "E_OYF44a-PT6"
      },
      "source": [
        "i = 5\n",
        "j = 12\n",
        "if i < 10 and j > 11:\n",
        "    print '{0} is less than 10 and {1} is greater than 11! How novel and interesting!'.format(i, j)"
      ],
      "execution_count": null,
      "outputs": []
    },
    {
      "cell_type": "code",
      "metadata": {
        "colab": {
          "base_uri": "https://localhost:8080/"
        },
        "id": "0fhDoJYg9mFw",
        "outputId": "33c842c4-dcf6-4d09-eb82-22a29c932386"
      },
      "source": [
        "ab = 7\n",
        "cd = 13\n",
        "if ab < 10 and cd > 11:\n",
        "    print ('{0} es menor que 10 y {1} es mayor que 11!'.format(ab, cd))"
      ],
      "execution_count": 88,
      "outputs": [
        {
          "output_type": "stream",
          "text": [
            "7 es menor que 10 y 13 es mayor que 11!\n"
          ],
          "name": "stdout"
        }
      ]
    },
    {
      "cell_type": "markdown",
      "metadata": {
        "id": "kXsRoSmP-PT6"
      },
      "source": [
        "You can use the logical comparators to compare strings!"
      ]
    },
    {
      "cell_type": "code",
      "metadata": {
        "id": "pg-DH84l-PT7"
      },
      "source": [
        "my_string = \"Carthago delenda est\"\n",
        "if my_string == \"Carthago delenda est\":\n",
        "    print 'And so it was! For the glory of Rome!'\n",
        "else:\n",
        "    print 'War elephants are TERRIFYING. I am staying home.'"
      ],
      "execution_count": null,
      "outputs": []
    },
    {
      "cell_type": "code",
      "metadata": {
        "colab": {
          "base_uri": "https://localhost:8080/"
        },
        "id": "uZsiQ9809655",
        "outputId": "28e2d37f-f71d-4a16-b6f4-6fbeb7625603"
      },
      "source": [
        "mi_cadena = \"no sé que es eso\"\n",
        "if mi_cadena == \"no sé que es eso\":\n",
        "    print ('Y asi fue! Por la gloria de Roma')\n",
        "else:\n",
        "    print ('Elefantes de guerra son aterradores, me quedo en casa.')"
      ],
      "execution_count": 90,
      "outputs": [
        {
          "output_type": "stream",
          "text": [
            "Y asi fue! Por la gloria de Roma\n"
          ],
          "name": "stdout"
        }
      ]
    },
    {
      "cell_type": "markdown",
      "metadata": {
        "id": "fxdfFAQL-PT7"
      },
      "source": [
        "As with other data types, `==` will check for whether the two things on either side of it have the same value. In this case, we compare whether the value of the strings are the same. Using `>` or `<` or any of the other comparators is not quite so intuitive, however, so we will stay from using comparators with strings in this lecture. Comparators will examine the [lexicographical order](https://en.wikipedia.org/wiki/Lexicographical_order) of the strings, which might be a bit more in-depth than you might like."
      ]
    },
    {
      "cell_type": "markdown",
      "metadata": {
        "id": "fVIxHhFb-PT7"
      },
      "source": [
        "Some built-in functions return a boolean value, so they can be used as conditions in an if-statement. User-defined functions can also be constructed so that they return a boolean value. This will be covered later with function definition!\n",
        "\n",
        "The `in` keyword is generally used to check membership of a value within another value. We can check memebership in the context of an if-statement and use it to output a truth value."
      ]
    },
    {
      "cell_type": "code",
      "metadata": {
        "id": "Xt6m1VKa-PT7"
      },
      "source": [
        "if 'a' in my_string or 'e' in my_string:\n",
        "    print 'Those are my favorite vowels!'"
      ],
      "execution_count": null,
      "outputs": []
    },
    {
      "cell_type": "code",
      "metadata": {
        "colab": {
          "base_uri": "https://localhost:8080/"
        },
        "id": "Z1x3jjX5-m0l",
        "outputId": "a085f8ac-68b6-45d1-ed39-b671d24f5598"
      },
      "source": [
        "if 'a' in mi_cadena or 'e' in mi_cadena:\n",
        "    print ('Esas fueron mis vocales favoritas')"
      ],
      "execution_count": 92,
      "outputs": [
        {
          "output_type": "stream",
          "text": [
            "Esas fueron mis vocales favoritas\n"
          ],
          "name": "stdout"
        }
      ]
    },
    {
      "cell_type": "markdown",
      "metadata": {
        "id": "CCcVyUNS-PT8"
      },
      "source": [
        "Here we use `in` to check whether the variable `my_string` contains any particular letters. We will later use `in` to iterate through lists!"
      ]
    },
    {
      "cell_type": "markdown",
      "metadata": {
        "id": "Ic84smPa-PT8"
      },
      "source": [
        "## Loop Structures\n",
        "\n",
        "Loop structures are one of the most important parts of programming. The `for` loop and the `while` loop provide a way to repeatedly run a block of code repeatedly. A `while` loop will iterate until a certain condition has been met. If at any point after an iteration that condition is no longer satisfied, the loop terminates. A `for` loop will iterate over a sequence of values and terminate when the sequence has ended. You can instead include conditions within the `for` loop to decide whether it should terminate early or you could simply let it run its course."
      ]
    },
    {
      "cell_type": "code",
      "metadata": {
        "id": "_2_WQ3NW-PT8"
      },
      "source": [
        "i = 5\n",
        "while i > 0: # We can write this as 'while i:' because 0 is False!\n",
        "    i -= 1\n",
        "    print 'I am looping! {0} more to go!'.format(i)"
      ],
      "execution_count": null,
      "outputs": []
    },
    {
      "cell_type": "code",
      "metadata": {
        "colab": {
          "base_uri": "https://localhost:8080/"
        },
        "id": "zv_lAE_0_G9L",
        "outputId": "bdf55dc9-6a9e-4c8e-dc0e-cbbe94360460"
      },
      "source": [
        "ab = 7\n",
        "while ab > 0:\n",
        "  ab = ab - 1\n",
        "  print ('Estoy repitiendo! {0} mas para terminar!'.format(ab)) "
      ],
      "execution_count": 94,
      "outputs": [
        {
          "output_type": "stream",
          "text": [
            "Estoy repitiendo! 6 mas para terminar!\n",
            "Estoy repitiendo! 5 mas para terminar!\n",
            "Estoy repitiendo! 4 mas para terminar!\n",
            "Estoy repitiendo! 3 mas para terminar!\n",
            "Estoy repitiendo! 2 mas para terminar!\n",
            "Estoy repitiendo! 1 mas para terminar!\n",
            "Estoy repitiendo! 0 mas para terminar!\n"
          ],
          "name": "stdout"
        }
      ]
    },
    {
      "cell_type": "markdown",
      "metadata": {
        "id": "np3jtk7N-PT8"
      },
      "source": [
        "\n",
        "With `while` loops we need to make sure that something actually changes from iteration to iteration so that that the loop actually terminates. In this case, we use the shorthand `i -= 1` (short for `i = i - 1`) so that the value of `i` gets smaller with each iteration. Eventually `i` will be reduced to `0`, rendering the condition `False` and exiting the loop."
      ]
    },
    {
      "cell_type": "markdown",
      "metadata": {
        "id": "Vae8jsUG-PT9"
      },
      "source": [
        "A `for` loop iterates a set number of times, determined when you state the entry into the loop. In this case we are iterating over the list returned from `range()`. The `for` loop selects a value from the list, in order, and temporarily assigns the value of `i` to it so that operations can be performed with the value."
      ]
    },
    {
      "cell_type": "code",
      "metadata": {
        "id": "lZ-T3Vhs-PT9"
      },
      "source": [
        "for i in range(5):\n",
        "    print 'I am looping! I have looped {0} times!'.format(i + 1)"
      ],
      "execution_count": null,
      "outputs": []
    },
    {
      "cell_type": "code",
      "metadata": {
        "colab": {
          "base_uri": "https://localhost:8080/"
        },
        "id": "AvWeykLDAd5i",
        "outputId": "10e1d2cb-1261-45e4-ac94-0bb5e3fd2997"
      },
      "source": [
        "for i in range(7):\n",
        "  print('Estoy repitiendo! He repetido {0} veces!'.format(i + 1))"
      ],
      "execution_count": 95,
      "outputs": [
        {
          "output_type": "stream",
          "text": [
            "Estoy repitiendo! He repetido 1 veces!\n",
            "Estoy repitiendo! He repetido 2 veces!\n",
            "Estoy repitiendo! He repetido 3 veces!\n",
            "Estoy repitiendo! He repetido 4 veces!\n",
            "Estoy repitiendo! He repetido 5 veces!\n",
            "Estoy repitiendo! He repetido 6 veces!\n",
            "Estoy repitiendo! He repetido 7 veces!\n"
          ],
          "name": "stdout"
        }
      ]
    },
    {
      "cell_type": "markdown",
      "metadata": {
        "id": "63Cnkx4D-PT9"
      },
      "source": [
        "Note that in this `for` loop we use the `in` keyword. Use of the `in` keyword is not limited to checking for membership as in the if-statement example. You can iterate over any collection with a `for` loop by using the `in` keyword.\n",
        "\n",
        "In this next example, we will iterate over a `set` because we want to check for containment and add to a new set."
      ]
    },
    {
      "cell_type": "code",
      "metadata": {
        "id": "CT178DTB-PT9"
      },
      "source": [
        "my_list = {'cats', 'dogs', 'lizards', 'cows', 'bats', 'sponges', 'humans'} # Lists all the animals in the world\n",
        "mammal_list = {'cats', 'dogs', 'cows', 'bats', 'humans'} # Lists all the mammals in the world\n",
        "my_new_list = set()\n",
        "for animal in my_list:\n",
        "    if animal in mammal_list:\n",
        "        # This adds any animal that is both in my_list and mammal_list to my_new_list\n",
        "        my_new_list.add(animal)\n",
        "        \n",
        "print my_new_list"
      ],
      "execution_count": null,
      "outputs": []
    },
    {
      "cell_type": "code",
      "metadata": {
        "colab": {
          "base_uri": "https://localhost:8080/"
        },
        "id": "oSOGbi8QA8Pf",
        "outputId": "20f49205-87b0-480f-9f68-bc8cf953130a"
      },
      "source": [
        "mi_lista = {'gatos', 'perros', 'gekkos', 'vacas', 'murcielagos', 'esponjas', 'humanos'}\n",
        "mamiferos = {'gatos', 'perros', 'vacas', 'murcielagos', 'humanos'}\n",
        "nueva_lista = set()\n",
        "for animal in mi_lista:\n",
        "  if animal in mamiferos:\n",
        "    nueva_lista.add(animal)\n",
        "\n",
        "print (nueva_lista)"
      ],
      "execution_count": 96,
      "outputs": [
        {
          "output_type": "stream",
          "text": [
            "{'vacas', 'murcielagos', 'gatos', 'perros', 'humanos'}\n"
          ],
          "name": "stdout"
        }
      ]
    },
    {
      "cell_type": "markdown",
      "metadata": {
        "id": "7VfjymFV-PT9"
      },
      "source": [
        "There are two statements that are very helpful in dealing with both `for` and `while` loops. These are `break` and `continue`. If `break` is encountered at any point while a loop is executing, the loop will immediately end."
      ]
    },
    {
      "cell_type": "code",
      "metadata": {
        "id": "IRITrIcV-PT-"
      },
      "source": [
        "i = 10\n",
        "while True:\n",
        "    if i == 14:\n",
        "        break\n",
        "    i += 1 # This is shorthand for i = i + 1. It increments i with each iteration.\n",
        "    print i"
      ],
      "execution_count": null,
      "outputs": []
    },
    {
      "cell_type": "code",
      "metadata": {
        "id": "0whsom9t-PT-"
      },
      "source": [
        "for i in range(5):\n",
        "    if i == 2:\n",
        "        break\n",
        "    print i"
      ],
      "execution_count": null,
      "outputs": []
    },
    {
      "cell_type": "code",
      "metadata": {
        "colab": {
          "base_uri": "https://localhost:8080/"
        },
        "id": "UOw_4ydZBuh_",
        "outputId": "176d22ba-efda-49b2-cf2d-190aadbaffd6"
      },
      "source": [
        "ab = 7\n",
        "while True:\n",
        "  if ab == 25:\n",
        "    break\n",
        "  ab += 1\n",
        "  print(ab)"
      ],
      "execution_count": 97,
      "outputs": [
        {
          "output_type": "stream",
          "text": [
            "8\n",
            "9\n",
            "10\n",
            "11\n",
            "12\n",
            "13\n",
            "14\n",
            "15\n",
            "16\n",
            "17\n",
            "18\n",
            "19\n",
            "20\n",
            "21\n",
            "22\n",
            "23\n",
            "24\n",
            "25\n"
          ],
          "name": "stdout"
        }
      ]
    },
    {
      "cell_type": "code",
      "metadata": {
        "colab": {
          "base_uri": "https://localhost:8080/"
        },
        "id": "lI_x9XaNBuXB",
        "outputId": "3bbc85e4-847c-4f6b-8257-353e39360b11"
      },
      "source": [
        "for ab in range (7):\n",
        "  if ab == 4:\n",
        "    break\n",
        "  print (ab)"
      ],
      "execution_count": 102,
      "outputs": [
        {
          "output_type": "stream",
          "text": [
            "0\n",
            "1\n",
            "2\n",
            "3\n"
          ],
          "name": "stdout"
        }
      ]
    },
    {
      "cell_type": "markdown",
      "metadata": {
        "id": "Rvyt3Y38-PT-"
      },
      "source": [
        "The `continue` statement will tell the loop to immediately end this iteration and continue onto the next iteration of the loop."
      ]
    },
    {
      "cell_type": "code",
      "metadata": {
        "id": "GyNXNHao-PT-"
      },
      "source": [
        "i = 0\n",
        "while i < 5:\n",
        "    i += 1\n",
        "    if i == 3:\n",
        "        continue\n",
        "    print i"
      ],
      "execution_count": null,
      "outputs": []
    },
    {
      "cell_type": "code",
      "metadata": {
        "colab": {
          "base_uri": "https://localhost:8080/"
        },
        "id": "vDNKaPnUDhS3",
        "outputId": "c523c684-fbfc-4969-8099-21b90f7123d5"
      },
      "source": [
        "ab = 0\n",
        "while ab < 7:\n",
        "  ab += 1\n",
        "  if ab == 4:\n",
        "    continue\n",
        "  print (ab)"
      ],
      "execution_count": 104,
      "outputs": [
        {
          "output_type": "stream",
          "text": [
            "1\n",
            "2\n",
            "3\n",
            "5\n",
            "6\n",
            "7\n"
          ],
          "name": "stdout"
        }
      ]
    },
    {
      "cell_type": "markdown",
      "metadata": {
        "id": "np73nMWI-PT_"
      },
      "source": [
        "This loop skips printing the number $3$ because of the `continue` statement that executes when we enter the if-statement. The code never sees the command to print the number $3$ because it has already moved to the next iteration. The `break` and `continue` statements are further tools to help you control the flow of your loops and, as a result, your code."
      ]
    },
    {
      "cell_type": "markdown",
      "metadata": {
        "id": "9V5W_RtC-PT_"
      },
      "source": [
        "The variable that we use to iterate over a loop will retain its value when the loop exits. Similarly, any variables defined within the context of the loop will continue to exist outside of it."
      ]
    },
    {
      "cell_type": "code",
      "metadata": {
        "id": "KL8lHGBR-PT_"
      },
      "source": [
        "for i in range(5):\n",
        "    loop_string = 'I transcend the loop!'\n",
        "    print 'I am eternal! I am {0} and I exist everywhere!'.format(i)\n",
        "\n",
        "print 'I persist! My value is {0}'.format(i)\n",
        "print loop_string"
      ],
      "execution_count": null,
      "outputs": []
    },
    {
      "cell_type": "code",
      "metadata": {
        "colab": {
          "base_uri": "https://localhost:8080/"
        },
        "id": "8gWwDvmiD75w",
        "outputId": "40a768ea-dcd5-4c3a-bef4-c4f6779aee8a"
      },
      "source": [
        "for ab in range (7):\n",
        "  re_cadena = 'Superé el bucle'\n",
        "  print ('Soy eterno! Soy {0} y existo en todos lados'.format(ab))\n",
        "\n",
        "print('Persisto! Mi valor es {0}'.format(ab))\n",
        "print(re_cadena)"
      ],
      "execution_count": 107,
      "outputs": [
        {
          "output_type": "stream",
          "text": [
            "Soy eterno! Soy 0 y existo en todos lados\n",
            "Soy eterno! Soy 1 y existo en todos lados\n",
            "Soy eterno! Soy 2 y existo en todos lados\n",
            "Soy eterno! Soy 3 y existo en todos lados\n",
            "Soy eterno! Soy 4 y existo en todos lados\n",
            "Soy eterno! Soy 5 y existo en todos lados\n",
            "Soy eterno! Soy 6 y existo en todos lados\n",
            "Persisto! Mi valor es 6\n",
            "Superé el bucle\n"
          ],
          "name": "stdout"
        }
      ]
    },
    {
      "cell_type": "markdown",
      "metadata": {
        "id": "LiS94DB1-PT_"
      },
      "source": [
        "We can also iterate over a dictionary!"
      ]
    },
    {
      "cell_type": "code",
      "metadata": {
        "id": "CM9yymT4-PT_"
      },
      "source": [
        "my_dict = {'firstname' : 'Inigo', 'lastname' : 'Montoya', 'nemesis' : 'Rugen'}"
      ],
      "execution_count": null,
      "outputs": []
    },
    {
      "cell_type": "code",
      "metadata": {
        "id": "OMaFYjRL-PUA"
      },
      "source": [
        "for key in my_dict:\n",
        "    print key"
      ],
      "execution_count": null,
      "outputs": []
    },
    {
      "cell_type": "code",
      "metadata": {
        "id": "Tmek78oXEiYH"
      },
      "source": [
        "mi_dicc = {'Nombre' : 'Fabian', 'Apellido' : 'Marquez', 'Nemesis' : 'Andres'}"
      ],
      "execution_count": 108,
      "outputs": []
    },
    {
      "cell_type": "code",
      "metadata": {
        "colab": {
          "base_uri": "https://localhost:8080/"
        },
        "id": "sry8iPTCEh-Z",
        "outputId": "76868a40-cb3a-40e6-9181-7b5aa79fc791"
      },
      "source": [
        "for key in mi_dicc:\n",
        "    print(key)"
      ],
      "execution_count": 109,
      "outputs": [
        {
          "output_type": "stream",
          "text": [
            "Nombre\n",
            "Apellido\n",
            "Nemesis\n"
          ],
          "name": "stdout"
        }
      ]
    },
    {
      "cell_type": "markdown",
      "metadata": {
        "id": "lo4l4imv-PUA"
      },
      "source": [
        "If we just iterate over a dictionary without doing anything else, we will only get the keys. We can either use the keys to get the values, like so:"
      ]
    },
    {
      "cell_type": "code",
      "metadata": {
        "id": "PJ-UYJ9j-PUA"
      },
      "source": [
        "for key in my_dict:\n",
        "    print my_dict[key]"
      ],
      "execution_count": null,
      "outputs": []
    },
    {
      "cell_type": "code",
      "metadata": {
        "colab": {
          "base_uri": "https://localhost:8080/"
        },
        "id": "bP8ZJYJeEyUn",
        "outputId": "bf36de8a-9a20-4673-888a-972cca138189"
      },
      "source": [
        "for key in mi_dicc:\n",
        "    print(mi_dicc[key])"
      ],
      "execution_count": 110,
      "outputs": [
        {
          "output_type": "stream",
          "text": [
            "Fabian\n",
            "Marquez\n",
            "Andres\n"
          ],
          "name": "stdout"
        }
      ]
    },
    {
      "cell_type": "markdown",
      "metadata": {
        "id": "JRit1FR5-PUA"
      },
      "source": [
        "Or we can use the `items()` function to get both key and value at the same time."
      ]
    },
    {
      "cell_type": "code",
      "metadata": {
        "id": "wHbj886v-PUB"
      },
      "source": [
        "for key, value in my_dict.items():\n",
        "    print key, ':', value"
      ],
      "execution_count": null,
      "outputs": []
    },
    {
      "cell_type": "code",
      "metadata": {
        "colab": {
          "base_uri": "https://localhost:8080/"
        },
        "id": "ZMIKZboeE300",
        "outputId": "b55bf061-5fb5-489f-97be-4f7691688959"
      },
      "source": [
        "for key, value in mi_dicc.items():\n",
        "    print(key, ':', value)"
      ],
      "execution_count": 111,
      "outputs": [
        {
          "output_type": "stream",
          "text": [
            "Nombre : Fabian\n",
            "Apellido : Marquez\n",
            "Nemesis : Andres\n"
          ],
          "name": "stdout"
        }
      ]
    },
    {
      "cell_type": "markdown",
      "metadata": {
        "id": "dRExtZxF-PUB"
      },
      "source": [
        "The `items()` function creates a tuple of each key-value pair and the for loop unpacks that tuple into `key, value` on each separate execution of the loop!"
      ]
    },
    {
      "cell_type": "markdown",
      "metadata": {
        "id": "8oAkUyt3-PUB"
      },
      "source": [
        "## Functions\n",
        "\n",
        "A function is a reusable block of code that you can call repeatedly to make calculations, output data, or really do anything that you want. This is one of the key aspects of using a programming language. To add to the built-in functions in Python, you can define your own!"
      ]
    },
    {
      "cell_type": "code",
      "metadata": {
        "id": "CvefYx3m-PUB"
      },
      "source": [
        "def hello_world():\n",
        "    \"\"\" Prints Hello, world! \"\"\"\n",
        "    print 'Hello, world!'\n",
        "\n",
        "hello_world()"
      ],
      "execution_count": null,
      "outputs": []
    },
    {
      "cell_type": "code",
      "metadata": {
        "id": "o723ktNI-PUC"
      },
      "source": [
        "for i in range(5):\n",
        "    hello_world()"
      ],
      "execution_count": null,
      "outputs": []
    },
    {
      "cell_type": "code",
      "metadata": {
        "colab": {
          "base_uri": "https://localhost:8080/"
        },
        "id": "s0xYWm83FR9v",
        "outputId": "733f75a6-ec06-4d56-c9df-504aab9aeb93"
      },
      "source": [
        "def hola_mundo():\n",
        "  print('Hola, mundo!')\n",
        "hola_mundo()"
      ],
      "execution_count": 112,
      "outputs": [
        {
          "output_type": "stream",
          "text": [
            "Hola, mundo!\n"
          ],
          "name": "stdout"
        }
      ]
    },
    {
      "cell_type": "code",
      "metadata": {
        "colab": {
          "base_uri": "https://localhost:8080/"
        },
        "id": "wZYmM9TYFRzB",
        "outputId": "72715743-944a-41f5-e3f6-c5f428a4c7af"
      },
      "source": [
        "for i in range (7):\n",
        "  hola_mundo()"
      ],
      "execution_count": 113,
      "outputs": [
        {
          "output_type": "stream",
          "text": [
            "Hola, mundo!\n",
            "Hola, mundo!\n",
            "Hola, mundo!\n",
            "Hola, mundo!\n",
            "Hola, mundo!\n",
            "Hola, mundo!\n",
            "Hola, mundo!\n"
          ],
          "name": "stdout"
        }
      ]
    },
    {
      "cell_type": "markdown",
      "metadata": {
        "id": "e7dHk5U9-PUC"
      },
      "source": [
        "Functions are defined with `def`, a function name, a list of parameters, and a colon. Everything indented below the colon will be included in the definition of the function.\n",
        "\n",
        "We can have our functions do anything that you can do with a normal block of code. For example, our `hello_world()` function prints a string every time it is called. If we want to keep a value that a function calculates, we can define the function so that it will `return` the value we want. This is a very important feature of functions, as any variable defined purely within a function will not exist outside of it."
      ]
    },
    {
      "cell_type": "code",
      "metadata": {
        "id": "64mplo0K-PUC"
      },
      "source": [
        "def see_the_scope():\n",
        "    in_function_string = \"I'm stuck in here!\"\n",
        "\n",
        "see_the_scope()\n",
        "print in_function_string"
      ],
      "execution_count": null,
      "outputs": []
    },
    {
      "cell_type": "code",
      "metadata": {
        "colab": {
          "base_uri": "https://localhost:8080/",
          "height": 195
        },
        "id": "09hy6W3cFkU3",
        "outputId": "793ec102-d140-41b6-9d64-39b30878949e"
      },
      "source": [
        "def see_the_scope():\n",
        "    in_function_string = \"I'm stuck in here!\"\n",
        "\n",
        "see_the_scope() #No se puede imprimmir, pq la variable solo existe dentro de la función\n",
        "print (in_function_string)"
      ],
      "execution_count": 119,
      "outputs": [
        {
          "output_type": "error",
          "ename": "NameError",
          "evalue": "ignored",
          "traceback": [
            "\u001b[0;31m---------------------------------------------------------------------------\u001b[0m",
            "\u001b[0;31mNameError\u001b[0m                                 Traceback (most recent call last)",
            "\u001b[0;32m<ipython-input-119-baefc51bfd0d>\u001b[0m in \u001b[0;36m<module>\u001b[0;34m()\u001b[0m\n\u001b[1;32m      3\u001b[0m \u001b[0;34m\u001b[0m\u001b[0m\n\u001b[1;32m      4\u001b[0m \u001b[0msee_the_scope\u001b[0m\u001b[0;34m(\u001b[0m\u001b[0;34m)\u001b[0m \u001b[0;31m#No se puede imprimmir, pq la variable solo existe dentro de la función\u001b[0m\u001b[0;34m\u001b[0m\u001b[0;34m\u001b[0m\u001b[0m\n\u001b[0;32m----> 5\u001b[0;31m \u001b[0mprint\u001b[0m \u001b[0;34m(\u001b[0m\u001b[0min_function_string\u001b[0m\u001b[0;34m)\u001b[0m\u001b[0;34m\u001b[0m\u001b[0;34m\u001b[0m\u001b[0m\n\u001b[0m",
            "\u001b[0;31mNameError\u001b[0m: name 'in_function_string' is not defined"
          ]
        }
      ]
    },
    {
      "cell_type": "markdown",
      "metadata": {
        "id": "xWFVNLKR-PUC"
      },
      "source": [
        " The **scope** of a variable is the part of a block of code where that variable is tied to a particular value. Functions in Python have an enclosed scope, making it so that variables defined within them can only be accessed directly within them. If we pass those values to a return statement we can get them out of the function. This makes it so that the function call returns values so that you can store them in variables that have a greater scope.\n",
        " \n",
        "In this case specifically, including a return statement allows us to keep the string value that we define in the function."
      ]
    },
    {
      "cell_type": "code",
      "metadata": {
        "id": "vW7HjxYz-PUC"
      },
      "source": [
        "def free_the_scope():\n",
        "    in_function_string = \"Anything you can do I can do better!\"\n",
        "    return in_function_string\n",
        "my_string = free_the_scope()\n",
        "print my_string"
      ],
      "execution_count": null,
      "outputs": []
    },
    {
      "cell_type": "code",
      "metadata": {
        "colab": {
          "base_uri": "https://localhost:8080/"
        },
        "id": "X9FpAhWVGMgo",
        "outputId": "925965ef-4697-4347-c6dc-865075302c86"
      },
      "source": [
        "def liberar():\n",
        "    fu_cadena = \"Lo que tu hagas, lo haré mejor!\"\n",
        "    return fu_cadena\n",
        "mi_cadena =liberar()\n",
        "print (mi_cadena)"
      ],
      "execution_count": 121,
      "outputs": [
        {
          "output_type": "stream",
          "text": [
            "Lo que tu hagas, lo haré mejor!\n"
          ],
          "name": "stdout"
        }
      ]
    },
    {
      "cell_type": "markdown",
      "metadata": {
        "id": "5WfecaEJ-PUD"
      },
      "source": [
        "Just as we can get values out of a function, we can also put values into a function. We do this by defining our function with parameters."
      ]
    },
    {
      "cell_type": "code",
      "metadata": {
        "id": "97aVw6xY-PUD"
      },
      "source": [
        "def multiply_by_five(x):\n",
        "    \"\"\" Multiplies an input number by 5 \"\"\"\n",
        "    return x * 5\n",
        "\n",
        "n = 4\n",
        "print n\n",
        "print multiply_by_five(n)"
      ],
      "execution_count": null,
      "outputs": []
    },
    {
      "cell_type": "code",
      "metadata": {
        "colab": {
          "base_uri": "https://localhost:8080/"
        },
        "id": "uCyHo_yaGrX_",
        "outputId": "9c16b5a8-fc09-4f8c-ace3-7ee456e666b5"
      },
      "source": [
        "def multiplicar(x):\n",
        "    return x * 7\n",
        "\n",
        "num = 3\n",
        "print (num)\n",
        "print (multiplicar(num))"
      ],
      "execution_count": 123,
      "outputs": [
        {
          "output_type": "stream",
          "text": [
            "3\n",
            "21\n"
          ],
          "name": "stdout"
        }
      ]
    },
    {
      "cell_type": "markdown",
      "metadata": {
        "id": "RSO4VUMP-PUD"
      },
      "source": [
        "In this example we only had one parameter for our function, `x`. We can easily add more parameters, separating everything with a comma."
      ]
    },
    {
      "cell_type": "code",
      "metadata": {
        "id": "Qim9lb6J-PUD"
      },
      "source": [
        "def calculate_area(length, width):\n",
        "    \"\"\" Calculates the area of a rectangle \"\"\"\n",
        "    return length * width"
      ],
      "execution_count": null,
      "outputs": []
    },
    {
      "cell_type": "code",
      "metadata": {
        "id": "GO2pW8m2-PUE"
      },
      "source": [
        "l = 5\n",
        "w = 10\n",
        "print 'Area: ', calculate_area(l, w)\n",
        "print 'Length: ', l\n",
        "print 'Width: ', w"
      ],
      "execution_count": null,
      "outputs": []
    },
    {
      "cell_type": "code",
      "metadata": {
        "id": "7Mp0kO4M-PUE"
      },
      "source": [
        "def calculate_volume(length, width, depth):\n",
        "    \"\"\" Calculates the volume of a rectangular prism \"\"\"\n",
        "    return length * width * depth"
      ],
      "execution_count": null,
      "outputs": []
    },
    {
      "cell_type": "code",
      "metadata": {
        "id": "5hFXftrTG9es"
      },
      "source": [
        "def area(altura, base):\n",
        "    return altura * base"
      ],
      "execution_count": 124,
      "outputs": []
    },
    {
      "cell_type": "code",
      "metadata": {
        "colab": {
          "base_uri": "https://localhost:8080/"
        },
        "id": "G_B_tpVtG9Tf",
        "outputId": "648bb7bb-f9c8-497e-8998-7bddf50e6877"
      },
      "source": [
        "a = 5\n",
        "b = 10\n",
        "print ('Area: ', area(a, b))\n",
        "print ('Altura: ', a)\n",
        "print ('Base: ', b)"
      ],
      "execution_count": 125,
      "outputs": [
        {
          "output_type": "stream",
          "text": [
            "Area:  50\n",
            "Altura:  5\n",
            "Base:  10\n"
          ],
          "name": "stdout"
        }
      ]
    },
    {
      "cell_type": "code",
      "metadata": {
        "id": "FmTeduwUG9Gg"
      },
      "source": [
        "def volumen(altura, base, profundidad):\n",
        "    return altura * base * profundidad"
      ],
      "execution_count": 131,
      "outputs": []
    },
    {
      "cell_type": "code",
      "metadata": {
        "colab": {
          "base_uri": "https://localhost:8080/"
        },
        "id": "2OfMIKLLHelB",
        "outputId": "83197e67-1145-405c-a9fa-a7830d9ef528"
      },
      "source": [
        "a = 5\n",
        "b = 10\n",
        "p = 15\n",
        "print ('Volumen: ', volumen (a, b, p))\n",
        "print ('Altura: ', a)\n",
        "print ('Base: ', b)\n",
        "print ('Profundidad: ', p)"
      ],
      "execution_count": 132,
      "outputs": [
        {
          "output_type": "stream",
          "text": [
            "Volumen:  750\n",
            "Altura:  5\n",
            "Base:  10\n",
            "Profundidad:  15\n"
          ],
          "name": "stdout"
        }
      ]
    },
    {
      "cell_type": "markdown",
      "metadata": {
        "id": "WHz2oobT-PUE"
      },
      "source": [
        "If we want to, we can define a function so that it takes an arbitrary number of parameters. We tell Python that we want this by using an asterisk (`*`)."
      ]
    },
    {
      "cell_type": "code",
      "metadata": {
        "id": "KKLANWef-PUE"
      },
      "source": [
        "def sum_values(*args):\n",
        "    sum_val = 0\n",
        "    for i in args:\n",
        "        sum_val += i\n",
        "    return sum_val"
      ],
      "execution_count": null,
      "outputs": []
    },
    {
      "cell_type": "code",
      "metadata": {
        "id": "eFNduWAu-PUF"
      },
      "source": [
        "print sum_values(1, 2, 3)\n",
        "print sum_values(10, 20, 30, 40, 50)\n",
        "print sum_values(4, 2, 5, 1, 10, 249, 25, 24, 13, 6, 4)"
      ],
      "execution_count": null,
      "outputs": []
    },
    {
      "cell_type": "code",
      "metadata": {
        "id": "-g4zz-peIBcS"
      },
      "source": [
        "def suma(*args):\n",
        "    sum_val = 0\n",
        "    for i in args:\n",
        "        sum_val += i\n",
        "    return sum_val"
      ],
      "execution_count": 133,
      "outputs": []
    },
    {
      "cell_type": "code",
      "metadata": {
        "colab": {
          "base_uri": "https://localhost:8080/"
        },
        "id": "LVc1JpT3IBRo",
        "outputId": "f0253d00-547f-4569-e086-fca400605e45"
      },
      "source": [
        "print (suma(4, 5, 6))\n",
        "print (suma(70, 60, 30, 40, 50))\n",
        "print (suma(7, 13, 21, 46, 2, 152, 11, 43, 58, 98, 56))"
      ],
      "execution_count": 135,
      "outputs": [
        {
          "output_type": "stream",
          "text": [
            "15\n",
            "250\n",
            "507\n"
          ],
          "name": "stdout"
        }
      ]
    },
    {
      "cell_type": "markdown",
      "metadata": {
        "id": "WhzCMU6V-PUG"
      },
      "source": [
        "The time to use `*args` as a parameter for your function is when you do not know how many values may be passed to it, as in the case of our sum function. The asterisk in this case is the syntax that tells Python that you are going to pass an arbitrary number of parameters into your function. These parameters are stored in the form of a tuple."
      ]
    },
    {
      "cell_type": "code",
      "metadata": {
        "id": "q3JgUkQg-PUG"
      },
      "source": [
        "def test_args(*args):\n",
        "    print type(args)\n",
        "\n",
        "test_args(1, 2, 3, 4, 5, 6)"
      ],
      "execution_count": null,
      "outputs": []
    },
    {
      "cell_type": "code",
      "metadata": {
        "colab": {
          "base_uri": "https://localhost:8080/"
        },
        "id": "9zn-QgyzIhNy",
        "outputId": "9b90249d-f5bd-4b6d-874e-7fbef20f346c"
      },
      "source": [
        "def test(*args):\n",
        "    print (type(args))\n",
        "\n",
        "test(1, 2, 'perro', True, 5, 6.0)"
      ],
      "execution_count": 142,
      "outputs": [
        {
          "output_type": "stream",
          "text": [
            "<class 'tuple'>\n"
          ],
          "name": "stdout"
        }
      ]
    },
    {
      "cell_type": "markdown",
      "metadata": {
        "id": "etBDqO_2-PUG"
      },
      "source": [
        "We can put as many elements into the `args` tuple as we want to when we call the function. However, because `args` is a tuple, we cannot modify it after it has been created.\n",
        "\n",
        "The `args` name of the variable is purely by convention. You could just as easily name your parameter `*vars` or `*things`. You can treat the `args` tuple like you would any other tuple, easily accessing `arg`'s values and iterating over it, as in the above `sum_values(*args)` function."
      ]
    },
    {
      "cell_type": "markdown",
      "metadata": {
        "id": "eNFQ2ZAN-PUH"
      },
      "source": [
        "Our functions can return any data type. This makes it easy for us to create functions that check for conditions that we might want to monitor.\n",
        "\n",
        "Here we define a function that returns a boolean value. We can easily use this in conjunction with if-statements and  other situations that require a boolean."
      ]
    },
    {
      "cell_type": "code",
      "metadata": {
        "id": "fxKw9qiw-PUH"
      },
      "source": [
        "def has_a_vowel(word):\n",
        "    \"\"\" \n",
        "    Checks to see whether a word contains a vowel \n",
        "    If it doesn't contain a conventional vowel, it\n",
        "    will check for the presence of 'y' or 'w'. Does\n",
        "    not check to see whether those are in the word\n",
        "    in a vowel context.\n",
        "    \"\"\"\n",
        "    vowel_list = ['a', 'e', 'i', 'o', 'u']\n",
        "    \n",
        "    for vowel in vowel_list:\n",
        "        if vowel in word:\n",
        "            return True\n",
        "    # If there is a vowel in the word, the function returns, preventing anything after this loop from running\n",
        "    return False"
      ],
      "execution_count": null,
      "outputs": []
    },
    {
      "cell_type": "code",
      "metadata": {
        "id": "4LSI7HvJ-PUH"
      },
      "source": [
        "my_word = 'catnapping'\n",
        "if has_a_vowel(my_word):\n",
        "    print 'How surprising, an english word contains a vowel.'\n",
        "else:\n",
        "    print 'This is actually surprising.'"
      ],
      "execution_count": null,
      "outputs": []
    },
    {
      "cell_type": "code",
      "metadata": {
        "id": "fFbQ1k3z-PUH"
      },
      "source": [
        "def point_maker(x, y):\n",
        "    \"\"\" Groups x and y values into a point, technically a tuple \"\"\"\n",
        "    return x, y"
      ],
      "execution_count": 144,
      "outputs": []
    },
    {
      "cell_type": "code",
      "metadata": {
        "id": "r8pjqzH6JiXd"
      },
      "source": [
        "def impar(n):\n",
        "  if n % 2 == 0:\n",
        "    return True\n",
        "  else:\n",
        "    return False"
      ],
      "execution_count": 148,
      "outputs": []
    },
    {
      "cell_type": "code",
      "metadata": {
        "colab": {
          "base_uri": "https://localhost:8080/"
        },
        "id": "yDC6d0O6TiYk",
        "outputId": "a32143b7-bdbe-4fa6-fa62-14f66729c431"
      },
      "source": [
        "num = 5\n",
        "if impar(num):\n",
        "  print (num, ' Es un número par')\n",
        "else:\n",
        "  print (num, ' Es un número impar')"
      ],
      "execution_count": 155,
      "outputs": [
        {
          "output_type": "stream",
          "text": [
            "5  Es un número impar\n"
          ],
          "name": "stdout"
        }
      ]
    },
    {
      "cell_type": "markdown",
      "metadata": {
        "id": "gYEcpa2N-PUI"
      },
      "source": [
        "This above function returns an ordered pair of the input parameters, stored as a tuple."
      ]
    },
    {
      "cell_type": "code",
      "metadata": {
        "scrolled": true,
        "id": "L6F_WzQN-PUI"
      },
      "source": [
        "a = point_maker(0, 10)\n",
        "b = point_maker(5, 3)\n",
        "def calculate_slope(point_a, point_b):\n",
        "    \"\"\" Calculates the linear slope between two points \"\"\"\n",
        "    return (point_b[1] - point_a[1])/(point_b[0] - point_a[0])\n",
        "print \"The slope between a and b is {0}\".format(calculate_slope(a, b))"
      ],
      "execution_count": null,
      "outputs": []
    },
    {
      "cell_type": "code",
      "metadata": {
        "colab": {
          "base_uri": "https://localhost:8080/"
        },
        "id": "nEhdV44dUQKk",
        "outputId": "1364ad33-1f1f-4fd5-aa20-de63a42dc87a"
      },
      "source": [
        "xi = point_maker(5, 13)\n",
        "yi = point_maker(7, 3)\n",
        "def pendiente(xo, yo):\n",
        "    return (yo[1] - xo[1])/(yo[0] - xo[0])\n",
        "print (\"La pendiente entra a y b es {0}\".format(pendiente(xi, yi)))"
      ],
      "execution_count": 156,
      "outputs": [
        {
          "output_type": "stream",
          "text": [
            "La pendiente entra a y b es -5.0\n"
          ],
          "name": "stdout"
        }
      ]
    },
    {
      "cell_type": "markdown",
      "metadata": {
        "id": "qbCHX95S-PUI"
      },
      "source": [
        "And that one calculates the slope between two points!"
      ]
    },
    {
      "cell_type": "code",
      "metadata": {
        "id": "bgeZcQJR-PUI"
      },
      "source": [
        "print \"The slope-intercept form of the line between a and b, using point a, is: y - {0} = {2}(x - {1})\".format(a[1], a[0], calculate_slope(a, b))"
      ],
      "execution_count": null,
      "outputs": []
    },
    {
      "cell_type": "code",
      "metadata": {
        "colab": {
          "base_uri": "https://localhost:8080/"
        },
        "id": "wLUztOzFU9Px",
        "outputId": "69d0e090-b4e4-4102-b626-acd22979d946"
      },
      "source": [
        "print (\"La ecuación de la recta entre a y b es: y - {0} = {2}(x - {1})\".format(xi[1], xi[0], pendiente(xi, yi)))"
      ],
      "execution_count": 160,
      "outputs": [
        {
          "output_type": "stream",
          "text": [
            "La ecuación de la recta entre a y b es: y - 13 = -5.0(x - 5)\n"
          ],
          "name": "stdout"
        }
      ]
    },
    {
      "cell_type": "markdown",
      "metadata": {
        "id": "NxsZj3OK-PUJ"
      },
      "source": [
        "With the proper syntax, you can define functions to do whatever calculations you want. This makes them an indispensible part of programming in any language."
      ]
    },
    {
      "cell_type": "markdown",
      "metadata": {
        "id": "yX_FrB1U-PUJ"
      },
      "source": [
        "## Next Steps\n",
        "\n",
        "This was a lot of material and there is still even more to cover! Make sure you play around with the cells in each notebook to accustom yourself to the syntax featured here and to figure out any limitations. If you want to delve even deeper into the material, the [documentation for Python](https://docs.python.org/2/) is all available online. We are in the process of developing a second part to this Python tutorial, designed to provide you with even more programming knowledge, so keep an eye on the [Quantopian Lectures Page](quantopian.com/lectures) and the [forums](quantopian.com/posts) for any new lectures."
      ]
    },
    {
      "cell_type": "markdown",
      "metadata": {
        "id": "ECCYfNar-PUJ"
      },
      "source": [
        "*This presentation is for informational purposes only and does not constitute an offer to sell, a solicitation to buy, or a recommendation for any security; nor does it constitute an offer to provide investment advisory or other services by Quantopian, Inc. (\"Quantopian\"). Nothing contained herein constitutes investment advice or offers any opinion with respect to the suitability of any security, and any views expressed herein should not be taken as advice to buy, sell, or hold any security or as an endorsement of any security or company.  In preparing the information contained herein, Quantopian, Inc. has not taken into account the investment needs, objectives, and financial circumstances of any particular investor. Any views expressed and data illustrated herein were prepared based upon information, believed to be reliable, available to Quantopian, Inc. at the time of publication. Quantopian makes no guarantees as to their accuracy or completeness. All information is subject to change and may quickly become unreliable for various reasons, including changes in market conditions or economic circumstances.*"
      ]
    }
  ]
}